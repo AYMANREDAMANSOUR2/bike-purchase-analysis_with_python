{
 "cells": [
  {
   "cell_type": "code",
   "execution_count": 2,
   "metadata": {},
   "outputs": [
    {
     "name": "stdout",
     "output_type": "stream",
     "text": [
      "<class 'pandas.core.frame.DataFrame'>\n",
      "RangeIndex: 1026 entries, 0 to 1025\n",
      "Data columns (total 13 columns):\n",
      " #   Column            Non-Null Count  Dtype \n",
      "---  ------            --------------  ----- \n",
      " 0   ID                1026 non-null   int64 \n",
      " 1   Marital Status    1026 non-null   object\n",
      " 2   Gender            1026 non-null   object\n",
      " 3    Income           1025 non-null   object\n",
      " 4   Children          1026 non-null   object\n",
      " 5   Education         1017 non-null   object\n",
      " 6   Occupation        1024 non-null   object\n",
      " 7   Home Owner        1026 non-null   object\n",
      " 8   Cars              1026 non-null   int64 \n",
      " 9   Commute Distance  1026 non-null   object\n",
      " 10  Region            1024 non-null   object\n",
      " 11  Age               1026 non-null   int64 \n",
      " 12  Purchased Bike    1026 non-null   object\n",
      "dtypes: int64(3), object(10)\n",
      "memory usage: 104.3+ KB\n"
     ]
    }
   ],
   "source": [
    "import pandas as pd\n",
    "import numpy as np\n",
    "import seaborn as sns\n",
    "import matplotlib.pyplot as plt\n",
    "import plotly.express as px\n",
    "\n",
    "data = pd.read_csv('dataset.csv')\n",
    "data.info()\n",
    "pd.options.display.max_rows = None\n",
    "pd.options.display.max_columns = None\n",
    "\n"
   ]
  },
  {
   "cell_type": "code",
   "execution_count": 3,
   "metadata": {},
   "outputs": [
    {
     "data": {
      "text/html": [
       "<div>\n",
       "<style scoped>\n",
       "    .dataframe tbody tr th:only-of-type {\n",
       "        vertical-align: middle;\n",
       "    }\n",
       "\n",
       "    .dataframe tbody tr th {\n",
       "        vertical-align: top;\n",
       "    }\n",
       "\n",
       "    .dataframe thead th {\n",
       "        text-align: right;\n",
       "    }\n",
       "</style>\n",
       "<table border=\"1\" class=\"dataframe\">\n",
       "  <thead>\n",
       "    <tr style=\"text-align: right;\">\n",
       "      <th></th>\n",
       "      <th>ID</th>\n",
       "      <th>Marital Status</th>\n",
       "      <th>Gender</th>\n",
       "      <th>Income</th>\n",
       "      <th>Children</th>\n",
       "      <th>Education</th>\n",
       "      <th>Occupation</th>\n",
       "      <th>Home Owner</th>\n",
       "      <th>Cars</th>\n",
       "      <th>Commute Distance</th>\n",
       "      <th>Region</th>\n",
       "      <th>Age</th>\n",
       "      <th>Purchased Bike</th>\n",
       "    </tr>\n",
       "  </thead>\n",
       "  <tbody>\n",
       "    <tr>\n",
       "      <th>721</th>\n",
       "      <td>13287</td>\n",
       "      <td>S</td>\n",
       "      <td>M</td>\n",
       "      <td>$110,000</td>\n",
       "      <td>4</td>\n",
       "      <td>Bachelors</td>\n",
       "      <td>Management</td>\n",
       "      <td>Yes</td>\n",
       "      <td>4</td>\n",
       "      <td>5-10 Miles</td>\n",
       "      <td>North America</td>\n",
       "      <td>42</td>\n",
       "      <td>Yes</td>\n",
       "    </tr>\n",
       "    <tr>\n",
       "      <th>195</th>\n",
       "      <td>25559</td>\n",
       "      <td>S</td>\n",
       "      <td>M</td>\n",
       "      <td>$20,000</td>\n",
       "      <td>0</td>\n",
       "      <td>Bachelors</td>\n",
       "      <td>Clerical</td>\n",
       "      <td>Yes</td>\n",
       "      <td>0</td>\n",
       "      <td>0-1 Miles</td>\n",
       "      <td>Pacific</td>\n",
       "      <td>25</td>\n",
       "      <td>Yes</td>\n",
       "    </tr>\n",
       "    <tr>\n",
       "      <th>244</th>\n",
       "      <td>19057</td>\n",
       "      <td>M</td>\n",
       "      <td>F</td>\n",
       "      <td>$120,000</td>\n",
       "      <td>3</td>\n",
       "      <td>Bachelors</td>\n",
       "      <td>Management</td>\n",
       "      <td>No</td>\n",
       "      <td>2</td>\n",
       "      <td>10+ Miles</td>\n",
       "      <td>Europe</td>\n",
       "      <td>52</td>\n",
       "      <td>Yes</td>\n",
       "    </tr>\n",
       "    <tr>\n",
       "      <th>344</th>\n",
       "      <td>17848</td>\n",
       "      <td>S</td>\n",
       "      <td>M</td>\n",
       "      <td>$30,000</td>\n",
       "      <td>0</td>\n",
       "      <td>Partial College</td>\n",
       "      <td>Clerical</td>\n",
       "      <td>No</td>\n",
       "      <td>1</td>\n",
       "      <td>2-5 Miles</td>\n",
       "      <td>Europe</td>\n",
       "      <td>31</td>\n",
       "      <td>Yes</td>\n",
       "    </tr>\n",
       "    <tr>\n",
       "      <th>214</th>\n",
       "      <td>25553</td>\n",
       "      <td>M</td>\n",
       "      <td>M</td>\n",
       "      <td>$30,000</td>\n",
       "      <td>1</td>\n",
       "      <td>Bachelors</td>\n",
       "      <td>Clerical</td>\n",
       "      <td>Yes</td>\n",
       "      <td>0</td>\n",
       "      <td>0-1 Miles</td>\n",
       "      <td>Europe</td>\n",
       "      <td>65</td>\n",
       "      <td>Yes</td>\n",
       "    </tr>\n",
       "    <tr>\n",
       "      <th>63</th>\n",
       "      <td>16185</td>\n",
       "      <td>S</td>\n",
       "      <td>M</td>\n",
       "      <td>$60,000</td>\n",
       "      <td>4</td>\n",
       "      <td>Bachelors</td>\n",
       "      <td>Professional</td>\n",
       "      <td>Yes</td>\n",
       "      <td>3</td>\n",
       "      <td>10+ Miles</td>\n",
       "      <td>Pacific</td>\n",
       "      <td>41</td>\n",
       "      <td>No</td>\n",
       "    </tr>\n",
       "    <tr>\n",
       "      <th>938</th>\n",
       "      <td>27740</td>\n",
       "      <td>M</td>\n",
       "      <td>F</td>\n",
       "      <td>$40,000</td>\n",
       "      <td>0</td>\n",
       "      <td>High School</td>\n",
       "      <td>Skilled Manual</td>\n",
       "      <td>Yes</td>\n",
       "      <td>2</td>\n",
       "      <td>5-10 Miles</td>\n",
       "      <td>North America</td>\n",
       "      <td>27</td>\n",
       "      <td>No</td>\n",
       "    </tr>\n",
       "    <tr>\n",
       "      <th>633</th>\n",
       "      <td>22088</td>\n",
       "      <td>M</td>\n",
       "      <td>F</td>\n",
       "      <td>$130,000</td>\n",
       "      <td>1</td>\n",
       "      <td>Bachelors</td>\n",
       "      <td>Management</td>\n",
       "      <td>Yes</td>\n",
       "      <td>2</td>\n",
       "      <td>0-1 Miles</td>\n",
       "      <td>North America</td>\n",
       "      <td>45</td>\n",
       "      <td>Yes</td>\n",
       "    </tr>\n",
       "    <tr>\n",
       "      <th>625</th>\n",
       "      <td>22127</td>\n",
       "      <td>M</td>\n",
       "      <td>M</td>\n",
       "      <td>$60,000</td>\n",
       "      <td>3</td>\n",
       "      <td>Graduate Degree</td>\n",
       "      <td>Management</td>\n",
       "      <td>Yes</td>\n",
       "      <td>2</td>\n",
       "      <td>1-2 Miles</td>\n",
       "      <td>North America</td>\n",
       "      <td>67</td>\n",
       "      <td>No</td>\n",
       "    </tr>\n",
       "    <tr>\n",
       "      <th>308</th>\n",
       "      <td>28758</td>\n",
       "      <td>M</td>\n",
       "      <td>M</td>\n",
       "      <td>$40,000</td>\n",
       "      <td>2</td>\n",
       "      <td>Partial College</td>\n",
       "      <td>Clerical</td>\n",
       "      <td>Yes</td>\n",
       "      <td>1</td>\n",
       "      <td>1-2 Miles</td>\n",
       "      <td>Europe</td>\n",
       "      <td>35</td>\n",
       "      <td>Yes</td>\n",
       "    </tr>\n",
       "  </tbody>\n",
       "</table>\n",
       "</div>"
      ],
      "text/plain": [
       "        ID Marital Status Gender     Income  Children        Education  \\\n",
       "721  13287              S      M   $110,000         4        Bachelors   \n",
       "195  25559              S      M    $20,000         0        Bachelors   \n",
       "244  19057              M      F   $120,000         3        Bachelors   \n",
       "344  17848              S      M    $30,000         0  Partial College   \n",
       "214  25553              M      M    $30,000         1        Bachelors   \n",
       "63   16185              S      M    $60,000         4        Bachelors   \n",
       "938  27740              M      F    $40,000         0      High School   \n",
       "633  22088              M      F   $130,000         1        Bachelors   \n",
       "625  22127              M      M    $60,000         3  Graduate Degree   \n",
       "308  28758              M      M    $40,000         2  Partial College   \n",
       "\n",
       "         Occupation Home Owner  Cars Commute Distance         Region  Age  \\\n",
       "721      Management        Yes     4       5-10 Miles  North America   42   \n",
       "195        Clerical        Yes     0        0-1 Miles        Pacific   25   \n",
       "244      Management         No     2        10+ Miles         Europe   52   \n",
       "344        Clerical         No     1        2-5 Miles         Europe   31   \n",
       "214        Clerical        Yes     0        0-1 Miles         Europe   65   \n",
       "63     Professional        Yes     3        10+ Miles        Pacific   41   \n",
       "938  Skilled Manual        Yes     2       5-10 Miles  North America   27   \n",
       "633      Management        Yes     2        0-1 Miles  North America   45   \n",
       "625      Management        Yes     2        1-2 Miles  North America   67   \n",
       "308        Clerical        Yes     1        1-2 Miles         Europe   35   \n",
       "\n",
       "    Purchased Bike  \n",
       "721            Yes  \n",
       "195            Yes  \n",
       "244            Yes  \n",
       "344            Yes  \n",
       "214            Yes  \n",
       "63              No  \n",
       "938             No  \n",
       "633            Yes  \n",
       "625             No  \n",
       "308            Yes  "
      ]
     },
     "execution_count": 3,
     "metadata": {},
     "output_type": "execute_result"
    }
   ],
   "source": [
    "data.sample(10)"
   ]
  },
  {
   "cell_type": "markdown",
   "metadata": {},
   "source": [
    "Exploring the data "
   ]
  },
  {
   "cell_type": "code",
   "execution_count": 4,
   "metadata": {},
   "outputs": [
    {
     "name": "stdout",
     "output_type": "stream",
     "text": [
      "      ID Marital Status Gender    Income  Children        Education  \\\n",
      "0  12496              M      F   $40,000         1        Bachelors   \n",
      "1  24107              M      M   $30,000         3  Partial College   \n",
      "2  14177        married   Male   $80,000         5  Partial College   \n",
      "3  24381              S   Male   $70,000         0        Bachelors   \n",
      "4  25597              S      M        NaN        0        Bachelors   \n",
      "\n",
      "       Occupation Home Owner  Cars Commute Distance   Region  Age  \\\n",
      "0  Skilled Manual        Yes     0        0-1 Miles   Europe   42   \n",
      "1        Clerical        Yes     1        0-1 Miles   Europe   43   \n",
      "2    Professional         No     2        2-5 Miles   Europe   60   \n",
      "3    Professional        Yes     1       5-10 Miles  Pacific   41   \n",
      "4        Clerical         No     0        0-1 Miles   Europe   36   \n",
      "\n",
      "  Purchased Bike  \n",
      "0              N  \n",
      "1             No  \n",
      "2             No  \n",
      "3              Y  \n",
      "4            Yes  \n",
      "<class 'pandas.core.frame.DataFrame'>\n",
      "RangeIndex: 1026 entries, 0 to 1025\n",
      "Data columns (total 13 columns):\n",
      " #   Column            Non-Null Count  Dtype \n",
      "---  ------            --------------  ----- \n",
      " 0   ID                1026 non-null   int64 \n",
      " 1   Marital Status    1026 non-null   object\n",
      " 2   Gender            1026 non-null   object\n",
      " 3    Income           1025 non-null   object\n",
      " 4   Children          1026 non-null   object\n",
      " 5   Education         1017 non-null   object\n",
      " 6   Occupation        1024 non-null   object\n",
      " 7   Home Owner        1026 non-null   object\n",
      " 8   Cars              1026 non-null   int64 \n",
      " 9   Commute Distance  1026 non-null   object\n",
      " 10  Region            1024 non-null   object\n",
      " 11  Age               1026 non-null   int64 \n",
      " 12  Purchased Bike    1026 non-null   object\n",
      "dtypes: int64(3), object(10)\n",
      "memory usage: 104.3+ KB\n",
      "None\n",
      "Index(['ID', 'Marital Status', 'Gender', ' Income ', 'Children', 'Education',\n",
      "       'Occupation', 'Home Owner', 'Cars', 'Commute Distance', 'Region', 'Age',\n",
      "       'Purchased Bike'],\n",
      "      dtype='object')\n",
      "                 ID         Cars          Age\n",
      "count   1026.000000  1026.000000  1026.000000\n",
      "mean   19969.196881     1.437622    44.138402\n",
      "std     5332.672942     1.125538    11.349282\n",
      "min    11000.000000     0.000000    25.000000\n",
      "25%    15304.750000     1.000000    35.000000\n",
      "50%    19744.000000     1.000000    43.000000\n",
      "75%    24457.750000     2.000000    52.000000\n",
      "max    29447.000000     4.000000    89.000000 \n",
      "\n"
     ]
    }
   ],
   "source": [
    "# the first 5 rows of the data\n",
    "print(data.head()) \n",
    "\n",
    "# summary information about the data including data types and non-null values\n",
    "print(data.info())\n",
    "\n",
    "\n",
    "# the column names of the data\n",
    "print(data.columns)\n",
    "\n",
    "# descripe statistics of the data\n",
    "print(data.describe(), \"\\n\")"
   ]
  },
  {
   "cell_type": "code",
   "execution_count": 5,
   "metadata": {},
   "outputs": [
    {
     "name": "stdout",
     "output_type": "stream",
     "text": [
      "['married' 'single']\n",
      "0     40000.0\n",
      "1     30000.0\n",
      "2     80000.0\n",
      "3     70000.0\n",
      "4         NaN\n",
      "5     10000.0\n",
      "6    160000.0\n",
      "7     40000.0\n",
      "8     20000.0\n",
      "9    120000.0\n",
      "Name:  Income , dtype: float64\n"
     ]
    }
   ],
   "source": [
    "# Function to fix 'Marital Status' column values\n",
    "\n",
    "def fix_Marital(status):\n",
    "    return \"married\" if str(status).strip().lower() in [\"m\", \"married\"] else \"single\"\n",
    "\n",
    "\n",
    "data[\"Marital Status\"]=data[\"Marital Status\"].apply(fix_Marital) # apply the function to the column\n",
    "# check the unique values in the 'Marital Status' column\n",
    "print(data[\"Marital Status\"].unique())\n",
    "\n",
    "# we will remove $ and , from the 'Income' column\n",
    "data[' Income '] = data[' Income '].astype(str).str.replace('$', '', regex=False).str.replace(',', '', regex=False)\n",
    "# we must convert the 'Income' column to numeric type for analysis after cleaning the data not before\n",
    "\n",
    "# convert income data type to numeric \n",
    "data[' Income '] = pd.to_numeric(data[' Income '], errors='coerce')\n",
    "\n",
    "print (data[' Income '].head(10)) # check the first 5 rows of the 'Income' column"
   ]
  },
  {
   "cell_type": "code",
   "execution_count": 6,
   "metadata": {},
   "outputs": [
    {
     "data": {
      "text/html": [
       "<div>\n",
       "<style scoped>\n",
       "    .dataframe tbody tr th:only-of-type {\n",
       "        vertical-align: middle;\n",
       "    }\n",
       "\n",
       "    .dataframe tbody tr th {\n",
       "        vertical-align: top;\n",
       "    }\n",
       "\n",
       "    .dataframe thead th {\n",
       "        text-align: right;\n",
       "    }\n",
       "</style>\n",
       "<table border=\"1\" class=\"dataframe\">\n",
       "  <thead>\n",
       "    <tr style=\"text-align: right;\">\n",
       "      <th></th>\n",
       "      <th>ID</th>\n",
       "      <th>Marital Status</th>\n",
       "      <th>Gender</th>\n",
       "      <th>Income</th>\n",
       "      <th>Children</th>\n",
       "      <th>Education</th>\n",
       "      <th>Occupation</th>\n",
       "      <th>Home Owner</th>\n",
       "      <th>Cars</th>\n",
       "      <th>Commute Distance</th>\n",
       "      <th>Region</th>\n",
       "      <th>Age</th>\n",
       "      <th>Purchased Bike</th>\n",
       "    </tr>\n",
       "  </thead>\n",
       "  <tbody>\n",
       "    <tr>\n",
       "      <th>689</th>\n",
       "      <td>16725</td>\n",
       "      <td>married</td>\n",
       "      <td>M</td>\n",
       "      <td>30000.0</td>\n",
       "      <td>0</td>\n",
       "      <td>High School</td>\n",
       "      <td>Skilled Manual</td>\n",
       "      <td>Yes</td>\n",
       "      <td>2</td>\n",
       "      <td>5-10 Miles</td>\n",
       "      <td>North America</td>\n",
       "      <td>26</td>\n",
       "      <td>No</td>\n",
       "    </tr>\n",
       "    <tr>\n",
       "      <th>90</th>\n",
       "      <td>26886</td>\n",
       "      <td>single</td>\n",
       "      <td>F</td>\n",
       "      <td>30000.0</td>\n",
       "      <td>0</td>\n",
       "      <td>Partial College</td>\n",
       "      <td>Clerical</td>\n",
       "      <td>No</td>\n",
       "      <td>1</td>\n",
       "      <td>0-1 Miles</td>\n",
       "      <td>Europe</td>\n",
       "      <td>29</td>\n",
       "      <td>Yes</td>\n",
       "    </tr>\n",
       "    <tr>\n",
       "      <th>638</th>\n",
       "      <td>18949</td>\n",
       "      <td>single</td>\n",
       "      <td>M</td>\n",
       "      <td>70000.0</td>\n",
       "      <td>0</td>\n",
       "      <td>Graduate Degree</td>\n",
       "      <td>Management</td>\n",
       "      <td>Yes</td>\n",
       "      <td>2</td>\n",
       "      <td>5-10 Miles</td>\n",
       "      <td>North America</td>\n",
       "      <td>74</td>\n",
       "      <td>Yes</td>\n",
       "    </tr>\n",
       "  </tbody>\n",
       "</table>\n",
       "</div>"
      ],
      "text/plain": [
       "        ID Marital Status Gender   Income  Children        Education  \\\n",
       "689  16725        married      M   30000.0        0      High School   \n",
       "90   26886         single      F   30000.0        0  Partial College   \n",
       "638  18949         single      M   70000.0        0  Graduate Degree   \n",
       "\n",
       "         Occupation Home Owner  Cars Commute Distance         Region  Age  \\\n",
       "689  Skilled Manual        Yes     2       5-10 Miles  North America   26   \n",
       "90         Clerical         No     1        0-1 Miles         Europe   29   \n",
       "638      Management        Yes     2       5-10 Miles  North America   74   \n",
       "\n",
       "    Purchased Bike  \n",
       "689             No  \n",
       "90             Yes  \n",
       "638            Yes  "
      ]
     },
     "execution_count": 6,
     "metadata": {},
     "output_type": "execute_result"
    }
   ],
   "source": [
    "data.sample(3) # check the data types of the columns after cleaning"
   ]
  },
  {
   "cell_type": "code",
   "execution_count": 7,
   "metadata": {},
   "outputs": [
    {
     "name": "stdout",
     "output_type": "stream",
     "text": [
      "[1 3 5 0 2 4]\n"
     ]
    }
   ],
   "source": [
    "# Function to standardize 'Children' column values\n",
    "def fix_Children(a):\n",
    "    lookup = {\n",
    "        \"zero\": 0,          \"0\": 0,\n",
    "        \"one\": 1,           \"1\": 1,\n",
    "        \"two\": 2,           \"2\": 2,\n",
    "        \"three\": 3,         \"3\": 3,\n",
    "        \"four\": 4,          \"4\": 4,\n",
    "        \"five\": 5,           \"5\": 5,\n",
    "        \"six\": 6,             \"6\": 6\n",
    "    }\n",
    "    return lookup.get(str(a).strip().lower(), 0) # default to 0 if not found\n",
    "\n",
    "    \n",
    "data['Children' ] = data['Children'].apply(fix_Children).astype(int)\n",
    "\n",
    "print(data['Children'].unique()) # check the unique values in the 'Children' column\n",
    "\n",
    "\n"
   ]
  },
  {
   "cell_type": "code",
   "execution_count": 8,
   "metadata": {},
   "outputs": [
    {
     "data": {
      "text/html": [
       "<div>\n",
       "<style scoped>\n",
       "    .dataframe tbody tr th:only-of-type {\n",
       "        vertical-align: middle;\n",
       "    }\n",
       "\n",
       "    .dataframe tbody tr th {\n",
       "        vertical-align: top;\n",
       "    }\n",
       "\n",
       "    .dataframe thead th {\n",
       "        text-align: right;\n",
       "    }\n",
       "</style>\n",
       "<table border=\"1\" class=\"dataframe\">\n",
       "  <thead>\n",
       "    <tr style=\"text-align: right;\">\n",
       "      <th></th>\n",
       "      <th>ID</th>\n",
       "      <th>Marital Status</th>\n",
       "      <th>Gender</th>\n",
       "      <th>Income</th>\n",
       "      <th>Children</th>\n",
       "      <th>Education</th>\n",
       "      <th>Occupation</th>\n",
       "      <th>Home Owner</th>\n",
       "      <th>Cars</th>\n",
       "      <th>Commute Distance</th>\n",
       "      <th>Region</th>\n",
       "      <th>Age</th>\n",
       "      <th>Purchased Bike</th>\n",
       "    </tr>\n",
       "  </thead>\n",
       "  <tbody>\n",
       "    <tr>\n",
       "      <th>1022</th>\n",
       "      <td>19273</td>\n",
       "      <td>married</td>\n",
       "      <td>F</td>\n",
       "      <td>20000.0</td>\n",
       "      <td>2</td>\n",
       "      <td>Partial College</td>\n",
       "      <td>Manual</td>\n",
       "      <td>Yes</td>\n",
       "      <td>0</td>\n",
       "      <td>0-1 Miles</td>\n",
       "      <td>Europe</td>\n",
       "      <td>63</td>\n",
       "      <td>No</td>\n",
       "    </tr>\n",
       "    <tr>\n",
       "      <th>526</th>\n",
       "      <td>15382</td>\n",
       "      <td>married</td>\n",
       "      <td>F</td>\n",
       "      <td>110000.0</td>\n",
       "      <td>1</td>\n",
       "      <td>Bachelors</td>\n",
       "      <td>Management</td>\n",
       "      <td>Yes</td>\n",
       "      <td>2</td>\n",
       "      <td>1-2 Miles</td>\n",
       "      <td>North America</td>\n",
       "      <td>44</td>\n",
       "      <td>No</td>\n",
       "    </tr>\n",
       "    <tr>\n",
       "      <th>737</th>\n",
       "      <td>18504</td>\n",
       "      <td>married</td>\n",
       "      <td>M</td>\n",
       "      <td>70000.0</td>\n",
       "      <td>2</td>\n",
       "      <td>Partial High School</td>\n",
       "      <td>Skilled Manual</td>\n",
       "      <td>No</td>\n",
       "      <td>2</td>\n",
       "      <td>1-2 Miles</td>\n",
       "      <td>North America</td>\n",
       "      <td>49</td>\n",
       "      <td>No</td>\n",
       "    </tr>\n",
       "    <tr>\n",
       "      <th>985</th>\n",
       "      <td>13920</td>\n",
       "      <td>single</td>\n",
       "      <td>F</td>\n",
       "      <td>50000.0</td>\n",
       "      <td>4</td>\n",
       "      <td>Bachelors</td>\n",
       "      <td>Skilled Manual</td>\n",
       "      <td>Yes</td>\n",
       "      <td>2</td>\n",
       "      <td>0-1 Miles</td>\n",
       "      <td>North America</td>\n",
       "      <td>42</td>\n",
       "      <td>No</td>\n",
       "    </tr>\n",
       "    <tr>\n",
       "      <th>922</th>\n",
       "      <td>16895</td>\n",
       "      <td>married</td>\n",
       "      <td>F</td>\n",
       "      <td>40000.0</td>\n",
       "      <td>3</td>\n",
       "      <td>Partial College</td>\n",
       "      <td>Professional</td>\n",
       "      <td>No</td>\n",
       "      <td>2</td>\n",
       "      <td>1-2 Miles</td>\n",
       "      <td>North America</td>\n",
       "      <td>54</td>\n",
       "      <td>Yes</td>\n",
       "    </tr>\n",
       "  </tbody>\n",
       "</table>\n",
       "</div>"
      ],
      "text/plain": [
       "         ID Marital Status Gender   Income   Children            Education  \\\n",
       "1022  19273        married      F   20000.0         2      Partial College   \n",
       "526   15382        married      F  110000.0         1            Bachelors   \n",
       "737   18504        married      M   70000.0         2  Partial High School   \n",
       "985   13920         single      F   50000.0         4            Bachelors   \n",
       "922   16895        married      F   40000.0         3      Partial College   \n",
       "\n",
       "          Occupation Home Owner  Cars Commute Distance         Region  Age  \\\n",
       "1022          Manual        Yes     0        0-1 Miles         Europe   63   \n",
       "526       Management        Yes     2        1-2 Miles  North America   44   \n",
       "737   Skilled Manual         No     2        1-2 Miles  North America   49   \n",
       "985   Skilled Manual        Yes     2        0-1 Miles  North America   42   \n",
       "922     Professional         No     2        1-2 Miles  North America   54   \n",
       "\n",
       "     Purchased Bike  \n",
       "1022             No  \n",
       "526              No  \n",
       "737              No  \n",
       "985              No  \n",
       "922             Yes  "
      ]
     },
     "execution_count": 8,
     "metadata": {},
     "output_type": "execute_result"
    }
   ],
   "source": [
    "data.sample(5) # check the first 10 rows of the data after cleaning"
   ]
  },
  {
   "cell_type": "code",
   "execution_count": 9,
   "metadata": {},
   "outputs": [],
   "source": [
    "\n",
    "# Function to standardize 'Purchased Bike' column values\n",
    "def fix_PurchasedBike(a):\n",
    "    a_lower = str(a).lower().strip()  # Convert to string, lowercase, and strip whitespace\n",
    "    if a_lower in [\"y\", \"yes\"]:\n",
    "        return 1\n",
    "    else:\n",
    "        return 0  # Default to 0 for any other value even if there is nothing in the cell\n",
    "\n",
    "data['Purchased Bike'] = data['Purchased Bike'].apply(fix_PurchasedBike)\n",
    "\n",
    "\n",
    "\n"
   ]
  },
  {
   "cell_type": "code",
   "execution_count": 10,
   "metadata": {},
   "outputs": [
    {
     "data": {
      "text/html": [
       "<div>\n",
       "<style scoped>\n",
       "    .dataframe tbody tr th:only-of-type {\n",
       "        vertical-align: middle;\n",
       "    }\n",
       "\n",
       "    .dataframe tbody tr th {\n",
       "        vertical-align: top;\n",
       "    }\n",
       "\n",
       "    .dataframe thead th {\n",
       "        text-align: right;\n",
       "    }\n",
       "</style>\n",
       "<table border=\"1\" class=\"dataframe\">\n",
       "  <thead>\n",
       "    <tr style=\"text-align: right;\">\n",
       "      <th></th>\n",
       "      <th>ID</th>\n",
       "      <th>Marital Status</th>\n",
       "      <th>Gender</th>\n",
       "      <th>Income</th>\n",
       "      <th>Children</th>\n",
       "      <th>Education</th>\n",
       "      <th>Occupation</th>\n",
       "      <th>Home Owner</th>\n",
       "      <th>Cars</th>\n",
       "      <th>Commute Distance</th>\n",
       "      <th>Region</th>\n",
       "      <th>Age</th>\n",
       "      <th>Purchased Bike</th>\n",
       "    </tr>\n",
       "  </thead>\n",
       "  <tbody>\n",
       "    <tr>\n",
       "      <th>80</th>\n",
       "      <td>20828</td>\n",
       "      <td>married</td>\n",
       "      <td>F</td>\n",
       "      <td>30000.0</td>\n",
       "      <td>4</td>\n",
       "      <td>Graduate Degree</td>\n",
       "      <td>Clerical</td>\n",
       "      <td>Yes</td>\n",
       "      <td>0</td>\n",
       "      <td>0-1 Miles</td>\n",
       "      <td>Europe</td>\n",
       "      <td>45</td>\n",
       "      <td>1</td>\n",
       "    </tr>\n",
       "    <tr>\n",
       "      <th>791</th>\n",
       "      <td>18363</td>\n",
       "      <td>married</td>\n",
       "      <td>M</td>\n",
       "      <td>40000.0</td>\n",
       "      <td>0</td>\n",
       "      <td>High School</td>\n",
       "      <td>Skilled Manual</td>\n",
       "      <td>Yes</td>\n",
       "      <td>2</td>\n",
       "      <td>5-10 Miles</td>\n",
       "      <td>North America</td>\n",
       "      <td>28</td>\n",
       "      <td>1</td>\n",
       "    </tr>\n",
       "    <tr>\n",
       "      <th>528</th>\n",
       "      <td>11935</td>\n",
       "      <td>single</td>\n",
       "      <td>F</td>\n",
       "      <td>30000.0</td>\n",
       "      <td>0</td>\n",
       "      <td>Partial College</td>\n",
       "      <td>Skilled Manual</td>\n",
       "      <td>Yes</td>\n",
       "      <td>1</td>\n",
       "      <td>5-10 Miles</td>\n",
       "      <td>North America</td>\n",
       "      <td>28</td>\n",
       "      <td>0</td>\n",
       "    </tr>\n",
       "    <tr>\n",
       "      <th>93</th>\n",
       "      <td>15608</td>\n",
       "      <td>single</td>\n",
       "      <td>F</td>\n",
       "      <td>30000.0</td>\n",
       "      <td>0</td>\n",
       "      <td>Partial College</td>\n",
       "      <td>Clerical</td>\n",
       "      <td>No</td>\n",
       "      <td>1</td>\n",
       "      <td>2-5 Miles</td>\n",
       "      <td>Europe</td>\n",
       "      <td>33</td>\n",
       "      <td>0</td>\n",
       "    </tr>\n",
       "    <tr>\n",
       "      <th>510</th>\n",
       "      <td>18613</td>\n",
       "      <td>single</td>\n",
       "      <td>M</td>\n",
       "      <td>70000.0</td>\n",
       "      <td>0</td>\n",
       "      <td>Bachelors</td>\n",
       "      <td>Professional</td>\n",
       "      <td>No</td>\n",
       "      <td>1</td>\n",
       "      <td>2-5 Miles</td>\n",
       "      <td>North America</td>\n",
       "      <td>37</td>\n",
       "      <td>1</td>\n",
       "    </tr>\n",
       "    <tr>\n",
       "      <th>671</th>\n",
       "      <td>22252</td>\n",
       "      <td>single</td>\n",
       "      <td>F</td>\n",
       "      <td>60000.0</td>\n",
       "      <td>1</td>\n",
       "      <td>Graduate Degree</td>\n",
       "      <td>Professional</td>\n",
       "      <td>Yes</td>\n",
       "      <td>0</td>\n",
       "      <td>2-5 Miles</td>\n",
       "      <td>North America</td>\n",
       "      <td>36</td>\n",
       "      <td>1</td>\n",
       "    </tr>\n",
       "    <tr>\n",
       "      <th>335</th>\n",
       "      <td>24369</td>\n",
       "      <td>married</td>\n",
       "      <td>M</td>\n",
       "      <td>80000.0</td>\n",
       "      <td>5</td>\n",
       "      <td>Graduate Degree</td>\n",
       "      <td>Management</td>\n",
       "      <td>No</td>\n",
       "      <td>2</td>\n",
       "      <td>0-1 Miles</td>\n",
       "      <td>Pacific</td>\n",
       "      <td>39</td>\n",
       "      <td>0</td>\n",
       "    </tr>\n",
       "    <tr>\n",
       "      <th>1010</th>\n",
       "      <td>27183</td>\n",
       "      <td>single</td>\n",
       "      <td>M</td>\n",
       "      <td>40000.0</td>\n",
       "      <td>2</td>\n",
       "      <td>Partial College</td>\n",
       "      <td>Clerical</td>\n",
       "      <td>Yes</td>\n",
       "      <td>1</td>\n",
       "      <td>1-2 Miles</td>\n",
       "      <td>Europe</td>\n",
       "      <td>35</td>\n",
       "      <td>1</td>\n",
       "    </tr>\n",
       "    <tr>\n",
       "      <th>810</th>\n",
       "      <td>20376</td>\n",
       "      <td>single</td>\n",
       "      <td>F</td>\n",
       "      <td>70000.0</td>\n",
       "      <td>3</td>\n",
       "      <td>Graduate Degree</td>\n",
       "      <td>Management</td>\n",
       "      <td>Yes</td>\n",
       "      <td>2</td>\n",
       "      <td>5-10 Miles</td>\n",
       "      <td>North America</td>\n",
       "      <td>52</td>\n",
       "      <td>1</td>\n",
       "    </tr>\n",
       "    <tr>\n",
       "      <th>267</th>\n",
       "      <td>13133</td>\n",
       "      <td>single</td>\n",
       "      <td>M</td>\n",
       "      <td>100000.0</td>\n",
       "      <td>5</td>\n",
       "      <td>Bachelors</td>\n",
       "      <td>Professional</td>\n",
       "      <td>Yes</td>\n",
       "      <td>1</td>\n",
       "      <td>5-10 Miles</td>\n",
       "      <td>Pacific</td>\n",
       "      <td>47</td>\n",
       "      <td>1</td>\n",
       "    </tr>\n",
       "    <tr>\n",
       "      <th>360</th>\n",
       "      <td>13082</td>\n",
       "      <td>single</td>\n",
       "      <td>M</td>\n",
       "      <td>130000.0</td>\n",
       "      <td>0</td>\n",
       "      <td>Graduate Degree</td>\n",
       "      <td>Management</td>\n",
       "      <td>Yes</td>\n",
       "      <td>0</td>\n",
       "      <td>2-5 Miles</td>\n",
       "      <td>Pacific</td>\n",
       "      <td>48</td>\n",
       "      <td>1</td>\n",
       "    </tr>\n",
       "    <tr>\n",
       "      <th>968</th>\n",
       "      <td>18329</td>\n",
       "      <td>single</td>\n",
       "      <td>M</td>\n",
       "      <td>30000.0</td>\n",
       "      <td>0</td>\n",
       "      <td>Partial High School</td>\n",
       "      <td>Clerical</td>\n",
       "      <td>No</td>\n",
       "      <td>2</td>\n",
       "      <td>5-10 Miles</td>\n",
       "      <td>North America</td>\n",
       "      <td>27</td>\n",
       "      <td>0</td>\n",
       "    </tr>\n",
       "    <tr>\n",
       "      <th>587</th>\n",
       "      <td>18935</td>\n",
       "      <td>married</td>\n",
       "      <td>F</td>\n",
       "      <td>130000.0</td>\n",
       "      <td>0</td>\n",
       "      <td>Graduate Degree</td>\n",
       "      <td>Management</td>\n",
       "      <td>Yes</td>\n",
       "      <td>3</td>\n",
       "      <td>1-2 Miles</td>\n",
       "      <td>North America</td>\n",
       "      <td>40</td>\n",
       "      <td>0</td>\n",
       "    </tr>\n",
       "    <tr>\n",
       "      <th>631</th>\n",
       "      <td>27643</td>\n",
       "      <td>single</td>\n",
       "      <td>M</td>\n",
       "      <td>70000.0</td>\n",
       "      <td>5</td>\n",
       "      <td>Partial College</td>\n",
       "      <td>Professional</td>\n",
       "      <td>Yes</td>\n",
       "      <td>3</td>\n",
       "      <td>2-5 Miles</td>\n",
       "      <td>North America</td>\n",
       "      <td>44</td>\n",
       "      <td>0</td>\n",
       "    </tr>\n",
       "    <tr>\n",
       "      <th>636</th>\n",
       "      <td>29237</td>\n",
       "      <td>single</td>\n",
       "      <td>F</td>\n",
       "      <td>120000.0</td>\n",
       "      <td>4</td>\n",
       "      <td>Partial College</td>\n",
       "      <td>Professional</td>\n",
       "      <td>Yes</td>\n",
       "      <td>3</td>\n",
       "      <td>5-10 Miles</td>\n",
       "      <td>North America</td>\n",
       "      <td>43</td>\n",
       "      <td>1</td>\n",
       "    </tr>\n",
       "    <tr>\n",
       "      <th>995</th>\n",
       "      <td>23731</td>\n",
       "      <td>married</td>\n",
       "      <td>M</td>\n",
       "      <td>60000.0</td>\n",
       "      <td>2</td>\n",
       "      <td>High School</td>\n",
       "      <td>Professional</td>\n",
       "      <td>Yes</td>\n",
       "      <td>2</td>\n",
       "      <td>2-5 Miles</td>\n",
       "      <td>North America</td>\n",
       "      <td>54</td>\n",
       "      <td>1</td>\n",
       "    </tr>\n",
       "    <tr>\n",
       "      <th>829</th>\n",
       "      <td>16009</td>\n",
       "      <td>single</td>\n",
       "      <td>M</td>\n",
       "      <td>170000.0</td>\n",
       "      <td>1</td>\n",
       "      <td>Graduate Degree</td>\n",
       "      <td>Management</td>\n",
       "      <td>No</td>\n",
       "      <td>4</td>\n",
       "      <td>0-1 Miles</td>\n",
       "      <td>North America</td>\n",
       "      <td>66</td>\n",
       "      <td>0</td>\n",
       "    </tr>\n",
       "    <tr>\n",
       "      <th>681</th>\n",
       "      <td>16377</td>\n",
       "      <td>single</td>\n",
       "      <td>F</td>\n",
       "      <td>80000.0</td>\n",
       "      <td>4</td>\n",
       "      <td>Graduate Degree</td>\n",
       "      <td>Skilled Manual</td>\n",
       "      <td>No</td>\n",
       "      <td>0</td>\n",
       "      <td>0-1 Miles</td>\n",
       "      <td>North America</td>\n",
       "      <td>47</td>\n",
       "      <td>0</td>\n",
       "    </tr>\n",
       "    <tr>\n",
       "      <th>945</th>\n",
       "      <td>25419</td>\n",
       "      <td>single</td>\n",
       "      <td>M</td>\n",
       "      <td>50000.0</td>\n",
       "      <td>2</td>\n",
       "      <td>Bachelors</td>\n",
       "      <td>Skilled Manual</td>\n",
       "      <td>No</td>\n",
       "      <td>1</td>\n",
       "      <td>0-1 Miles</td>\n",
       "      <td>North America</td>\n",
       "      <td>38</td>\n",
       "      <td>1</td>\n",
       "    </tr>\n",
       "    <tr>\n",
       "      <th>434</th>\n",
       "      <td>22175</td>\n",
       "      <td>married</td>\n",
       "      <td>F</td>\n",
       "      <td>30000.0</td>\n",
       "      <td>3</td>\n",
       "      <td>High School</td>\n",
       "      <td>Skilled Manual</td>\n",
       "      <td>Yes</td>\n",
       "      <td>2</td>\n",
       "      <td>5-10 Miles</td>\n",
       "      <td>Pacific</td>\n",
       "      <td>53</td>\n",
       "      <td>1</td>\n",
       "    </tr>\n",
       "  </tbody>\n",
       "</table>\n",
       "</div>"
      ],
      "text/plain": [
       "         ID Marital Status Gender   Income   Children            Education  \\\n",
       "80    20828        married      F   30000.0         4      Graduate Degree   \n",
       "791   18363        married      M   40000.0         0          High School   \n",
       "528   11935         single      F   30000.0         0      Partial College   \n",
       "93    15608         single      F   30000.0         0      Partial College   \n",
       "510   18613         single      M   70000.0         0            Bachelors   \n",
       "671   22252         single      F   60000.0         1      Graduate Degree   \n",
       "335   24369        married      M   80000.0         5      Graduate Degree   \n",
       "1010  27183         single      M   40000.0         2      Partial College   \n",
       "810   20376         single      F   70000.0         3      Graduate Degree   \n",
       "267   13133         single      M  100000.0         5            Bachelors   \n",
       "360   13082         single      M  130000.0         0      Graduate Degree   \n",
       "968   18329         single      M   30000.0         0  Partial High School   \n",
       "587   18935        married      F  130000.0         0      Graduate Degree   \n",
       "631   27643         single      M   70000.0         5      Partial College   \n",
       "636   29237         single      F  120000.0         4      Partial College   \n",
       "995   23731        married      M   60000.0         2          High School   \n",
       "829   16009         single      M  170000.0         1      Graduate Degree   \n",
       "681   16377         single      F   80000.0         4      Graduate Degree   \n",
       "945   25419         single      M   50000.0         2            Bachelors   \n",
       "434   22175        married      F   30000.0         3          High School   \n",
       "\n",
       "          Occupation Home Owner  Cars Commute Distance         Region  Age  \\\n",
       "80          Clerical        Yes     0        0-1 Miles         Europe   45   \n",
       "791   Skilled Manual        Yes     2       5-10 Miles  North America   28   \n",
       "528   Skilled Manual        Yes     1       5-10 Miles  North America   28   \n",
       "93          Clerical         No     1        2-5 Miles         Europe   33   \n",
       "510     Professional         No     1        2-5 Miles  North America   37   \n",
       "671     Professional        Yes     0        2-5 Miles  North America   36   \n",
       "335       Management         No     2        0-1 Miles        Pacific   39   \n",
       "1010        Clerical        Yes     1        1-2 Miles         Europe   35   \n",
       "810       Management        Yes     2       5-10 Miles  North America   52   \n",
       "267     Professional        Yes     1       5-10 Miles        Pacific   47   \n",
       "360       Management        Yes     0        2-5 Miles        Pacific   48   \n",
       "968         Clerical         No     2       5-10 Miles  North America   27   \n",
       "587       Management        Yes     3        1-2 Miles  North America   40   \n",
       "631     Professional        Yes     3        2-5 Miles  North America   44   \n",
       "636     Professional        Yes     3       5-10 Miles  North America   43   \n",
       "995     Professional        Yes     2        2-5 Miles  North America   54   \n",
       "829       Management         No     4        0-1 Miles  North America   66   \n",
       "681   Skilled Manual         No     0        0-1 Miles  North America   47   \n",
       "945   Skilled Manual         No     1        0-1 Miles  North America   38   \n",
       "434   Skilled Manual        Yes     2       5-10 Miles        Pacific   53   \n",
       "\n",
       "      Purchased Bike  \n",
       "80                 1  \n",
       "791                1  \n",
       "528                0  \n",
       "93                 0  \n",
       "510                1  \n",
       "671                1  \n",
       "335                0  \n",
       "1010               1  \n",
       "810                1  \n",
       "267                1  \n",
       "360                1  \n",
       "968                0  \n",
       "587                0  \n",
       "631                0  \n",
       "636                1  \n",
       "995                1  \n",
       "829                0  \n",
       "681                0  \n",
       "945                1  \n",
       "434                1  "
      ]
     },
     "execution_count": 10,
     "metadata": {},
     "output_type": "execute_result"
    }
   ],
   "source": [
    "data.sample(20) # check the first 10 rows of the data after cleaning"
   ]
  },
  {
   "cell_type": "code",
   "execution_count": 11,
   "metadata": {},
   "outputs": [
    {
     "data": {
      "text/html": [
       "<div>\n",
       "<style scoped>\n",
       "    .dataframe tbody tr th:only-of-type {\n",
       "        vertical-align: middle;\n",
       "    }\n",
       "\n",
       "    .dataframe tbody tr th {\n",
       "        vertical-align: top;\n",
       "    }\n",
       "\n",
       "    .dataframe thead th {\n",
       "        text-align: right;\n",
       "    }\n",
       "</style>\n",
       "<table border=\"1\" class=\"dataframe\">\n",
       "  <thead>\n",
       "    <tr style=\"text-align: right;\">\n",
       "      <th></th>\n",
       "      <th>ID</th>\n",
       "      <th>Marital Status</th>\n",
       "      <th>Gender</th>\n",
       "      <th>Income</th>\n",
       "      <th>Children</th>\n",
       "      <th>Education</th>\n",
       "      <th>Occupation</th>\n",
       "      <th>Home Owner</th>\n",
       "      <th>Cars</th>\n",
       "      <th>Commute Distance</th>\n",
       "      <th>Region</th>\n",
       "      <th>Age</th>\n",
       "      <th>Purchased Bike</th>\n",
       "    </tr>\n",
       "  </thead>\n",
       "  <tbody>\n",
       "    <tr>\n",
       "      <th>207</th>\n",
       "      <td>28729</td>\n",
       "      <td>single</td>\n",
       "      <td>F</td>\n",
       "      <td>20000.0</td>\n",
       "      <td>0</td>\n",
       "      <td>Partial High School</td>\n",
       "      <td>Manual</td>\n",
       "      <td>1</td>\n",
       "      <td>2</td>\n",
       "      <td>1-2 Miles</td>\n",
       "      <td>Europe</td>\n",
       "      <td>26</td>\n",
       "      <td>1</td>\n",
       "    </tr>\n",
       "    <tr>\n",
       "      <th>736</th>\n",
       "      <td>19634</td>\n",
       "      <td>married</td>\n",
       "      <td>M</td>\n",
       "      <td>40000.0</td>\n",
       "      <td>0</td>\n",
       "      <td>High School</td>\n",
       "      <td>Skilled Manual</td>\n",
       "      <td>1</td>\n",
       "      <td>1</td>\n",
       "      <td>5-10 Miles</td>\n",
       "      <td>North America</td>\n",
       "      <td>31</td>\n",
       "      <td>0</td>\n",
       "    </tr>\n",
       "    <tr>\n",
       "      <th>338</th>\n",
       "      <td>15926</td>\n",
       "      <td>single</td>\n",
       "      <td>F</td>\n",
       "      <td>120000.0</td>\n",
       "      <td>3</td>\n",
       "      <td>High School</td>\n",
       "      <td>Professional</td>\n",
       "      <td>1</td>\n",
       "      <td>4</td>\n",
       "      <td>5-10 Miles</td>\n",
       "      <td>Europe</td>\n",
       "      <td>50</td>\n",
       "      <td>1</td>\n",
       "    </tr>\n",
       "    <tr>\n",
       "      <th>490</th>\n",
       "      <td>11738</td>\n",
       "      <td>married</td>\n",
       "      <td>M</td>\n",
       "      <td>60000.0</td>\n",
       "      <td>4</td>\n",
       "      <td>Bachelors</td>\n",
       "      <td>Professional</td>\n",
       "      <td>1</td>\n",
       "      <td>0</td>\n",
       "      <td>2-5 Miles</td>\n",
       "      <td>North America</td>\n",
       "      <td>46</td>\n",
       "      <td>0</td>\n",
       "    </tr>\n",
       "    <tr>\n",
       "      <th>974</th>\n",
       "      <td>17462</td>\n",
       "      <td>married</td>\n",
       "      <td>M</td>\n",
       "      <td>70000.0</td>\n",
       "      <td>3</td>\n",
       "      <td>Graduate Degree</td>\n",
       "      <td>Management</td>\n",
       "      <td>1</td>\n",
       "      <td>2</td>\n",
       "      <td>5-10 Miles</td>\n",
       "      <td>North America</td>\n",
       "      <td>53</td>\n",
       "      <td>1</td>\n",
       "    </tr>\n",
       "    <tr>\n",
       "      <th>138</th>\n",
       "      <td>24273</td>\n",
       "      <td>married</td>\n",
       "      <td>F</td>\n",
       "      <td>20000.0</td>\n",
       "      <td>2</td>\n",
       "      <td>Partial High School</td>\n",
       "      <td>Clerical</td>\n",
       "      <td>1</td>\n",
       "      <td>2</td>\n",
       "      <td>5-10 Miles</td>\n",
       "      <td>Pacific</td>\n",
       "      <td>55</td>\n",
       "      <td>1</td>\n",
       "    </tr>\n",
       "    <tr>\n",
       "      <th>474</th>\n",
       "      <td>27585</td>\n",
       "      <td>married</td>\n",
       "      <td>F</td>\n",
       "      <td>90000.0</td>\n",
       "      <td>2</td>\n",
       "      <td>Bachelors</td>\n",
       "      <td>Professional</td>\n",
       "      <td>0</td>\n",
       "      <td>0</td>\n",
       "      <td>0-1 Miles</td>\n",
       "      <td>Pacific</td>\n",
       "      <td>36</td>\n",
       "      <td>1</td>\n",
       "    </tr>\n",
       "    <tr>\n",
       "      <th>596</th>\n",
       "      <td>20343</td>\n",
       "      <td>married</td>\n",
       "      <td>F</td>\n",
       "      <td>90000.0</td>\n",
       "      <td>4</td>\n",
       "      <td>Partial College</td>\n",
       "      <td>Professional</td>\n",
       "      <td>1</td>\n",
       "      <td>1</td>\n",
       "      <td>1-2 Miles</td>\n",
       "      <td>North America</td>\n",
       "      <td>45</td>\n",
       "      <td>0</td>\n",
       "    </tr>\n",
       "    <tr>\n",
       "      <th>578</th>\n",
       "      <td>15313</td>\n",
       "      <td>married</td>\n",
       "      <td>M</td>\n",
       "      <td>60000.0</td>\n",
       "      <td>4</td>\n",
       "      <td>Bachelors</td>\n",
       "      <td>Management</td>\n",
       "      <td>1</td>\n",
       "      <td>2</td>\n",
       "      <td>2-5 Miles</td>\n",
       "      <td>North America</td>\n",
       "      <td>59</td>\n",
       "      <td>0</td>\n",
       "    </tr>\n",
       "    <tr>\n",
       "      <th>233</th>\n",
       "      <td>24174</td>\n",
       "      <td>married</td>\n",
       "      <td>M</td>\n",
       "      <td>20000.0</td>\n",
       "      <td>0</td>\n",
       "      <td>Bachelors</td>\n",
       "      <td>Clerical</td>\n",
       "      <td>1</td>\n",
       "      <td>0</td>\n",
       "      <td>0-1 Miles</td>\n",
       "      <td>Pacific</td>\n",
       "      <td>27</td>\n",
       "      <td>1</td>\n",
       "    </tr>\n",
       "  </tbody>\n",
       "</table>\n",
       "</div>"
      ],
      "text/plain": [
       "        ID Marital Status Gender   Income   Children            Education  \\\n",
       "207  28729         single      F   20000.0         0  Partial High School   \n",
       "736  19634        married      M   40000.0         0          High School   \n",
       "338  15926         single      F  120000.0         3          High School   \n",
       "490  11738        married      M   60000.0         4            Bachelors   \n",
       "974  17462        married      M   70000.0         3      Graduate Degree   \n",
       "138  24273        married      F   20000.0         2  Partial High School   \n",
       "474  27585        married      F   90000.0         2            Bachelors   \n",
       "596  20343        married      F   90000.0         4      Partial College   \n",
       "578  15313        married      M   60000.0         4            Bachelors   \n",
       "233  24174        married      M   20000.0         0            Bachelors   \n",
       "\n",
       "         Occupation  Home Owner  Cars Commute Distance         Region  Age  \\\n",
       "207          Manual           1     2        1-2 Miles         Europe   26   \n",
       "736  Skilled Manual           1     1       5-10 Miles  North America   31   \n",
       "338    Professional           1     4       5-10 Miles         Europe   50   \n",
       "490    Professional           1     0        2-5 Miles  North America   46   \n",
       "974      Management           1     2       5-10 Miles  North America   53   \n",
       "138        Clerical           1     2       5-10 Miles        Pacific   55   \n",
       "474    Professional           0     0        0-1 Miles        Pacific   36   \n",
       "596    Professional           1     1        1-2 Miles  North America   45   \n",
       "578      Management           1     2        2-5 Miles  North America   59   \n",
       "233        Clerical           1     0        0-1 Miles        Pacific   27   \n",
       "\n",
       "     Purchased Bike  \n",
       "207               1  \n",
       "736               0  \n",
       "338               1  \n",
       "490               0  \n",
       "974               1  \n",
       "138               1  \n",
       "474               1  \n",
       "596               0  \n",
       "578               0  \n",
       "233               1  "
      ]
     },
     "execution_count": 11,
     "metadata": {},
     "output_type": "execute_result"
    }
   ],
   "source": [
    "\n",
    "# Function to standardize 'Home Owner' column values\n",
    "def fix_home_owner(a):\n",
    "    a_lower = a.lower().strip()  # Convert to lowercase and strip whitespace\n",
    "    if a_lower in [\"y\", \"yes\", \"true\", \"1\"]:\n",
    "        return 1\n",
    "    else:\n",
    "        return 0\n",
    "\n",
    "data['Home Owner'] = data['Home Owner'].apply(fix_home_owner).astype(int)\n",
    "data.sample(10) # check the first 10 rows of the data after cleaning\n",
    "\n"
   ]
  },
  {
   "cell_type": "code",
   "execution_count": 12,
   "metadata": {},
   "outputs": [
    {
     "data": {
      "text/html": [
       "<div>\n",
       "<style scoped>\n",
       "    .dataframe tbody tr th:only-of-type {\n",
       "        vertical-align: middle;\n",
       "    }\n",
       "\n",
       "    .dataframe tbody tr th {\n",
       "        vertical-align: top;\n",
       "    }\n",
       "\n",
       "    .dataframe thead th {\n",
       "        text-align: right;\n",
       "    }\n",
       "</style>\n",
       "<table border=\"1\" class=\"dataframe\">\n",
       "  <thead>\n",
       "    <tr style=\"text-align: right;\">\n",
       "      <th></th>\n",
       "      <th>ID</th>\n",
       "      <th>Marital Status</th>\n",
       "      <th>Gender</th>\n",
       "      <th>Income</th>\n",
       "      <th>Children</th>\n",
       "      <th>Education</th>\n",
       "      <th>Occupation</th>\n",
       "      <th>Home Owner</th>\n",
       "      <th>Cars</th>\n",
       "      <th>Commute Distance</th>\n",
       "      <th>Region</th>\n",
       "      <th>Age</th>\n",
       "      <th>Purchased Bike</th>\n",
       "    </tr>\n",
       "  </thead>\n",
       "  <tbody>\n",
       "    <tr>\n",
       "      <th>808</th>\n",
       "      <td>17668</td>\n",
       "      <td>single</td>\n",
       "      <td>M</td>\n",
       "      <td>30000.0</td>\n",
       "      <td>2</td>\n",
       "      <td>High School</td>\n",
       "      <td>Skilled Manual</td>\n",
       "      <td>1</td>\n",
       "      <td>2</td>\n",
       "      <td>1-2 Miles</td>\n",
       "      <td>North America</td>\n",
       "      <td>50</td>\n",
       "      <td>1</td>\n",
       "    </tr>\n",
       "    <tr>\n",
       "      <th>119</th>\n",
       "      <td>12871</td>\n",
       "      <td>single</td>\n",
       "      <td>F</td>\n",
       "      <td>30000.0</td>\n",
       "      <td>0</td>\n",
       "      <td>Partial College</td>\n",
       "      <td>Clerical</td>\n",
       "      <td>0</td>\n",
       "      <td>1</td>\n",
       "      <td>2-5 Miles</td>\n",
       "      <td>Europe</td>\n",
       "      <td>29</td>\n",
       "      <td>0</td>\n",
       "    </tr>\n",
       "    <tr>\n",
       "      <th>605</th>\n",
       "      <td>17458</td>\n",
       "      <td>single</td>\n",
       "      <td>M</td>\n",
       "      <td>70000.0</td>\n",
       "      <td>3</td>\n",
       "      <td>High School</td>\n",
       "      <td>Professional</td>\n",
       "      <td>1</td>\n",
       "      <td>0</td>\n",
       "      <td>5-10 Miles</td>\n",
       "      <td>North America</td>\n",
       "      <td>52</td>\n",
       "      <td>1</td>\n",
       "    </tr>\n",
       "    <tr>\n",
       "      <th>899</th>\n",
       "      <td>28192</td>\n",
       "      <td>married</td>\n",
       "      <td>F</td>\n",
       "      <td>70000.0</td>\n",
       "      <td>5</td>\n",
       "      <td>Graduate Degree</td>\n",
       "      <td>Professional</td>\n",
       "      <td>1</td>\n",
       "      <td>3</td>\n",
       "      <td>10+ Miles</td>\n",
       "      <td>North America</td>\n",
       "      <td>46</td>\n",
       "      <td>0</td>\n",
       "    </tr>\n",
       "    <tr>\n",
       "      <th>162</th>\n",
       "      <td>29181</td>\n",
       "      <td>single</td>\n",
       "      <td>F</td>\n",
       "      <td>60000.0</td>\n",
       "      <td>2</td>\n",
       "      <td>Bachelors</td>\n",
       "      <td>Professional</td>\n",
       "      <td>0</td>\n",
       "      <td>1</td>\n",
       "      <td>0-1 Miles</td>\n",
       "      <td>Pacific</td>\n",
       "      <td>38</td>\n",
       "      <td>1</td>\n",
       "    </tr>\n",
       "    <tr>\n",
       "      <th>592</th>\n",
       "      <td>18391</td>\n",
       "      <td>single</td>\n",
       "      <td>F</td>\n",
       "      <td>80000.0</td>\n",
       "      <td>5</td>\n",
       "      <td>Partial College</td>\n",
       "      <td>Professional</td>\n",
       "      <td>1</td>\n",
       "      <td>2</td>\n",
       "      <td>5-10 Miles</td>\n",
       "      <td>North America</td>\n",
       "      <td>44</td>\n",
       "      <td>0</td>\n",
       "    </tr>\n",
       "    <tr>\n",
       "      <th>1007</th>\n",
       "      <td>20870</td>\n",
       "      <td>single</td>\n",
       "      <td>F</td>\n",
       "      <td>10000.0</td>\n",
       "      <td>2</td>\n",
       "      <td>High School</td>\n",
       "      <td>Manual</td>\n",
       "      <td>1</td>\n",
       "      <td>1</td>\n",
       "      <td>0-1 Miles</td>\n",
       "      <td>Europe</td>\n",
       "      <td>38</td>\n",
       "      <td>1</td>\n",
       "    </tr>\n",
       "    <tr>\n",
       "      <th>537</th>\n",
       "      <td>14900</td>\n",
       "      <td>married</td>\n",
       "      <td>F</td>\n",
       "      <td>40000.0</td>\n",
       "      <td>1</td>\n",
       "      <td>Partial College</td>\n",
       "      <td>Clerical</td>\n",
       "      <td>1</td>\n",
       "      <td>1</td>\n",
       "      <td>1-2 Miles</td>\n",
       "      <td>North America</td>\n",
       "      <td>49</td>\n",
       "      <td>1</td>\n",
       "    </tr>\n",
       "    <tr>\n",
       "      <th>552</th>\n",
       "      <td>14417</td>\n",
       "      <td>single</td>\n",
       "      <td>M</td>\n",
       "      <td>60000.0</td>\n",
       "      <td>3</td>\n",
       "      <td>High School</td>\n",
       "      <td>Professional</td>\n",
       "      <td>1</td>\n",
       "      <td>2</td>\n",
       "      <td>10+ Miles</td>\n",
       "      <td>North America</td>\n",
       "      <td>54</td>\n",
       "      <td>1</td>\n",
       "    </tr>\n",
       "    <tr>\n",
       "      <th>503</th>\n",
       "      <td>20339</td>\n",
       "      <td>married</td>\n",
       "      <td>F</td>\n",
       "      <td>130000.0</td>\n",
       "      <td>1</td>\n",
       "      <td>Bachelors</td>\n",
       "      <td>Management</td>\n",
       "      <td>1</td>\n",
       "      <td>4</td>\n",
       "      <td>2-5 Miles</td>\n",
       "      <td>North America</td>\n",
       "      <td>44</td>\n",
       "      <td>1</td>\n",
       "    </tr>\n",
       "  </tbody>\n",
       "</table>\n",
       "</div>"
      ],
      "text/plain": [
       "         ID Marital Status Gender   Income   Children        Education  \\\n",
       "808   17668         single      M   30000.0         2      High School   \n",
       "119   12871         single      F   30000.0         0  Partial College   \n",
       "605   17458         single      M   70000.0         3      High School   \n",
       "899   28192        married      F   70000.0         5  Graduate Degree   \n",
       "162   29181         single      F   60000.0         2        Bachelors   \n",
       "592   18391         single      F   80000.0         5  Partial College   \n",
       "1007  20870         single      F   10000.0         2      High School   \n",
       "537   14900        married      F   40000.0         1  Partial College   \n",
       "552   14417         single      M   60000.0         3      High School   \n",
       "503   20339        married      F  130000.0         1        Bachelors   \n",
       "\n",
       "          Occupation  Home Owner  Cars Commute Distance         Region  Age  \\\n",
       "808   Skilled Manual           1     2        1-2 Miles  North America   50   \n",
       "119         Clerical           0     1        2-5 Miles         Europe   29   \n",
       "605     Professional           1     0       5-10 Miles  North America   52   \n",
       "899     Professional           1     3        10+ Miles  North America   46   \n",
       "162     Professional           0     1        0-1 Miles        Pacific   38   \n",
       "592     Professional           1     2       5-10 Miles  North America   44   \n",
       "1007          Manual           1     1        0-1 Miles         Europe   38   \n",
       "537         Clerical           1     1        1-2 Miles  North America   49   \n",
       "552     Professional           1     2        10+ Miles  North America   54   \n",
       "503       Management           1     4        2-5 Miles  North America   44   \n",
       "\n",
       "      Purchased Bike  \n",
       "808                1  \n",
       "119                0  \n",
       "605                1  \n",
       "899                0  \n",
       "162                1  \n",
       "592                0  \n",
       "1007               1  \n",
       "537                1  \n",
       "552                1  \n",
       "503                1  "
      ]
     },
     "execution_count": 12,
     "metadata": {},
     "output_type": "execute_result"
    }
   ],
   "source": [
    "data.sample(10) # check the first 10 rows of the data after cleaning"
   ]
  },
  {
   "cell_type": "code",
   "execution_count": 13,
   "metadata": {},
   "outputs": [],
   "source": [
    "# Function to standardize 'Gender' column values\n",
    "def fix_gender(a):\n",
    "    a_lower = a.lower().strip()  # Convert to lowercase and strip whitespace\n",
    "    if a_lower in [\"m\", \"male\"]:\n",
    "        return \"male\"\n",
    "    else:\n",
    "        return \"female\"\n",
    "\n",
    "# Applying the fix_gender function to 'Gender' column\n",
    "data['Gender'] = data['Gender'].apply(fix_gender)"
   ]
  },
  {
   "cell_type": "code",
   "execution_count": 14,
   "metadata": {},
   "outputs": [
    {
     "data": {
      "text/html": [
       "<div>\n",
       "<style scoped>\n",
       "    .dataframe tbody tr th:only-of-type {\n",
       "        vertical-align: middle;\n",
       "    }\n",
       "\n",
       "    .dataframe tbody tr th {\n",
       "        vertical-align: top;\n",
       "    }\n",
       "\n",
       "    .dataframe thead th {\n",
       "        text-align: right;\n",
       "    }\n",
       "</style>\n",
       "<table border=\"1\" class=\"dataframe\">\n",
       "  <thead>\n",
       "    <tr style=\"text-align: right;\">\n",
       "      <th></th>\n",
       "      <th>ID</th>\n",
       "      <th>Marital Status</th>\n",
       "      <th>Gender</th>\n",
       "      <th>Income</th>\n",
       "      <th>Children</th>\n",
       "      <th>Education</th>\n",
       "      <th>Occupation</th>\n",
       "      <th>Home Owner</th>\n",
       "      <th>Cars</th>\n",
       "      <th>Commute Distance</th>\n",
       "      <th>Region</th>\n",
       "      <th>Age</th>\n",
       "      <th>Purchased Bike</th>\n",
       "    </tr>\n",
       "  </thead>\n",
       "  <tbody>\n",
       "    <tr>\n",
       "      <th>398</th>\n",
       "      <td>27771</td>\n",
       "      <td>single</td>\n",
       "      <td>male</td>\n",
       "      <td>30000.0</td>\n",
       "      <td>1</td>\n",
       "      <td>Bachelors</td>\n",
       "      <td>Clerical</td>\n",
       "      <td>1</td>\n",
       "      <td>1</td>\n",
       "      <td>1-2 Miles</td>\n",
       "      <td>Europe</td>\n",
       "      <td>39</td>\n",
       "      <td>1</td>\n",
       "    </tr>\n",
       "    <tr>\n",
       "      <th>958</th>\n",
       "      <td>21940</td>\n",
       "      <td>married</td>\n",
       "      <td>male</td>\n",
       "      <td>90000.0</td>\n",
       "      <td>5</td>\n",
       "      <td>Graduate Degree</td>\n",
       "      <td>Professional</td>\n",
       "      <td>1</td>\n",
       "      <td>0</td>\n",
       "      <td>0-1 Miles</td>\n",
       "      <td>North America</td>\n",
       "      <td>47</td>\n",
       "      <td>1</td>\n",
       "    </tr>\n",
       "    <tr>\n",
       "      <th>279</th>\n",
       "      <td>16390</td>\n",
       "      <td>single</td>\n",
       "      <td>male</td>\n",
       "      <td>30000.0</td>\n",
       "      <td>1</td>\n",
       "      <td>Bachelors</td>\n",
       "      <td>Clerical</td>\n",
       "      <td>0</td>\n",
       "      <td>0</td>\n",
       "      <td>0-1 Miles</td>\n",
       "      <td>Europe</td>\n",
       "      <td>38</td>\n",
       "      <td>1</td>\n",
       "    </tr>\n",
       "    <tr>\n",
       "      <th>456</th>\n",
       "      <td>26385</td>\n",
       "      <td>single</td>\n",
       "      <td>male</td>\n",
       "      <td>120000.0</td>\n",
       "      <td>3</td>\n",
       "      <td>High School</td>\n",
       "      <td>Professional</td>\n",
       "      <td>0</td>\n",
       "      <td>4</td>\n",
       "      <td>5-10 Miles</td>\n",
       "      <td>Europe</td>\n",
       "      <td>50</td>\n",
       "      <td>0</td>\n",
       "    </tr>\n",
       "    <tr>\n",
       "      <th>170</th>\n",
       "      <td>17203</td>\n",
       "      <td>married</td>\n",
       "      <td>female</td>\n",
       "      <td>130000.0</td>\n",
       "      <td>4</td>\n",
       "      <td>Partial College</td>\n",
       "      <td>Professional</td>\n",
       "      <td>1</td>\n",
       "      <td>4</td>\n",
       "      <td>5-10 Miles</td>\n",
       "      <td>Europe</td>\n",
       "      <td>61</td>\n",
       "      <td>1</td>\n",
       "    </tr>\n",
       "  </tbody>\n",
       "</table>\n",
       "</div>"
      ],
      "text/plain": [
       "        ID Marital Status  Gender   Income   Children        Education  \\\n",
       "398  27771         single    male   30000.0         1        Bachelors   \n",
       "958  21940        married    male   90000.0         5  Graduate Degree   \n",
       "279  16390         single    male   30000.0         1        Bachelors   \n",
       "456  26385         single    male  120000.0         3      High School   \n",
       "170  17203        married  female  130000.0         4  Partial College   \n",
       "\n",
       "       Occupation  Home Owner  Cars Commute Distance         Region  Age  \\\n",
       "398      Clerical           1     1        1-2 Miles         Europe   39   \n",
       "958  Professional           1     0        0-1 Miles  North America   47   \n",
       "279      Clerical           0     0        0-1 Miles         Europe   38   \n",
       "456  Professional           0     4       5-10 Miles         Europe   50   \n",
       "170  Professional           1     4       5-10 Miles         Europe   61   \n",
       "\n",
       "     Purchased Bike  \n",
       "398               1  \n",
       "958               1  \n",
       "279               1  \n",
       "456               0  \n",
       "170               1  "
      ]
     },
     "execution_count": 14,
     "metadata": {},
     "output_type": "execute_result"
    }
   ],
   "source": [
    "data.sample(5)"
   ]
  },
  {
   "cell_type": "code",
   "execution_count": 15,
   "metadata": {},
   "outputs": [
    {
     "name": "stdout",
     "output_type": "stream",
     "text": [
      "Number of duplicated data: 21 \n",
      "\n"
     ]
    }
   ],
   "source": [
    "# Filling missing values with the mode (most common value) of each column\n",
    "for col in data.columns:\n",
    "     data[col] = data[col].fillna(data[col].mode()[0])\n",
    "\n",
    "# Counting the number of duplicated rows in the dataframe\n",
    "print(\"Number of duplicated data:\", data.duplicated().sum(), \"\\n\")\n",
    "\n"
   ]
  },
  {
   "cell_type": "code",
   "execution_count": 16,
   "metadata": {},
   "outputs": [
    {
     "name": "stdout",
     "output_type": "stream",
     "text": [
      "<class 'pandas.core.frame.DataFrame'>\n",
      "Index: 1005 entries, 0 to 1024\n",
      "Data columns (total 13 columns):\n",
      " #   Column            Non-Null Count  Dtype  \n",
      "---  ------            --------------  -----  \n",
      " 0   ID                1005 non-null   int64  \n",
      " 1   Marital Status    1005 non-null   object \n",
      " 2   Gender            1005 non-null   object \n",
      " 3    Income           1005 non-null   float64\n",
      " 4   Children          1005 non-null   int64  \n",
      " 5   Education         1005 non-null   object \n",
      " 6   Occupation        1005 non-null   object \n",
      " 7   Home Owner        1005 non-null   int64  \n",
      " 8   Cars              1005 non-null   int64  \n",
      " 9   Commute Distance  1005 non-null   object \n",
      " 10  Region            1005 non-null   object \n",
      " 11  Age               1005 non-null   int64  \n",
      " 12  Purchased Bike    1005 non-null   int64  \n",
      "dtypes: float64(1), int64(6), object(6)\n",
      "memory usage: 109.9+ KB\n",
      "None\n"
     ]
    }
   ],
   "source": [
    "\n",
    "\n",
    "# Removing duplicated rows from the dataframe\n",
    "data = data.drop_duplicates()\n",
    "\n",
    "#  information about the dataframe after removing duplicates\n",
    "print(data.info())\n",
    "\n",
    "\n"
   ]
  },
  {
   "cell_type": "code",
   "execution_count": 17,
   "metadata": {},
   "outputs": [
    {
     "name": "stdout",
     "output_type": "stream",
     "text": [
      "0\n"
     ]
    }
   ],
   "source": [
    "print(data.duplicated().sum()) # check the number of duplicated rows after removing duplicates"
   ]
  },
  {
   "cell_type": "code",
   "execution_count": 18,
   "metadata": {},
   "outputs": [
    {
     "name": "stdout",
     "output_type": "stream",
     "text": [
      "Average income:  56218.90547263682\n",
      "percentage of employees earn more than $50,000:  52.537313432835816 % \n",
      "\n",
      "percentage of employees have purchased a bike:  48.159203980099505 % \n",
      "\n"
     ]
    }
   ],
   "source": [
    "\n",
    "# 1. What is the average income of the employees  in this dataset?\n",
    "avg_income = data[' Income '].mean()\n",
    "print(\"Average income: \",avg_income)\n",
    "\n",
    "\n",
    "# 2. Which percentage of employees earn more than $50,000 ?\n",
    "percentage=(data[' Income '] > 50000).sum() \n",
    "\n",
    "\n",
    "print(\"percentage of employees earn more than $50,000: \",percentage/len(data) *100,\"% \\n\")\n",
    "\n",
    "\n",
    "\n",
    "\n",
    "# 3. Which percentage of employees have purchased a bike?\n",
    "percentage=(data['Purchased Bike']==1).sum() / len(data) * 100\n",
    "print(\"percentage of employees have purchased a bike: \",percentage,\"% \\n\")\n"
   ]
  },
  {
   "cell_type": "code",
   "execution_count": 19,
   "metadata": {},
   "outputs": [
    {
     "name": "stdout",
     "output_type": "stream",
     "text": [
      "Most common occupation:  0    Professional\n",
      "Name: Occupation, dtype: object \n",
      "\n",
      "Number of  with no children: 282 \n",
      "\n",
      "Average number of cars:  1.4398009950248756 \n",
      "\n"
     ]
    }
   ],
   "source": [
    "\n",
    "# 4. What is the most common occupation in this dataset?\n",
    "common_occupation = data['Occupation'].mode()\n",
    "print(\"Most common occupation: \",common_occupation,\"\\n\")\n",
    "\n",
    "\n",
    "\n",
    "# 5. How many employees in this dataset have no children?\n",
    "num_no_children = (data['Children'] == 0).sum()\n",
    "print(\"Number of  with no children:\",num_no_children,\"\\n\")\n",
    "\n",
    "\n",
    "\n",
    "# 6. What is the average number of cars owned by employeesls in this dataset?\n",
    "avg_num_cars = data['Cars'].mean()\n",
    "print(\"Average number of cars: \",avg_num_cars,\"\\n\")\n"
   ]
  },
  {
   "cell_type": "code",
   "execution_count": 20,
   "metadata": {},
   "outputs": [
    {
     "data": {
      "text/html": [
       "<div>\n",
       "<style scoped>\n",
       "    .dataframe tbody tr th:only-of-type {\n",
       "        vertical-align: middle;\n",
       "    }\n",
       "\n",
       "    .dataframe tbody tr th {\n",
       "        vertical-align: top;\n",
       "    }\n",
       "\n",
       "    .dataframe thead th {\n",
       "        text-align: right;\n",
       "    }\n",
       "</style>\n",
       "<table border=\"1\" class=\"dataframe\">\n",
       "  <thead>\n",
       "    <tr style=\"text-align: right;\">\n",
       "      <th></th>\n",
       "      <th>ID</th>\n",
       "      <th>Marital Status</th>\n",
       "      <th>Gender</th>\n",
       "      <th>Income</th>\n",
       "      <th>Children</th>\n",
       "      <th>Education</th>\n",
       "      <th>Occupation</th>\n",
       "      <th>Home Owner</th>\n",
       "      <th>Cars</th>\n",
       "      <th>Commute Distance</th>\n",
       "      <th>Region</th>\n",
       "      <th>Age</th>\n",
       "      <th>Purchased Bike</th>\n",
       "    </tr>\n",
       "  </thead>\n",
       "  <tbody>\n",
       "    <tr>\n",
       "      <th>389</th>\n",
       "      <td>13122</td>\n",
       "      <td>married</td>\n",
       "      <td>female</td>\n",
       "      <td>80000.0</td>\n",
       "      <td>0</td>\n",
       "      <td>Bachelors</td>\n",
       "      <td>Professional</td>\n",
       "      <td>1</td>\n",
       "      <td>1</td>\n",
       "      <td>1-2 Miles</td>\n",
       "      <td>Pacific</td>\n",
       "      <td>41</td>\n",
       "      <td>1</td>\n",
       "    </tr>\n",
       "    <tr>\n",
       "      <th>557</th>\n",
       "      <td>24725</td>\n",
       "      <td>married</td>\n",
       "      <td>female</td>\n",
       "      <td>40000.0</td>\n",
       "      <td>3</td>\n",
       "      <td>Partial College</td>\n",
       "      <td>Clerical</td>\n",
       "      <td>1</td>\n",
       "      <td>0</td>\n",
       "      <td>1-2 Miles</td>\n",
       "      <td>North America</td>\n",
       "      <td>31</td>\n",
       "      <td>0</td>\n",
       "    </tr>\n",
       "    <tr>\n",
       "      <th>252</th>\n",
       "      <td>12666</td>\n",
       "      <td>single</td>\n",
       "      <td>male</td>\n",
       "      <td>60000.0</td>\n",
       "      <td>0</td>\n",
       "      <td>Bachelors</td>\n",
       "      <td>Professional</td>\n",
       "      <td>0</td>\n",
       "      <td>4</td>\n",
       "      <td>2-5 Miles</td>\n",
       "      <td>Pacific</td>\n",
       "      <td>31</td>\n",
       "      <td>0</td>\n",
       "    </tr>\n",
       "    <tr>\n",
       "      <th>535</th>\n",
       "      <td>23893</td>\n",
       "      <td>married</td>\n",
       "      <td>male</td>\n",
       "      <td>50000.0</td>\n",
       "      <td>3</td>\n",
       "      <td>Bachelors</td>\n",
       "      <td>Skilled Manual</td>\n",
       "      <td>1</td>\n",
       "      <td>3</td>\n",
       "      <td>10+ Miles</td>\n",
       "      <td>North America</td>\n",
       "      <td>41</td>\n",
       "      <td>0</td>\n",
       "    </tr>\n",
       "    <tr>\n",
       "      <th>619</th>\n",
       "      <td>15814</td>\n",
       "      <td>single</td>\n",
       "      <td>female</td>\n",
       "      <td>40000.0</td>\n",
       "      <td>0</td>\n",
       "      <td>High School</td>\n",
       "      <td>Skilled Manual</td>\n",
       "      <td>1</td>\n",
       "      <td>1</td>\n",
       "      <td>5-10 Miles</td>\n",
       "      <td>North America</td>\n",
       "      <td>30</td>\n",
       "      <td>0</td>\n",
       "    </tr>\n",
       "    <tr>\n",
       "      <th>403</th>\n",
       "      <td>17882</td>\n",
       "      <td>married</td>\n",
       "      <td>male</td>\n",
       "      <td>20000.0</td>\n",
       "      <td>1</td>\n",
       "      <td>Graduate Degree</td>\n",
       "      <td>Clerical</td>\n",
       "      <td>1</td>\n",
       "      <td>0</td>\n",
       "      <td>0-1 Miles</td>\n",
       "      <td>Europe</td>\n",
       "      <td>44</td>\n",
       "      <td>0</td>\n",
       "    </tr>\n",
       "    <tr>\n",
       "      <th>655</th>\n",
       "      <td>26236</td>\n",
       "      <td>married</td>\n",
       "      <td>female</td>\n",
       "      <td>40000.0</td>\n",
       "      <td>3</td>\n",
       "      <td>Partial College</td>\n",
       "      <td>Clerical</td>\n",
       "      <td>1</td>\n",
       "      <td>1</td>\n",
       "      <td>0-1 Miles</td>\n",
       "      <td>North America</td>\n",
       "      <td>31</td>\n",
       "      <td>0</td>\n",
       "    </tr>\n",
       "    <tr>\n",
       "      <th>394</th>\n",
       "      <td>17793</td>\n",
       "      <td>married</td>\n",
       "      <td>female</td>\n",
       "      <td>40000.0</td>\n",
       "      <td>0</td>\n",
       "      <td>Bachelors</td>\n",
       "      <td>Clerical</td>\n",
       "      <td>1</td>\n",
       "      <td>0</td>\n",
       "      <td>0-1 Miles</td>\n",
       "      <td>Europe</td>\n",
       "      <td>38</td>\n",
       "      <td>1</td>\n",
       "    </tr>\n",
       "    <tr>\n",
       "      <th>298</th>\n",
       "      <td>14189</td>\n",
       "      <td>married</td>\n",
       "      <td>female</td>\n",
       "      <td>90000.0</td>\n",
       "      <td>4</td>\n",
       "      <td>High School</td>\n",
       "      <td>Professional</td>\n",
       "      <td>0</td>\n",
       "      <td>2</td>\n",
       "      <td>2-5 Miles</td>\n",
       "      <td>Europe</td>\n",
       "      <td>54</td>\n",
       "      <td>1</td>\n",
       "    </tr>\n",
       "    <tr>\n",
       "      <th>262</th>\n",
       "      <td>28468</td>\n",
       "      <td>married</td>\n",
       "      <td>female</td>\n",
       "      <td>10000.0</td>\n",
       "      <td>2</td>\n",
       "      <td>Partial College</td>\n",
       "      <td>Manual</td>\n",
       "      <td>1</td>\n",
       "      <td>0</td>\n",
       "      <td>1-2 Miles</td>\n",
       "      <td>Europe</td>\n",
       "      <td>51</td>\n",
       "      <td>0</td>\n",
       "    </tr>\n",
       "  </tbody>\n",
       "</table>\n",
       "</div>"
      ],
      "text/plain": [
       "        ID Marital Status  Gender   Income   Children        Education  \\\n",
       "389  13122        married  female   80000.0         0        Bachelors   \n",
       "557  24725        married  female   40000.0         3  Partial College   \n",
       "252  12666         single    male   60000.0         0        Bachelors   \n",
       "535  23893        married    male   50000.0         3        Bachelors   \n",
       "619  15814         single  female   40000.0         0      High School   \n",
       "403  17882        married    male   20000.0         1  Graduate Degree   \n",
       "655  26236        married  female   40000.0         3  Partial College   \n",
       "394  17793        married  female   40000.0         0        Bachelors   \n",
       "298  14189        married  female   90000.0         4      High School   \n",
       "262  28468        married  female   10000.0         2  Partial College   \n",
       "\n",
       "         Occupation  Home Owner  Cars Commute Distance         Region  Age  \\\n",
       "389    Professional           1     1        1-2 Miles        Pacific   41   \n",
       "557        Clerical           1     0        1-2 Miles  North America   31   \n",
       "252    Professional           0     4        2-5 Miles        Pacific   31   \n",
       "535  Skilled Manual           1     3        10+ Miles  North America   41   \n",
       "619  Skilled Manual           1     1       5-10 Miles  North America   30   \n",
       "403        Clerical           1     0        0-1 Miles         Europe   44   \n",
       "655        Clerical           1     1        0-1 Miles  North America   31   \n",
       "394        Clerical           1     0        0-1 Miles         Europe   38   \n",
       "298    Professional           0     2        2-5 Miles         Europe   54   \n",
       "262          Manual           1     0        1-2 Miles         Europe   51   \n",
       "\n",
       "     Purchased Bike  \n",
       "389               1  \n",
       "557               0  \n",
       "252               0  \n",
       "535               0  \n",
       "619               0  \n",
       "403               0  \n",
       "655               0  \n",
       "394               1  \n",
       "298               1  \n",
       "262               0  "
      ]
     },
     "execution_count": 20,
     "metadata": {},
     "output_type": "execute_result"
    }
   ],
   "source": [
    "data.sample(10) # check the first 10 rows of the data after cleaning"
   ]
  },
  {
   "cell_type": "code",
   "execution_count": 21,
   "metadata": {},
   "outputs": [
    {
     "name": "stdout",
     "output_type": "stream",
     "text": [
      "Number of employees live in  Pacific region:  193 \n",
      "\n",
      "the average age : 44.14029850746269 \n",
      "\n",
      "the percentage in this dataset who have a commute distance of 5-10 miles and own a home:  15.522388059701491 %\n",
      "\n"
     ]
    }
   ],
   "source": [
    "\n",
    "# 7. How many employees in this dataset live in the Pacific region?\n",
    "num_pacific_region = (data['Region'] == 'Pacific').sum()\n",
    "print(\"Number of employees live in  Pacific region: \",num_pacific_region,\"\\n\")\n",
    "\n",
    "\n",
    "# 8. What is the average age  in this dataset?\n",
    "print(\"the average age :\",data['Age'].mean(),\"\\n\")\n",
    "\n",
    "\n",
    "a=0\n",
    "\n",
    "    \n",
    "for i,n in zip(data[\"Home Owner\"] , data[\"Commute Distance\"]):\n",
    "    if (n == '5-10 Miles') and (i == 1):\n",
    "        a+=1\n",
    "\n",
    "#9. what is the percentage in this dataset who have a commute distance of 5-10 miles and own a home?\n",
    "print(\"the percentage in this dataset who have a commute distance of 5-10 miles and own a home: \",a/len(data[\"Home Owner\"])*100,\"%\\n\")\n"
   ]
  },
  {
   "cell_type": "code",
   "execution_count": 22,
   "metadata": {},
   "outputs": [
    {
     "name": "stdout",
     "output_type": "stream",
     "text": [
      "the most common commute distance 0-1 Miles \n",
      "\n",
      "the most common commute gender: male \n",
      "\n",
      "the average income of male individuals: 57957.198443579764 \n",
      "\n"
     ]
    }
   ],
   "source": [
    "\n",
    "#10. What is the most common commute distance in this dataset?\n",
    "print(\"the most common commute distance\",data[\"Commute Distance\"].mode().iloc[0],\"\\n\") \n",
    "\n",
    "\n",
    "# 11. What is the most common gender in this dataset?\n",
    "\n",
    "print(\"the most common commute gender:\",data[\"Gender\"].mode().iloc[0],\"\\n\")\n",
    "\n",
    "#12.what is the average income of male employees\n",
    "male_income_mean = data[data['Gender']=='male'][' Income '].mean()\n",
    "print(\"the average income of male individuals:\",male_income_mean,\"\\n\")\n"
   ]
  },
  {
   "cell_type": "code",
   "execution_count": 23,
   "metadata": {},
   "outputs": [
    {
     "name": "stdout",
     "output_type": "stream",
     "text": [
      "the average income of female individuals: 54399.18533604888 \n",
      "\n",
      "the percentage of male : 51.14427860696517 % \n",
      "\n",
      "the percentage of female : 48.85572139303483 % \n",
      "\n"
     ]
    }
   ],
   "source": [
    "\n",
    "#13.what is the average income of female employees\n",
    "female_income_mean = data[data['Gender']=='female'][' Income '].mean()\n",
    "print(\"the average income of female individuals:\",female_income_mean,\"\\n\")\n",
    "\n",
    "\n",
    "#14. What is the percentage of male employees in this dataset?\n",
    "percentage_male = (data['Gender'] ==\"male\").sum() / len(data) * 100\n",
    "print(\"the percentage of male :\",percentage_male,\"% \\n\")\n",
    "\n",
    "\n",
    "#15.What is the percentage of female employees in this dataset?\n",
    "print(\"the percentage of female :\",100-percentage_male,\"% \\n\")"
   ]
  },
  {
   "cell_type": "code",
   "execution_count": 24,
   "metadata": {},
   "outputs": [
    {
     "name": "stdout",
     "output_type": "stream",
     "text": [
      "employee in this dataset have 2 or more cars and income <50000:  177 employee\n",
      "\n",
      "percentage of individuals in this dataset who are home owners and have purchased a bike :  32.43781094527363 %\n",
      "\n",
      "highest income:  170000.0 \n",
      "\n",
      "partial college education:  264 employee \n",
      "\n"
     ]
    }
   ],
   "source": [
    "\n",
    "#16.How many employee in this dataset have 2 or more cars and income <50000?\n",
    "print(\"employee in this dataset have 2 or more cars and income <50000: \",((data['Cars'] >= 2) & (data[' Income '] < 50000)).sum(),\"employee\\n\")\n",
    "\n",
    "#17.What is the percentage of indiviuals in this dataset who are home owners and have purchased a bike?\n",
    "percentage=(((data[\"Home Owner\"]==1)& (data[\"Purchased Bike\"]==1)).sum())/len(data) *100\n",
    "print(\"percentage of individuals in this dataset who are home owners and have purchased a bike : \",percentage,\"%\\n\")\n",
    "\n",
    "#18.What is the highest income in this dataset?\n",
    "print(\"highest income: \",data[\" Income \"].max(),\"\\n\")\n",
    "\n",
    "\n",
    "#19.How many employee in this dataset have a partial college education?\n",
    "\n",
    "print(\"partial college education: \",(data['Education']==\"Partial College\").sum(),\"employee \\n\")"
   ]
  },
  {
   "cell_type": "code",
   "execution_count": 25,
   "metadata": {},
   "outputs": [
    {
     "name": "stdout",
     "output_type": "stream",
     "text": [
      "employee in this dataset are over 50 years old :  277  employee\n",
      "\n",
      " number of male employees in over 50 years old:  0 employee \n",
      "\n",
      "employee in this dataset have a skilled manual occupation 255 employee \n",
      "\n",
      "id for the highest income:  [11434, 16009] \n",
      "\n"
     ]
    }
   ],
   "source": [
    "#20.How many employee in this dataset are over 50 years old?\n",
    "employe=(data[\"Age\"]>50).sum()\n",
    "print(\"employee in this dataset are over 50 years old : \",employe,\" employee\\n\")\n",
    "#21.What is the percentage of male employees in over 50 years old?\n",
    "employe=((data[\"Age\"]>50) & (data[\"Gender\"]==1)).sum()\n",
    "print(\" number of male employees in over 50 years old: \",employe,\"employee \\n\")\n",
    "\n",
    "#22.How many employee in this dataset have a skilled manual occupation?\n",
    "employe=(data[\"Occupation\"]==\"Skilled Manual\").sum()\n",
    "print(\"employee in this dataset have a skilled manual occupation\",employe,\"employee \\n\")\n",
    "\n",
    "\n",
    "#23.what is the ID of all rows with the highest income?\n",
    "max_income = data[' Income '].max()\n",
    "id = data.loc[data[' Income '] == max_income, 'ID']\n",
    "print(\"id for the highest income: \",list(id),\"\\n\")"
   ]
  },
  {
   "cell_type": "code",
   "execution_count": 26,
   "metadata": {},
   "outputs": [
    {
     "name": "stdout",
     "output_type": "stream",
     "text": [
      "employee in this dataset have a graduate degree:  314 employee \n",
      "\n",
      "the avrege income in Europe: 40728.47682119205 $ \n",
      "\n",
      "the avrege income in pacific: 63575.12953367876 $ \n",
      "\n"
     ]
    }
   ],
   "source": [
    "\n",
    "#24.How many employee in this dataset have a graduate degree?\n",
    "num_graduate = ((data['Education'] == 'Graduate') | (data['Education'] == 'Bachelors')).sum()\n",
    "print(\"employee in this dataset have a graduate degree: \",num_graduate,\"employee \\n\")\n",
    " \n",
    "#25.what is the avrege income in Europe?\n",
    "avg=data.loc[data['Region'] == 'Europe', ' Income '].mean()\n",
    "print(\"the avrege income in Europe:\",avg,\"$ \\n\")\n",
    "\n",
    "\n",
    "#26.what is the avrege income in pacific?\n",
    "avg=data.loc[data['Region'] == 'Pacific', ' Income '].mean()\n",
    "print(\"the avrege income in pacific:\",avg,\"$ \\n\")\n"
   ]
  },
  {
   "cell_type": "code",
   "execution_count": 27,
   "metadata": {},
   "outputs": [
    {
     "name": "stdout",
     "output_type": "stream",
     "text": [
      "most common marital status:  married \n",
      "\n",
      "the avrege income for single: 53755.36480686695 $\n",
      "\n",
      "the avrege income for married: 58348.794063079775 $\n",
      "\n"
     ]
    }
   ],
   "source": [
    "\n",
    "#27.What is the most common Marital Status in dataset?\n",
    "status=data['Marital Status'].mode().iloc[0]\n",
    "print(\"most common marital status: \",status,\"\\n\")\n",
    "\n",
    "\n",
    "#28.what is the avrege income for single ?\n",
    "avg_status=data[data[\"Marital Status\"]==\"single\"] [\" Income \"].mean()\n",
    "print(\"the avrege income for single:\",avg_status,\"$\\n\")\n",
    "\n",
    "\n",
    "\n",
    "#28.what is the avrege income for married ?\n",
    "avg_status=data[data[\"Marital Status\"]==\"married\"] [\" Income \"].mean()\n",
    "\n",
    "print(\"the avrege income for married:\",avg_status,\"$\\n\")\n",
    "\n"
   ]
  },
  {
   "cell_type": "code",
   "execution_count": 28,
   "metadata": {},
   "outputs": [
    {
     "data": {
      "application/vnd.plotly.v1+json": {
       "config": {
        "plotlyServerURL": "https://plot.ly"
       },
       "data": [
        {
         "hovertemplate": "Number of Cars=%{x}<br>Mean Income=%{y}<extra></extra>",
         "legendgroup": "",
         "marker": {
          "color": "skyblue",
          "pattern": {
           "shape": ""
          }
         },
         "name": "",
         "orientation": "v",
         "showlegend": false,
         "textposition": "auto",
         "type": "bar",
         "x": {
          "bdata": "AAECAwQ=",
          "dtype": "i1"
         },
         "xaxis": "x",
         "y": {
          "bdata": "U0oppZQ750Avob2E9sHoQHcH+jfTGehAaWlpaWkW9kB1Xx5bEXH6QA==",
          "dtype": "f8"
         },
         "yaxis": "y"
        }
       ],
       "layout": {
        "barmode": "relative",
        "legend": {
         "tracegroupgap": 0
        },
        "template": {
         "data": {
          "bar": [
           {
            "error_x": {
             "color": "#2a3f5f"
            },
            "error_y": {
             "color": "#2a3f5f"
            },
            "marker": {
             "line": {
              "color": "#E5ECF6",
              "width": 0.5
             },
             "pattern": {
              "fillmode": "overlay",
              "size": 10,
              "solidity": 0.2
             }
            },
            "type": "bar"
           }
          ],
          "barpolar": [
           {
            "marker": {
             "line": {
              "color": "#E5ECF6",
              "width": 0.5
             },
             "pattern": {
              "fillmode": "overlay",
              "size": 10,
              "solidity": 0.2
             }
            },
            "type": "barpolar"
           }
          ],
          "carpet": [
           {
            "aaxis": {
             "endlinecolor": "#2a3f5f",
             "gridcolor": "white",
             "linecolor": "white",
             "minorgridcolor": "white",
             "startlinecolor": "#2a3f5f"
            },
            "baxis": {
             "endlinecolor": "#2a3f5f",
             "gridcolor": "white",
             "linecolor": "white",
             "minorgridcolor": "white",
             "startlinecolor": "#2a3f5f"
            },
            "type": "carpet"
           }
          ],
          "choropleth": [
           {
            "colorbar": {
             "outlinewidth": 0,
             "ticks": ""
            },
            "type": "choropleth"
           }
          ],
          "contour": [
           {
            "colorbar": {
             "outlinewidth": 0,
             "ticks": ""
            },
            "colorscale": [
             [
              0,
              "#0d0887"
             ],
             [
              0.1111111111111111,
              "#46039f"
             ],
             [
              0.2222222222222222,
              "#7201a8"
             ],
             [
              0.3333333333333333,
              "#9c179e"
             ],
             [
              0.4444444444444444,
              "#bd3786"
             ],
             [
              0.5555555555555556,
              "#d8576b"
             ],
             [
              0.6666666666666666,
              "#ed7953"
             ],
             [
              0.7777777777777778,
              "#fb9f3a"
             ],
             [
              0.8888888888888888,
              "#fdca26"
             ],
             [
              1,
              "#f0f921"
             ]
            ],
            "type": "contour"
           }
          ],
          "contourcarpet": [
           {
            "colorbar": {
             "outlinewidth": 0,
             "ticks": ""
            },
            "type": "contourcarpet"
           }
          ],
          "heatmap": [
           {
            "colorbar": {
             "outlinewidth": 0,
             "ticks": ""
            },
            "colorscale": [
             [
              0,
              "#0d0887"
             ],
             [
              0.1111111111111111,
              "#46039f"
             ],
             [
              0.2222222222222222,
              "#7201a8"
             ],
             [
              0.3333333333333333,
              "#9c179e"
             ],
             [
              0.4444444444444444,
              "#bd3786"
             ],
             [
              0.5555555555555556,
              "#d8576b"
             ],
             [
              0.6666666666666666,
              "#ed7953"
             ],
             [
              0.7777777777777778,
              "#fb9f3a"
             ],
             [
              0.8888888888888888,
              "#fdca26"
             ],
             [
              1,
              "#f0f921"
             ]
            ],
            "type": "heatmap"
           }
          ],
          "histogram": [
           {
            "marker": {
             "pattern": {
              "fillmode": "overlay",
              "size": 10,
              "solidity": 0.2
             }
            },
            "type": "histogram"
           }
          ],
          "histogram2d": [
           {
            "colorbar": {
             "outlinewidth": 0,
             "ticks": ""
            },
            "colorscale": [
             [
              0,
              "#0d0887"
             ],
             [
              0.1111111111111111,
              "#46039f"
             ],
             [
              0.2222222222222222,
              "#7201a8"
             ],
             [
              0.3333333333333333,
              "#9c179e"
             ],
             [
              0.4444444444444444,
              "#bd3786"
             ],
             [
              0.5555555555555556,
              "#d8576b"
             ],
             [
              0.6666666666666666,
              "#ed7953"
             ],
             [
              0.7777777777777778,
              "#fb9f3a"
             ],
             [
              0.8888888888888888,
              "#fdca26"
             ],
             [
              1,
              "#f0f921"
             ]
            ],
            "type": "histogram2d"
           }
          ],
          "histogram2dcontour": [
           {
            "colorbar": {
             "outlinewidth": 0,
             "ticks": ""
            },
            "colorscale": [
             [
              0,
              "#0d0887"
             ],
             [
              0.1111111111111111,
              "#46039f"
             ],
             [
              0.2222222222222222,
              "#7201a8"
             ],
             [
              0.3333333333333333,
              "#9c179e"
             ],
             [
              0.4444444444444444,
              "#bd3786"
             ],
             [
              0.5555555555555556,
              "#d8576b"
             ],
             [
              0.6666666666666666,
              "#ed7953"
             ],
             [
              0.7777777777777778,
              "#fb9f3a"
             ],
             [
              0.8888888888888888,
              "#fdca26"
             ],
             [
              1,
              "#f0f921"
             ]
            ],
            "type": "histogram2dcontour"
           }
          ],
          "mesh3d": [
           {
            "colorbar": {
             "outlinewidth": 0,
             "ticks": ""
            },
            "type": "mesh3d"
           }
          ],
          "parcoords": [
           {
            "line": {
             "colorbar": {
              "outlinewidth": 0,
              "ticks": ""
             }
            },
            "type": "parcoords"
           }
          ],
          "pie": [
           {
            "automargin": true,
            "type": "pie"
           }
          ],
          "scatter": [
           {
            "fillpattern": {
             "fillmode": "overlay",
             "size": 10,
             "solidity": 0.2
            },
            "type": "scatter"
           }
          ],
          "scatter3d": [
           {
            "line": {
             "colorbar": {
              "outlinewidth": 0,
              "ticks": ""
             }
            },
            "marker": {
             "colorbar": {
              "outlinewidth": 0,
              "ticks": ""
             }
            },
            "type": "scatter3d"
           }
          ],
          "scattercarpet": [
           {
            "marker": {
             "colorbar": {
              "outlinewidth": 0,
              "ticks": ""
             }
            },
            "type": "scattercarpet"
           }
          ],
          "scattergeo": [
           {
            "marker": {
             "colorbar": {
              "outlinewidth": 0,
              "ticks": ""
             }
            },
            "type": "scattergeo"
           }
          ],
          "scattergl": [
           {
            "marker": {
             "colorbar": {
              "outlinewidth": 0,
              "ticks": ""
             }
            },
            "type": "scattergl"
           }
          ],
          "scattermap": [
           {
            "marker": {
             "colorbar": {
              "outlinewidth": 0,
              "ticks": ""
             }
            },
            "type": "scattermap"
           }
          ],
          "scattermapbox": [
           {
            "marker": {
             "colorbar": {
              "outlinewidth": 0,
              "ticks": ""
             }
            },
            "type": "scattermapbox"
           }
          ],
          "scatterpolar": [
           {
            "marker": {
             "colorbar": {
              "outlinewidth": 0,
              "ticks": ""
             }
            },
            "type": "scatterpolar"
           }
          ],
          "scatterpolargl": [
           {
            "marker": {
             "colorbar": {
              "outlinewidth": 0,
              "ticks": ""
             }
            },
            "type": "scatterpolargl"
           }
          ],
          "scatterternary": [
           {
            "marker": {
             "colorbar": {
              "outlinewidth": 0,
              "ticks": ""
             }
            },
            "type": "scatterternary"
           }
          ],
          "surface": [
           {
            "colorbar": {
             "outlinewidth": 0,
             "ticks": ""
            },
            "colorscale": [
             [
              0,
              "#0d0887"
             ],
             [
              0.1111111111111111,
              "#46039f"
             ],
             [
              0.2222222222222222,
              "#7201a8"
             ],
             [
              0.3333333333333333,
              "#9c179e"
             ],
             [
              0.4444444444444444,
              "#bd3786"
             ],
             [
              0.5555555555555556,
              "#d8576b"
             ],
             [
              0.6666666666666666,
              "#ed7953"
             ],
             [
              0.7777777777777778,
              "#fb9f3a"
             ],
             [
              0.8888888888888888,
              "#fdca26"
             ],
             [
              1,
              "#f0f921"
             ]
            ],
            "type": "surface"
           }
          ],
          "table": [
           {
            "cells": {
             "fill": {
              "color": "#EBF0F8"
             },
             "line": {
              "color": "white"
             }
            },
            "header": {
             "fill": {
              "color": "#C8D4E3"
             },
             "line": {
              "color": "white"
             }
            },
            "type": "table"
           }
          ]
         },
         "layout": {
          "annotationdefaults": {
           "arrowcolor": "#2a3f5f",
           "arrowhead": 0,
           "arrowwidth": 1
          },
          "autotypenumbers": "strict",
          "coloraxis": {
           "colorbar": {
            "outlinewidth": 0,
            "ticks": ""
           }
          },
          "colorscale": {
           "diverging": [
            [
             0,
             "#8e0152"
            ],
            [
             0.1,
             "#c51b7d"
            ],
            [
             0.2,
             "#de77ae"
            ],
            [
             0.3,
             "#f1b6da"
            ],
            [
             0.4,
             "#fde0ef"
            ],
            [
             0.5,
             "#f7f7f7"
            ],
            [
             0.6,
             "#e6f5d0"
            ],
            [
             0.7,
             "#b8e186"
            ],
            [
             0.8,
             "#7fbc41"
            ],
            [
             0.9,
             "#4d9221"
            ],
            [
             1,
             "#276419"
            ]
           ],
           "sequential": [
            [
             0,
             "#0d0887"
            ],
            [
             0.1111111111111111,
             "#46039f"
            ],
            [
             0.2222222222222222,
             "#7201a8"
            ],
            [
             0.3333333333333333,
             "#9c179e"
            ],
            [
             0.4444444444444444,
             "#bd3786"
            ],
            [
             0.5555555555555556,
             "#d8576b"
            ],
            [
             0.6666666666666666,
             "#ed7953"
            ],
            [
             0.7777777777777778,
             "#fb9f3a"
            ],
            [
             0.8888888888888888,
             "#fdca26"
            ],
            [
             1,
             "#f0f921"
            ]
           ],
           "sequentialminus": [
            [
             0,
             "#0d0887"
            ],
            [
             0.1111111111111111,
             "#46039f"
            ],
            [
             0.2222222222222222,
             "#7201a8"
            ],
            [
             0.3333333333333333,
             "#9c179e"
            ],
            [
             0.4444444444444444,
             "#bd3786"
            ],
            [
             0.5555555555555556,
             "#d8576b"
            ],
            [
             0.6666666666666666,
             "#ed7953"
            ],
            [
             0.7777777777777778,
             "#fb9f3a"
            ],
            [
             0.8888888888888888,
             "#fdca26"
            ],
            [
             1,
             "#f0f921"
            ]
           ]
          },
          "colorway": [
           "#636efa",
           "#EF553B",
           "#00cc96",
           "#ab63fa",
           "#FFA15A",
           "#19d3f3",
           "#FF6692",
           "#B6E880",
           "#FF97FF",
           "#FECB52"
          ],
          "font": {
           "color": "#2a3f5f"
          },
          "geo": {
           "bgcolor": "white",
           "lakecolor": "white",
           "landcolor": "#E5ECF6",
           "showlakes": true,
           "showland": true,
           "subunitcolor": "white"
          },
          "hoverlabel": {
           "align": "left"
          },
          "hovermode": "closest",
          "mapbox": {
           "style": "light"
          },
          "paper_bgcolor": "white",
          "plot_bgcolor": "#E5ECF6",
          "polar": {
           "angularaxis": {
            "gridcolor": "white",
            "linecolor": "white",
            "ticks": ""
           },
           "bgcolor": "#E5ECF6",
           "radialaxis": {
            "gridcolor": "white",
            "linecolor": "white",
            "ticks": ""
           }
          },
          "scene": {
           "xaxis": {
            "backgroundcolor": "#E5ECF6",
            "gridcolor": "white",
            "gridwidth": 2,
            "linecolor": "white",
            "showbackground": true,
            "ticks": "",
            "zerolinecolor": "white"
           },
           "yaxis": {
            "backgroundcolor": "#E5ECF6",
            "gridcolor": "white",
            "gridwidth": 2,
            "linecolor": "white",
            "showbackground": true,
            "ticks": "",
            "zerolinecolor": "white"
           },
           "zaxis": {
            "backgroundcolor": "#E5ECF6",
            "gridcolor": "white",
            "gridwidth": 2,
            "linecolor": "white",
            "showbackground": true,
            "ticks": "",
            "zerolinecolor": "white"
           }
          },
          "shapedefaults": {
           "line": {
            "color": "#2a3f5f"
           }
          },
          "ternary": {
           "aaxis": {
            "gridcolor": "white",
            "linecolor": "white",
            "ticks": ""
           },
           "baxis": {
            "gridcolor": "white",
            "linecolor": "white",
            "ticks": ""
           },
           "bgcolor": "#E5ECF6",
           "caxis": {
            "gridcolor": "white",
            "linecolor": "white",
            "ticks": ""
           }
          },
          "title": {
           "x": 0.05
          },
          "xaxis": {
           "automargin": true,
           "gridcolor": "white",
           "linecolor": "white",
           "ticks": "",
           "title": {
            "standoff": 15
           },
           "zerolinecolor": "white",
           "zerolinewidth": 2
          },
          "yaxis": {
           "automargin": true,
           "gridcolor": "white",
           "linecolor": "white",
           "ticks": "",
           "title": {
            "standoff": 15
           },
           "zerolinecolor": "white",
           "zerolinewidth": 2
          }
         }
        },
        "title": {
         "text": "Mean Income by Number of Cars Owned"
        },
        "xaxis": {
         "anchor": "y",
         "domain": [
          0,
          1
         ],
         "title": {
          "text": "Number of Cars"
         }
        },
        "yaxis": {
         "anchor": "x",
         "domain": [
          0,
          1
         ],
         "title": {
          "text": "Mean Income"
         }
        }
       }
      }
     },
     "metadata": {},
     "output_type": "display_data"
    }
   ],
   "source": [
    "\n",
    "\n",
    "\n",
    "# Calculate mean income grouped by number of cars\n",
    "income_by_cars = data.groupby(\"Cars\")[\" Income \"].mean()\n",
    "\n",
    "# Plotting the bar chart\n",
    "fig = px.bar(x=income_by_cars.index, y=income_by_cars.values, labels={'x': 'Number of Cars', 'y': 'Mean Income'}, title=\"Mean Income by Number of Cars Owned\", color_discrete_sequence=['skyblue'])\n",
    "fig.show()\n",
    "\n"
   ]
  },
  {
   "cell_type": "markdown",
   "metadata": {},
   "source": [
    "income_by_cars = data.groupby(\"Cars\")[' Income '].mean()\n",
    "fig = px.bar(x = income_by_cars.index , y = income_br_cars.values , labels = { 'x' : 'cars number ' , 'y' : 'mean income' } )"
   ]
  },
  {
   "cell_type": "code",
   "execution_count": 29,
   "metadata": {},
   "outputs": [
    {
     "data": {
      "application/vnd.plotly.v1+json": {
       "config": {
        "plotlyServerURL": "https://plot.ly"
       },
       "data": [
        {
         "alignmentgroup": "True",
         "hovertemplate": " Income =%{x}<extra></extra>",
         "legendgroup": "",
         "marker": {
          "color": "blue"
         },
         "name": "",
         "notched": false,
         "offsetgroup": "",
         "orientation": "h",
         "showlegend": false,
         "type": "box",
         "x": {
          "bdata": "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",
          "dtype": "f8"
         },
         "x0": " ",
         "xaxis": "x",
         "y0": " ",
         "yaxis": "y"
        }
       ],
       "layout": {
        "boxmode": "group",
        "legend": {
         "tracegroupgap": 0
        },
        "template": {
         "data": {
          "bar": [
           {
            "error_x": {
             "color": "#2a3f5f"
            },
            "error_y": {
             "color": "#2a3f5f"
            },
            "marker": {
             "line": {
              "color": "#E5ECF6",
              "width": 0.5
             },
             "pattern": {
              "fillmode": "overlay",
              "size": 10,
              "solidity": 0.2
             }
            },
            "type": "bar"
           }
          ],
          "barpolar": [
           {
            "marker": {
             "line": {
              "color": "#E5ECF6",
              "width": 0.5
             },
             "pattern": {
              "fillmode": "overlay",
              "size": 10,
              "solidity": 0.2
             }
            },
            "type": "barpolar"
           }
          ],
          "carpet": [
           {
            "aaxis": {
             "endlinecolor": "#2a3f5f",
             "gridcolor": "white",
             "linecolor": "white",
             "minorgridcolor": "white",
             "startlinecolor": "#2a3f5f"
            },
            "baxis": {
             "endlinecolor": "#2a3f5f",
             "gridcolor": "white",
             "linecolor": "white",
             "minorgridcolor": "white",
             "startlinecolor": "#2a3f5f"
            },
            "type": "carpet"
           }
          ],
          "choropleth": [
           {
            "colorbar": {
             "outlinewidth": 0,
             "ticks": ""
            },
            "type": "choropleth"
           }
          ],
          "contour": [
           {
            "colorbar": {
             "outlinewidth": 0,
             "ticks": ""
            },
            "colorscale": [
             [
              0,
              "#0d0887"
             ],
             [
              0.1111111111111111,
              "#46039f"
             ],
             [
              0.2222222222222222,
              "#7201a8"
             ],
             [
              0.3333333333333333,
              "#9c179e"
             ],
             [
              0.4444444444444444,
              "#bd3786"
             ],
             [
              0.5555555555555556,
              "#d8576b"
             ],
             [
              0.6666666666666666,
              "#ed7953"
             ],
             [
              0.7777777777777778,
              "#fb9f3a"
             ],
             [
              0.8888888888888888,
              "#fdca26"
             ],
             [
              1,
              "#f0f921"
             ]
            ],
            "type": "contour"
           }
          ],
          "contourcarpet": [
           {
            "colorbar": {
             "outlinewidth": 0,
             "ticks": ""
            },
            "type": "contourcarpet"
           }
          ],
          "heatmap": [
           {
            "colorbar": {
             "outlinewidth": 0,
             "ticks": ""
            },
            "colorscale": [
             [
              0,
              "#0d0887"
             ],
             [
              0.1111111111111111,
              "#46039f"
             ],
             [
              0.2222222222222222,
              "#7201a8"
             ],
             [
              0.3333333333333333,
              "#9c179e"
             ],
             [
              0.4444444444444444,
              "#bd3786"
             ],
             [
              0.5555555555555556,
              "#d8576b"
             ],
             [
              0.6666666666666666,
              "#ed7953"
             ],
             [
              0.7777777777777778,
              "#fb9f3a"
             ],
             [
              0.8888888888888888,
              "#fdca26"
             ],
             [
              1,
              "#f0f921"
             ]
            ],
            "type": "heatmap"
           }
          ],
          "histogram": [
           {
            "marker": {
             "pattern": {
              "fillmode": "overlay",
              "size": 10,
              "solidity": 0.2
             }
            },
            "type": "histogram"
           }
          ],
          "histogram2d": [
           {
            "colorbar": {
             "outlinewidth": 0,
             "ticks": ""
            },
            "colorscale": [
             [
              0,
              "#0d0887"
             ],
             [
              0.1111111111111111,
              "#46039f"
             ],
             [
              0.2222222222222222,
              "#7201a8"
             ],
             [
              0.3333333333333333,
              "#9c179e"
             ],
             [
              0.4444444444444444,
              "#bd3786"
             ],
             [
              0.5555555555555556,
              "#d8576b"
             ],
             [
              0.6666666666666666,
              "#ed7953"
             ],
             [
              0.7777777777777778,
              "#fb9f3a"
             ],
             [
              0.8888888888888888,
              "#fdca26"
             ],
             [
              1,
              "#f0f921"
             ]
            ],
            "type": "histogram2d"
           }
          ],
          "histogram2dcontour": [
           {
            "colorbar": {
             "outlinewidth": 0,
             "ticks": ""
            },
            "colorscale": [
             [
              0,
              "#0d0887"
             ],
             [
              0.1111111111111111,
              "#46039f"
             ],
             [
              0.2222222222222222,
              "#7201a8"
             ],
             [
              0.3333333333333333,
              "#9c179e"
             ],
             [
              0.4444444444444444,
              "#bd3786"
             ],
             [
              0.5555555555555556,
              "#d8576b"
             ],
             [
              0.6666666666666666,
              "#ed7953"
             ],
             [
              0.7777777777777778,
              "#fb9f3a"
             ],
             [
              0.8888888888888888,
              "#fdca26"
             ],
             [
              1,
              "#f0f921"
             ]
            ],
            "type": "histogram2dcontour"
           }
          ],
          "mesh3d": [
           {
            "colorbar": {
             "outlinewidth": 0,
             "ticks": ""
            },
            "type": "mesh3d"
           }
          ],
          "parcoords": [
           {
            "line": {
             "colorbar": {
              "outlinewidth": 0,
              "ticks": ""
             }
            },
            "type": "parcoords"
           }
          ],
          "pie": [
           {
            "automargin": true,
            "type": "pie"
           }
          ],
          "scatter": [
           {
            "fillpattern": {
             "fillmode": "overlay",
             "size": 10,
             "solidity": 0.2
            },
            "type": "scatter"
           }
          ],
          "scatter3d": [
           {
            "line": {
             "colorbar": {
              "outlinewidth": 0,
              "ticks": ""
             }
            },
            "marker": {
             "colorbar": {
              "outlinewidth": 0,
              "ticks": ""
             }
            },
            "type": "scatter3d"
           }
          ],
          "scattercarpet": [
           {
            "marker": {
             "colorbar": {
              "outlinewidth": 0,
              "ticks": ""
             }
            },
            "type": "scattercarpet"
           }
          ],
          "scattergeo": [
           {
            "marker": {
             "colorbar": {
              "outlinewidth": 0,
              "ticks": ""
             }
            },
            "type": "scattergeo"
           }
          ],
          "scattergl": [
           {
            "marker": {
             "colorbar": {
              "outlinewidth": 0,
              "ticks": ""
             }
            },
            "type": "scattergl"
           }
          ],
          "scattermap": [
           {
            "marker": {
             "colorbar": {
              "outlinewidth": 0,
              "ticks": ""
             }
            },
            "type": "scattermap"
           }
          ],
          "scattermapbox": [
           {
            "marker": {
             "colorbar": {
              "outlinewidth": 0,
              "ticks": ""
             }
            },
            "type": "scattermapbox"
           }
          ],
          "scatterpolar": [
           {
            "marker": {
             "colorbar": {
              "outlinewidth": 0,
              "ticks": ""
             }
            },
            "type": "scatterpolar"
           }
          ],
          "scatterpolargl": [
           {
            "marker": {
             "colorbar": {
              "outlinewidth": 0,
              "ticks": ""
             }
            },
            "type": "scatterpolargl"
           }
          ],
          "scatterternary": [
           {
            "marker": {
             "colorbar": {
              "outlinewidth": 0,
              "ticks": ""
             }
            },
            "type": "scatterternary"
           }
          ],
          "surface": [
           {
            "colorbar": {
             "outlinewidth": 0,
             "ticks": ""
            },
            "colorscale": [
             [
              0,
              "#0d0887"
             ],
             [
              0.1111111111111111,
              "#46039f"
             ],
             [
              0.2222222222222222,
              "#7201a8"
             ],
             [
              0.3333333333333333,
              "#9c179e"
             ],
             [
              0.4444444444444444,
              "#bd3786"
             ],
             [
              0.5555555555555556,
              "#d8576b"
             ],
             [
              0.6666666666666666,
              "#ed7953"
             ],
             [
              0.7777777777777778,
              "#fb9f3a"
             ],
             [
              0.8888888888888888,
              "#fdca26"
             ],
             [
              1,
              "#f0f921"
             ]
            ],
            "type": "surface"
           }
          ],
          "table": [
           {
            "cells": {
             "fill": {
              "color": "#EBF0F8"
             },
             "line": {
              "color": "white"
             }
            },
            "header": {
             "fill": {
              "color": "#C8D4E3"
             },
             "line": {
              "color": "white"
             }
            },
            "type": "table"
           }
          ]
         },
         "layout": {
          "annotationdefaults": {
           "arrowcolor": "#2a3f5f",
           "arrowhead": 0,
           "arrowwidth": 1
          },
          "autotypenumbers": "strict",
          "coloraxis": {
           "colorbar": {
            "outlinewidth": 0,
            "ticks": ""
           }
          },
          "colorscale": {
           "diverging": [
            [
             0,
             "#8e0152"
            ],
            [
             0.1,
             "#c51b7d"
            ],
            [
             0.2,
             "#de77ae"
            ],
            [
             0.3,
             "#f1b6da"
            ],
            [
             0.4,
             "#fde0ef"
            ],
            [
             0.5,
             "#f7f7f7"
            ],
            [
             0.6,
             "#e6f5d0"
            ],
            [
             0.7,
             "#b8e186"
            ],
            [
             0.8,
             "#7fbc41"
            ],
            [
             0.9,
             "#4d9221"
            ],
            [
             1,
             "#276419"
            ]
           ],
           "sequential": [
            [
             0,
             "#0d0887"
            ],
            [
             0.1111111111111111,
             "#46039f"
            ],
            [
             0.2222222222222222,
             "#7201a8"
            ],
            [
             0.3333333333333333,
             "#9c179e"
            ],
            [
             0.4444444444444444,
             "#bd3786"
            ],
            [
             0.5555555555555556,
             "#d8576b"
            ],
            [
             0.6666666666666666,
             "#ed7953"
            ],
            [
             0.7777777777777778,
             "#fb9f3a"
            ],
            [
             0.8888888888888888,
             "#fdca26"
            ],
            [
             1,
             "#f0f921"
            ]
           ],
           "sequentialminus": [
            [
             0,
             "#0d0887"
            ],
            [
             0.1111111111111111,
             "#46039f"
            ],
            [
             0.2222222222222222,
             "#7201a8"
            ],
            [
             0.3333333333333333,
             "#9c179e"
            ],
            [
             0.4444444444444444,
             "#bd3786"
            ],
            [
             0.5555555555555556,
             "#d8576b"
            ],
            [
             0.6666666666666666,
             "#ed7953"
            ],
            [
             0.7777777777777778,
             "#fb9f3a"
            ],
            [
             0.8888888888888888,
             "#fdca26"
            ],
            [
             1,
             "#f0f921"
            ]
           ]
          },
          "colorway": [
           "#636efa",
           "#EF553B",
           "#00cc96",
           "#ab63fa",
           "#FFA15A",
           "#19d3f3",
           "#FF6692",
           "#B6E880",
           "#FF97FF",
           "#FECB52"
          ],
          "font": {
           "color": "#2a3f5f"
          },
          "geo": {
           "bgcolor": "white",
           "lakecolor": "white",
           "landcolor": "#E5ECF6",
           "showlakes": true,
           "showland": true,
           "subunitcolor": "white"
          },
          "hoverlabel": {
           "align": "left"
          },
          "hovermode": "closest",
          "mapbox": {
           "style": "light"
          },
          "paper_bgcolor": "white",
          "plot_bgcolor": "#E5ECF6",
          "polar": {
           "angularaxis": {
            "gridcolor": "white",
            "linecolor": "white",
            "ticks": ""
           },
           "bgcolor": "#E5ECF6",
           "radialaxis": {
            "gridcolor": "white",
            "linecolor": "white",
            "ticks": ""
           }
          },
          "scene": {
           "xaxis": {
            "backgroundcolor": "#E5ECF6",
            "gridcolor": "white",
            "gridwidth": 2,
            "linecolor": "white",
            "showbackground": true,
            "ticks": "",
            "zerolinecolor": "white"
           },
           "yaxis": {
            "backgroundcolor": "#E5ECF6",
            "gridcolor": "white",
            "gridwidth": 2,
            "linecolor": "white",
            "showbackground": true,
            "ticks": "",
            "zerolinecolor": "white"
           },
           "zaxis": {
            "backgroundcolor": "#E5ECF6",
            "gridcolor": "white",
            "gridwidth": 2,
            "linecolor": "white",
            "showbackground": true,
            "ticks": "",
            "zerolinecolor": "white"
           }
          },
          "shapedefaults": {
           "line": {
            "color": "#2a3f5f"
           }
          },
          "ternary": {
           "aaxis": {
            "gridcolor": "white",
            "linecolor": "white",
            "ticks": ""
           },
           "baxis": {
            "gridcolor": "white",
            "linecolor": "white",
            "ticks": ""
           },
           "bgcolor": "#E5ECF6",
           "caxis": {
            "gridcolor": "white",
            "linecolor": "white",
            "ticks": ""
           }
          },
          "title": {
           "x": 0.05
          },
          "xaxis": {
           "automargin": true,
           "gridcolor": "white",
           "linecolor": "white",
           "ticks": "",
           "title": {
            "standoff": 15
           },
           "zerolinecolor": "white",
           "zerolinewidth": 2
          },
          "yaxis": {
           "automargin": true,
           "gridcolor": "white",
           "linecolor": "white",
           "ticks": "",
           "title": {
            "standoff": 15
           },
           "zerolinecolor": "white",
           "zerolinewidth": 2
          }
         }
        },
        "title": {
         "text": "Income Distribution"
        },
        "xaxis": {
         "anchor": "y",
         "domain": [
          0,
          1
         ],
         "title": {
          "text": "Income"
         }
        },
        "yaxis": {
         "anchor": "x",
         "domain": [
          0,
          1
         ],
         "title": {
          "text": "Count"
         }
        }
       }
      }
     },
     "metadata": {},
     "output_type": "display_data"
    }
   ],
   "source": [
    "fig2 = px.box(data, x=\" Income \", title=\"Income Distribution\", color_discrete_sequence=[\"blue\"])\n",
    "fig2.update_layout(xaxis_title=\"Income\", yaxis_title=\"Count\")\n",
    "fig2.show()"
   ]
  },
  {
   "cell_type": "code",
   "execution_count": 30,
   "metadata": {},
   "outputs": [
    {
     "data": {
      "application/vnd.plotly.v1+json": {
       "config": {
        "plotlyServerURL": "https://plot.ly"
       },
       "data": [
        {
         "alignmentgroup": "True",
         "hovertemplate": "Age=%{y}<extra></extra>",
         "legendgroup": "",
         "marker": {
          "color": "red"
         },
         "name": "",
         "notched": false,
         "offsetgroup": "",
         "orientation": "v",
         "showlegend": false,
         "type": "box",
         "x0": " ",
         "xaxis": "x",
         "y": {
          "bdata": "Kis8KSQyISs6KDYkNyMtJjsvIzckIyM4Ij8dKCwgPxofMj4pMh4cKCtBKDApQi40KiccI0E4KjYmPSsmLSM0KSVEJSErHiQjNCQ+HxodMj8tKC8dNBozKB0oHR4lITc+KywZKyMrMS0xHjQ1JicuJiMkGh4qKD4dQjAfOCYoICc0JyU4KEEqNCMqNzwoGiogJSIlKDwbKzAgLygpOzI2MCwoJjQZGS8jKS89PSEbJTQdMDclLDcmQjovODsgLDckPikgGSRDJyEfGyEuMy4+GiUqJCQeH0E2NhkwGisjKidDIyorLTk4Ji0bI0YsGi4iJRsnHTQwMyI+JU43Hzs5LyskOCUrITMnJSobLy0lMxwoHiQlMSUjJislIi4xLTAuMDYuJiouJCAnJDZFPhw+KCQ6KEIjLy8uOjQvKUAjNi0oLyklJiQaKCQ7IB4jMy8nIiAyQh4gIyAfMistKh0cJTUmJyAzIToeMBshQiYmLTI8NS4yKx4mWUAzOCseRTUlHCsiIkApJikzICYmJjonNTVQLCw2JSkkITQuKyJDIyglQykzOzMgIitDHCQwHzccIho1RDIcKCwiNCQrICAwIC4qJClFLSI1MkEgIR8uJyguQS8uKEEcKyYvJDwqMiMgLiEkRh8qOiciIC4wHzwzOCgiMB8vIh0sJigqMx0wJUItPS0vMS8iQCw+LzFDOywkHDkbHCxCQCkpMSolNCIdNSgdKzcwLSo/NkkoJyofKTooMCIcGzZGMCxFNDcePyI4HyY7IEUcL0IlJzMoMzkjPSwxRk4tOik5MSs0Ixs0JC40KywiGy0tLy8sMR4pOi83G0MdQzMjHiwwLUIxKx5KQThAMiMpJy8fOiZDIC0fHx8yLCY/JBwsLygoLj0oMjskHiMwKS8vPjwhLzQoKjUzHh4aLSIsKSQsHhwxKzsaLiEqOyEsPDsgOjsmHCUoJiQlPCo1MTEqNS4bMCkxJiwtGh8xLzceMB4tOC84LEU7MiQgGzs1JDMvKzI7JSEbIio5LSg3Ly8iJDY7GykyNysrKjUcIzsxMDIcNDRFMzkbGSErSRscGx81IDJFNB89NT4eKyoeHishIDIlNCQpGkIzKyclNigcISklNUAtNDwyOB0mPEMgJyMgHxsvKjEgNSAmHyY3MTwqLjc1KDUmGj1HLSVIIDBEMSIgKiMwSSsjI0AiHDwuLCooSSQmIj8pJy5AICQvQCMoIj0zMTY1MCE5JzAyLzEbHTstPCQbMiMiNioiJj8tKDUiJjseMCsjHi8tLT43QjgoITgbJx8zNC81I0JBLR8oLi8pMCo8Qj8qGiQxLC42IyYmNTsvIxof",
          "dtype": "i1"
         },
         "y0": " ",
         "yaxis": "y"
        }
       ],
       "layout": {
        "boxmode": "group",
        "legend": {
         "tracegroupgap": 0
        },
        "template": {
         "data": {
          "bar": [
           {
            "error_x": {
             "color": "#2a3f5f"
            },
            "error_y": {
             "color": "#2a3f5f"
            },
            "marker": {
             "line": {
              "color": "#E5ECF6",
              "width": 0.5
             },
             "pattern": {
              "fillmode": "overlay",
              "size": 10,
              "solidity": 0.2
             }
            },
            "type": "bar"
           }
          ],
          "barpolar": [
           {
            "marker": {
             "line": {
              "color": "#E5ECF6",
              "width": 0.5
             },
             "pattern": {
              "fillmode": "overlay",
              "size": 10,
              "solidity": 0.2
             }
            },
            "type": "barpolar"
           }
          ],
          "carpet": [
           {
            "aaxis": {
             "endlinecolor": "#2a3f5f",
             "gridcolor": "white",
             "linecolor": "white",
             "minorgridcolor": "white",
             "startlinecolor": "#2a3f5f"
            },
            "baxis": {
             "endlinecolor": "#2a3f5f",
             "gridcolor": "white",
             "linecolor": "white",
             "minorgridcolor": "white",
             "startlinecolor": "#2a3f5f"
            },
            "type": "carpet"
           }
          ],
          "choropleth": [
           {
            "colorbar": {
             "outlinewidth": 0,
             "ticks": ""
            },
            "type": "choropleth"
           }
          ],
          "contour": [
           {
            "colorbar": {
             "outlinewidth": 0,
             "ticks": ""
            },
            "colorscale": [
             [
              0,
              "#0d0887"
             ],
             [
              0.1111111111111111,
              "#46039f"
             ],
             [
              0.2222222222222222,
              "#7201a8"
             ],
             [
              0.3333333333333333,
              "#9c179e"
             ],
             [
              0.4444444444444444,
              "#bd3786"
             ],
             [
              0.5555555555555556,
              "#d8576b"
             ],
             [
              0.6666666666666666,
              "#ed7953"
             ],
             [
              0.7777777777777778,
              "#fb9f3a"
             ],
             [
              0.8888888888888888,
              "#fdca26"
             ],
             [
              1,
              "#f0f921"
             ]
            ],
            "type": "contour"
           }
          ],
          "contourcarpet": [
           {
            "colorbar": {
             "outlinewidth": 0,
             "ticks": ""
            },
            "type": "contourcarpet"
           }
          ],
          "heatmap": [
           {
            "colorbar": {
             "outlinewidth": 0,
             "ticks": ""
            },
            "colorscale": [
             [
              0,
              "#0d0887"
             ],
             [
              0.1111111111111111,
              "#46039f"
             ],
             [
              0.2222222222222222,
              "#7201a8"
             ],
             [
              0.3333333333333333,
              "#9c179e"
             ],
             [
              0.4444444444444444,
              "#bd3786"
             ],
             [
              0.5555555555555556,
              "#d8576b"
             ],
             [
              0.6666666666666666,
              "#ed7953"
             ],
             [
              0.7777777777777778,
              "#fb9f3a"
             ],
             [
              0.8888888888888888,
              "#fdca26"
             ],
             [
              1,
              "#f0f921"
             ]
            ],
            "type": "heatmap"
           }
          ],
          "histogram": [
           {
            "marker": {
             "pattern": {
              "fillmode": "overlay",
              "size": 10,
              "solidity": 0.2
             }
            },
            "type": "histogram"
           }
          ],
          "histogram2d": [
           {
            "colorbar": {
             "outlinewidth": 0,
             "ticks": ""
            },
            "colorscale": [
             [
              0,
              "#0d0887"
             ],
             [
              0.1111111111111111,
              "#46039f"
             ],
             [
              0.2222222222222222,
              "#7201a8"
             ],
             [
              0.3333333333333333,
              "#9c179e"
             ],
             [
              0.4444444444444444,
              "#bd3786"
             ],
             [
              0.5555555555555556,
              "#d8576b"
             ],
             [
              0.6666666666666666,
              "#ed7953"
             ],
             [
              0.7777777777777778,
              "#fb9f3a"
             ],
             [
              0.8888888888888888,
              "#fdca26"
             ],
             [
              1,
              "#f0f921"
             ]
            ],
            "type": "histogram2d"
           }
          ],
          "histogram2dcontour": [
           {
            "colorbar": {
             "outlinewidth": 0,
             "ticks": ""
            },
            "colorscale": [
             [
              0,
              "#0d0887"
             ],
             [
              0.1111111111111111,
              "#46039f"
             ],
             [
              0.2222222222222222,
              "#7201a8"
             ],
             [
              0.3333333333333333,
              "#9c179e"
             ],
             [
              0.4444444444444444,
              "#bd3786"
             ],
             [
              0.5555555555555556,
              "#d8576b"
             ],
             [
              0.6666666666666666,
              "#ed7953"
             ],
             [
              0.7777777777777778,
              "#fb9f3a"
             ],
             [
              0.8888888888888888,
              "#fdca26"
             ],
             [
              1,
              "#f0f921"
             ]
            ],
            "type": "histogram2dcontour"
           }
          ],
          "mesh3d": [
           {
            "colorbar": {
             "outlinewidth": 0,
             "ticks": ""
            },
            "type": "mesh3d"
           }
          ],
          "parcoords": [
           {
            "line": {
             "colorbar": {
              "outlinewidth": 0,
              "ticks": ""
             }
            },
            "type": "parcoords"
           }
          ],
          "pie": [
           {
            "automargin": true,
            "type": "pie"
           }
          ],
          "scatter": [
           {
            "fillpattern": {
             "fillmode": "overlay",
             "size": 10,
             "solidity": 0.2
            },
            "type": "scatter"
           }
          ],
          "scatter3d": [
           {
            "line": {
             "colorbar": {
              "outlinewidth": 0,
              "ticks": ""
             }
            },
            "marker": {
             "colorbar": {
              "outlinewidth": 0,
              "ticks": ""
             }
            },
            "type": "scatter3d"
           }
          ],
          "scattercarpet": [
           {
            "marker": {
             "colorbar": {
              "outlinewidth": 0,
              "ticks": ""
             }
            },
            "type": "scattercarpet"
           }
          ],
          "scattergeo": [
           {
            "marker": {
             "colorbar": {
              "outlinewidth": 0,
              "ticks": ""
             }
            },
            "type": "scattergeo"
           }
          ],
          "scattergl": [
           {
            "marker": {
             "colorbar": {
              "outlinewidth": 0,
              "ticks": ""
             }
            },
            "type": "scattergl"
           }
          ],
          "scattermap": [
           {
            "marker": {
             "colorbar": {
              "outlinewidth": 0,
              "ticks": ""
             }
            },
            "type": "scattermap"
           }
          ],
          "scattermapbox": [
           {
            "marker": {
             "colorbar": {
              "outlinewidth": 0,
              "ticks": ""
             }
            },
            "type": "scattermapbox"
           }
          ],
          "scatterpolar": [
           {
            "marker": {
             "colorbar": {
              "outlinewidth": 0,
              "ticks": ""
             }
            },
            "type": "scatterpolar"
           }
          ],
          "scatterpolargl": [
           {
            "marker": {
             "colorbar": {
              "outlinewidth": 0,
              "ticks": ""
             }
            },
            "type": "scatterpolargl"
           }
          ],
          "scatterternary": [
           {
            "marker": {
             "colorbar": {
              "outlinewidth": 0,
              "ticks": ""
             }
            },
            "type": "scatterternary"
           }
          ],
          "surface": [
           {
            "colorbar": {
             "outlinewidth": 0,
             "ticks": ""
            },
            "colorscale": [
             [
              0,
              "#0d0887"
             ],
             [
              0.1111111111111111,
              "#46039f"
             ],
             [
              0.2222222222222222,
              "#7201a8"
             ],
             [
              0.3333333333333333,
              "#9c179e"
             ],
             [
              0.4444444444444444,
              "#bd3786"
             ],
             [
              0.5555555555555556,
              "#d8576b"
             ],
             [
              0.6666666666666666,
              "#ed7953"
             ],
             [
              0.7777777777777778,
              "#fb9f3a"
             ],
             [
              0.8888888888888888,
              "#fdca26"
             ],
             [
              1,
              "#f0f921"
             ]
            ],
            "type": "surface"
           }
          ],
          "table": [
           {
            "cells": {
             "fill": {
              "color": "#EBF0F8"
             },
             "line": {
              "color": "white"
             }
            },
            "header": {
             "fill": {
              "color": "#C8D4E3"
             },
             "line": {
              "color": "white"
             }
            },
            "type": "table"
           }
          ]
         },
         "layout": {
          "annotationdefaults": {
           "arrowcolor": "#2a3f5f",
           "arrowhead": 0,
           "arrowwidth": 1
          },
          "autotypenumbers": "strict",
          "coloraxis": {
           "colorbar": {
            "outlinewidth": 0,
            "ticks": ""
           }
          },
          "colorscale": {
           "diverging": [
            [
             0,
             "#8e0152"
            ],
            [
             0.1,
             "#c51b7d"
            ],
            [
             0.2,
             "#de77ae"
            ],
            [
             0.3,
             "#f1b6da"
            ],
            [
             0.4,
             "#fde0ef"
            ],
            [
             0.5,
             "#f7f7f7"
            ],
            [
             0.6,
             "#e6f5d0"
            ],
            [
             0.7,
             "#b8e186"
            ],
            [
             0.8,
             "#7fbc41"
            ],
            [
             0.9,
             "#4d9221"
            ],
            [
             1,
             "#276419"
            ]
           ],
           "sequential": [
            [
             0,
             "#0d0887"
            ],
            [
             0.1111111111111111,
             "#46039f"
            ],
            [
             0.2222222222222222,
             "#7201a8"
            ],
            [
             0.3333333333333333,
             "#9c179e"
            ],
            [
             0.4444444444444444,
             "#bd3786"
            ],
            [
             0.5555555555555556,
             "#d8576b"
            ],
            [
             0.6666666666666666,
             "#ed7953"
            ],
            [
             0.7777777777777778,
             "#fb9f3a"
            ],
            [
             0.8888888888888888,
             "#fdca26"
            ],
            [
             1,
             "#f0f921"
            ]
           ],
           "sequentialminus": [
            [
             0,
             "#0d0887"
            ],
            [
             0.1111111111111111,
             "#46039f"
            ],
            [
             0.2222222222222222,
             "#7201a8"
            ],
            [
             0.3333333333333333,
             "#9c179e"
            ],
            [
             0.4444444444444444,
             "#bd3786"
            ],
            [
             0.5555555555555556,
             "#d8576b"
            ],
            [
             0.6666666666666666,
             "#ed7953"
            ],
            [
             0.7777777777777778,
             "#fb9f3a"
            ],
            [
             0.8888888888888888,
             "#fdca26"
            ],
            [
             1,
             "#f0f921"
            ]
           ]
          },
          "colorway": [
           "#636efa",
           "#EF553B",
           "#00cc96",
           "#ab63fa",
           "#FFA15A",
           "#19d3f3",
           "#FF6692",
           "#B6E880",
           "#FF97FF",
           "#FECB52"
          ],
          "font": {
           "color": "#2a3f5f"
          },
          "geo": {
           "bgcolor": "white",
           "lakecolor": "white",
           "landcolor": "#E5ECF6",
           "showlakes": true,
           "showland": true,
           "subunitcolor": "white"
          },
          "hoverlabel": {
           "align": "left"
          },
          "hovermode": "closest",
          "mapbox": {
           "style": "light"
          },
          "paper_bgcolor": "white",
          "plot_bgcolor": "#E5ECF6",
          "polar": {
           "angularaxis": {
            "gridcolor": "white",
            "linecolor": "white",
            "ticks": ""
           },
           "bgcolor": "#E5ECF6",
           "radialaxis": {
            "gridcolor": "white",
            "linecolor": "white",
            "ticks": ""
           }
          },
          "scene": {
           "xaxis": {
            "backgroundcolor": "#E5ECF6",
            "gridcolor": "white",
            "gridwidth": 2,
            "linecolor": "white",
            "showbackground": true,
            "ticks": "",
            "zerolinecolor": "white"
           },
           "yaxis": {
            "backgroundcolor": "#E5ECF6",
            "gridcolor": "white",
            "gridwidth": 2,
            "linecolor": "white",
            "showbackground": true,
            "ticks": "",
            "zerolinecolor": "white"
           },
           "zaxis": {
            "backgroundcolor": "#E5ECF6",
            "gridcolor": "white",
            "gridwidth": 2,
            "linecolor": "white",
            "showbackground": true,
            "ticks": "",
            "zerolinecolor": "white"
           }
          },
          "shapedefaults": {
           "line": {
            "color": "#2a3f5f"
           }
          },
          "ternary": {
           "aaxis": {
            "gridcolor": "white",
            "linecolor": "white",
            "ticks": ""
           },
           "baxis": {
            "gridcolor": "white",
            "linecolor": "white",
            "ticks": ""
           },
           "bgcolor": "#E5ECF6",
           "caxis": {
            "gridcolor": "white",
            "linecolor": "white",
            "ticks": ""
           }
          },
          "title": {
           "x": 0.05
          },
          "xaxis": {
           "automargin": true,
           "gridcolor": "white",
           "linecolor": "white",
           "ticks": "",
           "title": {
            "standoff": 15
           },
           "zerolinecolor": "white",
           "zerolinewidth": 2
          },
          "yaxis": {
           "automargin": true,
           "gridcolor": "white",
           "linecolor": "white",
           "ticks": "",
           "title": {
            "standoff": 15
           },
           "zerolinecolor": "white",
           "zerolinewidth": 2
          }
         }
        },
        "title": {
         "text": "Age Distribution"
        },
        "xaxis": {
         "anchor": "y",
         "domain": [
          0,
          1
         ],
         "title": {
          "text": "Value"
         }
        },
        "yaxis": {
         "anchor": "x",
         "domain": [
          0,
          1
         ],
         "title": {
          "text": "Age"
         }
        }
       }
      }
     },
     "metadata": {},
     "output_type": "display_data"
    }
   ],
   "source": [
    "# Box plot for age using plotly express\n",
    "fig = px.box(data, y=\"Age\", title=\"Age Distribution\", color_discrete_sequence=[\"red\"])\n",
    "fig.update_layout(yaxis_title=\"Age\", xaxis_title=\"Value\")\n",
    "fig.show()\n"
   ]
  },
  {
   "cell_type": "code",
   "execution_count": 31,
   "metadata": {},
   "outputs": [
    {
     "name": "stdout",
     "output_type": "stream",
     "text": [
      "Occupation           Clerical  Management  Manual  Professional  \\\n",
      "Education                                                         \n",
      "Bachelors                51.0        98.0     5.0          94.0   \n",
      "Graduate Degree          23.0        58.0     5.0          45.0   \n",
      "High School               4.0        11.0    45.0          56.0   \n",
      "Partial College          77.0         5.0    35.0          79.0   \n",
      "Partial High School      24.0         NaN    31.0           4.0   \n",
      "\n",
      "Occupation           Skilled Manual  \n",
      "Education                            \n",
      "Bachelors                      66.0  \n",
      "Graduate Degree                40.0  \n",
      "High School                    64.0  \n",
      "Partial College                68.0  \n",
      "Partial High School            17.0  \n"
     ]
    },
    {
     "data": {
      "application/vnd.plotly.v1+json": {
       "config": {
        "plotlyServerURL": "https://plot.ly"
       },
       "data": [
        {
         "coloraxis": "coloraxis",
         "hovertemplate": "Occupation: %{x}<br>Education: %{y}<br>Count: %{z}<extra></extra>",
         "name": "0",
         "texttemplate": "%{z}",
         "type": "heatmap",
         "x": [
          "Clerical",
          "Management",
          "Manual",
          "Professional",
          "Skilled Manual"
         ],
         "xaxis": "x",
         "y": [
          "Bachelors",
          "Graduate Degree",
          "High School",
          "Partial College",
          "Partial High School"
         ],
         "yaxis": "y",
         "z": {
          "bdata": "AAAAAACASUAAAAAAAIBYQAAAAAAAABRAAAAAAACAV0AAAAAAAIBQQAAAAAAAADdAAAAAAAAATUAAAAAAAAAUQAAAAAAAgEZAAAAAAAAAREAAAAAAAAAQQAAAAAAAACZAAAAAAACARkAAAAAAAABMQAAAAAAAAFBAAAAAAABAU0AAAAAAAAAUQAAAAAAAgEFAAAAAAADAU0AAAAAAAABRQAAAAAAAADhAAAAAAAAA+H8AAAAAAAA/QAAAAAAAABBAAAAAAAAAMUA=",
          "dtype": "f8",
          "shape": "5, 5"
         }
        }
       ],
       "layout": {
        "coloraxis": {
         "colorbar": {
          "title": {
           "text": "Count"
          }
         },
         "colorscale": [
          [
           0,
           "#0d0887"
          ],
          [
           0.1111111111111111,
           "#46039f"
          ],
          [
           0.2222222222222222,
           "#7201a8"
          ],
          [
           0.3333333333333333,
           "#9c179e"
          ],
          [
           0.4444444444444444,
           "#bd3786"
          ],
          [
           0.5555555555555556,
           "#d8576b"
          ],
          [
           0.6666666666666666,
           "#ed7953"
          ],
          [
           0.7777777777777778,
           "#fb9f3a"
          ],
          [
           0.8888888888888888,
           "#fdca26"
          ],
          [
           1,
           "#f0f921"
          ]
         ]
        },
        "template": {
         "data": {
          "bar": [
           {
            "error_x": {
             "color": "#2a3f5f"
            },
            "error_y": {
             "color": "#2a3f5f"
            },
            "marker": {
             "line": {
              "color": "#E5ECF6",
              "width": 0.5
             },
             "pattern": {
              "fillmode": "overlay",
              "size": 10,
              "solidity": 0.2
             }
            },
            "type": "bar"
           }
          ],
          "barpolar": [
           {
            "marker": {
             "line": {
              "color": "#E5ECF6",
              "width": 0.5
             },
             "pattern": {
              "fillmode": "overlay",
              "size": 10,
              "solidity": 0.2
             }
            },
            "type": "barpolar"
           }
          ],
          "carpet": [
           {
            "aaxis": {
             "endlinecolor": "#2a3f5f",
             "gridcolor": "white",
             "linecolor": "white",
             "minorgridcolor": "white",
             "startlinecolor": "#2a3f5f"
            },
            "baxis": {
             "endlinecolor": "#2a3f5f",
             "gridcolor": "white",
             "linecolor": "white",
             "minorgridcolor": "white",
             "startlinecolor": "#2a3f5f"
            },
            "type": "carpet"
           }
          ],
          "choropleth": [
           {
            "colorbar": {
             "outlinewidth": 0,
             "ticks": ""
            },
            "type": "choropleth"
           }
          ],
          "contour": [
           {
            "colorbar": {
             "outlinewidth": 0,
             "ticks": ""
            },
            "colorscale": [
             [
              0,
              "#0d0887"
             ],
             [
              0.1111111111111111,
              "#46039f"
             ],
             [
              0.2222222222222222,
              "#7201a8"
             ],
             [
              0.3333333333333333,
              "#9c179e"
             ],
             [
              0.4444444444444444,
              "#bd3786"
             ],
             [
              0.5555555555555556,
              "#d8576b"
             ],
             [
              0.6666666666666666,
              "#ed7953"
             ],
             [
              0.7777777777777778,
              "#fb9f3a"
             ],
             [
              0.8888888888888888,
              "#fdca26"
             ],
             [
              1,
              "#f0f921"
             ]
            ],
            "type": "contour"
           }
          ],
          "contourcarpet": [
           {
            "colorbar": {
             "outlinewidth": 0,
             "ticks": ""
            },
            "type": "contourcarpet"
           }
          ],
          "heatmap": [
           {
            "colorbar": {
             "outlinewidth": 0,
             "ticks": ""
            },
            "colorscale": [
             [
              0,
              "#0d0887"
             ],
             [
              0.1111111111111111,
              "#46039f"
             ],
             [
              0.2222222222222222,
              "#7201a8"
             ],
             [
              0.3333333333333333,
              "#9c179e"
             ],
             [
              0.4444444444444444,
              "#bd3786"
             ],
             [
              0.5555555555555556,
              "#d8576b"
             ],
             [
              0.6666666666666666,
              "#ed7953"
             ],
             [
              0.7777777777777778,
              "#fb9f3a"
             ],
             [
              0.8888888888888888,
              "#fdca26"
             ],
             [
              1,
              "#f0f921"
             ]
            ],
            "type": "heatmap"
           }
          ],
          "histogram": [
           {
            "marker": {
             "pattern": {
              "fillmode": "overlay",
              "size": 10,
              "solidity": 0.2
             }
            },
            "type": "histogram"
           }
          ],
          "histogram2d": [
           {
            "colorbar": {
             "outlinewidth": 0,
             "ticks": ""
            },
            "colorscale": [
             [
              0,
              "#0d0887"
             ],
             [
              0.1111111111111111,
              "#46039f"
             ],
             [
              0.2222222222222222,
              "#7201a8"
             ],
             [
              0.3333333333333333,
              "#9c179e"
             ],
             [
              0.4444444444444444,
              "#bd3786"
             ],
             [
              0.5555555555555556,
              "#d8576b"
             ],
             [
              0.6666666666666666,
              "#ed7953"
             ],
             [
              0.7777777777777778,
              "#fb9f3a"
             ],
             [
              0.8888888888888888,
              "#fdca26"
             ],
             [
              1,
              "#f0f921"
             ]
            ],
            "type": "histogram2d"
           }
          ],
          "histogram2dcontour": [
           {
            "colorbar": {
             "outlinewidth": 0,
             "ticks": ""
            },
            "colorscale": [
             [
              0,
              "#0d0887"
             ],
             [
              0.1111111111111111,
              "#46039f"
             ],
             [
              0.2222222222222222,
              "#7201a8"
             ],
             [
              0.3333333333333333,
              "#9c179e"
             ],
             [
              0.4444444444444444,
              "#bd3786"
             ],
             [
              0.5555555555555556,
              "#d8576b"
             ],
             [
              0.6666666666666666,
              "#ed7953"
             ],
             [
              0.7777777777777778,
              "#fb9f3a"
             ],
             [
              0.8888888888888888,
              "#fdca26"
             ],
             [
              1,
              "#f0f921"
             ]
            ],
            "type": "histogram2dcontour"
           }
          ],
          "mesh3d": [
           {
            "colorbar": {
             "outlinewidth": 0,
             "ticks": ""
            },
            "type": "mesh3d"
           }
          ],
          "parcoords": [
           {
            "line": {
             "colorbar": {
              "outlinewidth": 0,
              "ticks": ""
             }
            },
            "type": "parcoords"
           }
          ],
          "pie": [
           {
            "automargin": true,
            "type": "pie"
           }
          ],
          "scatter": [
           {
            "fillpattern": {
             "fillmode": "overlay",
             "size": 10,
             "solidity": 0.2
            },
            "type": "scatter"
           }
          ],
          "scatter3d": [
           {
            "line": {
             "colorbar": {
              "outlinewidth": 0,
              "ticks": ""
             }
            },
            "marker": {
             "colorbar": {
              "outlinewidth": 0,
              "ticks": ""
             }
            },
            "type": "scatter3d"
           }
          ],
          "scattercarpet": [
           {
            "marker": {
             "colorbar": {
              "outlinewidth": 0,
              "ticks": ""
             }
            },
            "type": "scattercarpet"
           }
          ],
          "scattergeo": [
           {
            "marker": {
             "colorbar": {
              "outlinewidth": 0,
              "ticks": ""
             }
            },
            "type": "scattergeo"
           }
          ],
          "scattergl": [
           {
            "marker": {
             "colorbar": {
              "outlinewidth": 0,
              "ticks": ""
             }
            },
            "type": "scattergl"
           }
          ],
          "scattermap": [
           {
            "marker": {
             "colorbar": {
              "outlinewidth": 0,
              "ticks": ""
             }
            },
            "type": "scattermap"
           }
          ],
          "scattermapbox": [
           {
            "marker": {
             "colorbar": {
              "outlinewidth": 0,
              "ticks": ""
             }
            },
            "type": "scattermapbox"
           }
          ],
          "scatterpolar": [
           {
            "marker": {
             "colorbar": {
              "outlinewidth": 0,
              "ticks": ""
             }
            },
            "type": "scatterpolar"
           }
          ],
          "scatterpolargl": [
           {
            "marker": {
             "colorbar": {
              "outlinewidth": 0,
              "ticks": ""
             }
            },
            "type": "scatterpolargl"
           }
          ],
          "scatterternary": [
           {
            "marker": {
             "colorbar": {
              "outlinewidth": 0,
              "ticks": ""
             }
            },
            "type": "scatterternary"
           }
          ],
          "surface": [
           {
            "colorbar": {
             "outlinewidth": 0,
             "ticks": ""
            },
            "colorscale": [
             [
              0,
              "#0d0887"
             ],
             [
              0.1111111111111111,
              "#46039f"
             ],
             [
              0.2222222222222222,
              "#7201a8"
             ],
             [
              0.3333333333333333,
              "#9c179e"
             ],
             [
              0.4444444444444444,
              "#bd3786"
             ],
             [
              0.5555555555555556,
              "#d8576b"
             ],
             [
              0.6666666666666666,
              "#ed7953"
             ],
             [
              0.7777777777777778,
              "#fb9f3a"
             ],
             [
              0.8888888888888888,
              "#fdca26"
             ],
             [
              1,
              "#f0f921"
             ]
            ],
            "type": "surface"
           }
          ],
          "table": [
           {
            "cells": {
             "fill": {
              "color": "#EBF0F8"
             },
             "line": {
              "color": "white"
             }
            },
            "header": {
             "fill": {
              "color": "#C8D4E3"
             },
             "line": {
              "color": "white"
             }
            },
            "type": "table"
           }
          ]
         },
         "layout": {
          "annotationdefaults": {
           "arrowcolor": "#2a3f5f",
           "arrowhead": 0,
           "arrowwidth": 1
          },
          "autotypenumbers": "strict",
          "coloraxis": {
           "colorbar": {
            "outlinewidth": 0,
            "ticks": ""
           }
          },
          "colorscale": {
           "diverging": [
            [
             0,
             "#8e0152"
            ],
            [
             0.1,
             "#c51b7d"
            ],
            [
             0.2,
             "#de77ae"
            ],
            [
             0.3,
             "#f1b6da"
            ],
            [
             0.4,
             "#fde0ef"
            ],
            [
             0.5,
             "#f7f7f7"
            ],
            [
             0.6,
             "#e6f5d0"
            ],
            [
             0.7,
             "#b8e186"
            ],
            [
             0.8,
             "#7fbc41"
            ],
            [
             0.9,
             "#4d9221"
            ],
            [
             1,
             "#276419"
            ]
           ],
           "sequential": [
            [
             0,
             "#0d0887"
            ],
            [
             0.1111111111111111,
             "#46039f"
            ],
            [
             0.2222222222222222,
             "#7201a8"
            ],
            [
             0.3333333333333333,
             "#9c179e"
            ],
            [
             0.4444444444444444,
             "#bd3786"
            ],
            [
             0.5555555555555556,
             "#d8576b"
            ],
            [
             0.6666666666666666,
             "#ed7953"
            ],
            [
             0.7777777777777778,
             "#fb9f3a"
            ],
            [
             0.8888888888888888,
             "#fdca26"
            ],
            [
             1,
             "#f0f921"
            ]
           ],
           "sequentialminus": [
            [
             0,
             "#0d0887"
            ],
            [
             0.1111111111111111,
             "#46039f"
            ],
            [
             0.2222222222222222,
             "#7201a8"
            ],
            [
             0.3333333333333333,
             "#9c179e"
            ],
            [
             0.4444444444444444,
             "#bd3786"
            ],
            [
             0.5555555555555556,
             "#d8576b"
            ],
            [
             0.6666666666666666,
             "#ed7953"
            ],
            [
             0.7777777777777778,
             "#fb9f3a"
            ],
            [
             0.8888888888888888,
             "#fdca26"
            ],
            [
             1,
             "#f0f921"
            ]
           ]
          },
          "colorway": [
           "#636efa",
           "#EF553B",
           "#00cc96",
           "#ab63fa",
           "#FFA15A",
           "#19d3f3",
           "#FF6692",
           "#B6E880",
           "#FF97FF",
           "#FECB52"
          ],
          "font": {
           "color": "#2a3f5f"
          },
          "geo": {
           "bgcolor": "white",
           "lakecolor": "white",
           "landcolor": "#E5ECF6",
           "showlakes": true,
           "showland": true,
           "subunitcolor": "white"
          },
          "hoverlabel": {
           "align": "left"
          },
          "hovermode": "closest",
          "mapbox": {
           "style": "light"
          },
          "paper_bgcolor": "white",
          "plot_bgcolor": "#E5ECF6",
          "polar": {
           "angularaxis": {
            "gridcolor": "white",
            "linecolor": "white",
            "ticks": ""
           },
           "bgcolor": "#E5ECF6",
           "radialaxis": {
            "gridcolor": "white",
            "linecolor": "white",
            "ticks": ""
           }
          },
          "scene": {
           "xaxis": {
            "backgroundcolor": "#E5ECF6",
            "gridcolor": "white",
            "gridwidth": 2,
            "linecolor": "white",
            "showbackground": true,
            "ticks": "",
            "zerolinecolor": "white"
           },
           "yaxis": {
            "backgroundcolor": "#E5ECF6",
            "gridcolor": "white",
            "gridwidth": 2,
            "linecolor": "white",
            "showbackground": true,
            "ticks": "",
            "zerolinecolor": "white"
           },
           "zaxis": {
            "backgroundcolor": "#E5ECF6",
            "gridcolor": "white",
            "gridwidth": 2,
            "linecolor": "white",
            "showbackground": true,
            "ticks": "",
            "zerolinecolor": "white"
           }
          },
          "shapedefaults": {
           "line": {
            "color": "#2a3f5f"
           }
          },
          "ternary": {
           "aaxis": {
            "gridcolor": "white",
            "linecolor": "white",
            "ticks": ""
           },
           "baxis": {
            "gridcolor": "white",
            "linecolor": "white",
            "ticks": ""
           },
           "bgcolor": "#E5ECF6",
           "caxis": {
            "gridcolor": "white",
            "linecolor": "white",
            "ticks": ""
           }
          },
          "title": {
           "x": 0.05
          },
          "xaxis": {
           "automargin": true,
           "gridcolor": "white",
           "linecolor": "white",
           "ticks": "",
           "title": {
            "standoff": 15
           },
           "zerolinecolor": "white",
           "zerolinewidth": 2
          },
          "yaxis": {
           "automargin": true,
           "gridcolor": "white",
           "linecolor": "white",
           "ticks": "",
           "title": {
            "standoff": 15
           },
           "zerolinecolor": "white",
           "zerolinewidth": 2
          }
         }
        },
        "title": {
         "text": "Education Level by Occupation"
        },
        "xaxis": {
         "anchor": "y",
         "constrain": "domain",
         "domain": [
          0,
          1
         ],
         "scaleanchor": "y",
         "title": {
          "text": "Occupation"
         }
        },
        "yaxis": {
         "anchor": "x",
         "autorange": "reversed",
         "constrain": "domain",
         "domain": [
          0,
          1
         ],
         "title": {
          "text": "Education"
         }
        }
       }
      }
     },
     "metadata": {},
     "output_type": "display_data"
    }
   ],
   "source": [
    "x = pd.pivot_table(index='Education', columns='Occupation', values='ID', aggfunc='count', data=data)\n",
    "print(x)\n",
    "fig = px.imshow(x, labels=dict(x=\"Occupation\", y=\"Education\", color=\"Count\"), title=\"Education Level by Occupation\", text_auto=True)\n",
    "fig.show()\n"
   ]
  },
  {
   "cell_type": "code",
   "execution_count": 32,
   "metadata": {},
   "outputs": [
    {
     "data": {
      "application/vnd.plotly.v1+json": {
       "config": {
        "plotlyServerURL": "https://plot.ly"
       },
       "data": [
        {
         "hovertemplate": "Occupation=%{x}<br>count=%{y}<extra></extra>",
         "legendgroup": "",
         "marker": {
          "color": "purple",
          "pattern": {
           "shape": ""
          }
         },
         "name": "",
         "orientation": "v",
         "showlegend": false,
         "textposition": "auto",
         "type": "bar",
         "x": [
          "Skilled Manual",
          "Clerical",
          "Professional",
          "Professional",
          "Clerical",
          "Manual",
          "Professional",
          "Skilled Manual",
          "Clerical",
          "Manual",
          "Skilled Manual",
          "Professional",
          "Professional",
          "Clerical",
          "Skilled Manual",
          "Manual",
          "Clerical",
          "Professional",
          "Clerical",
          "Clerical",
          "Clerical",
          "Professional",
          "Clerical",
          "Management",
          "Clerical",
          "Clerical",
          "Clerical",
          "Professional",
          "Skilled Manual",
          "Manual",
          "Manual",
          "Manual",
          "Manual",
          "Skilled Manual",
          "Professional",
          "Manual",
          "Manual",
          "Clerical",
          "Manual",
          "Manual",
          "Clerical",
          "Management",
          "Manual",
          "Professional",
          "Manual",
          "Clerical",
          "Skilled Manual",
          "Skilled Manual",
          "Clerical",
          "Clerical",
          "Clerical",
          "Professional",
          "Clerical",
          "Management",
          "Professional",
          "Professional",
          "Clerical",
          "Professional",
          "Skilled Manual",
          "Professional",
          "Manual",
          "Manual",
          "Management",
          "Professional",
          "Clerical",
          "Clerical",
          "Clerical",
          "Manual",
          "Manual",
          "Manual",
          "Professional",
          "Manual",
          "Professional",
          "Manual",
          "Skilled Manual",
          "Management",
          "Manual",
          "Professional",
          "Skilled Manual",
          "Management",
          "Clerical",
          "Manual",
          "Clerical",
          "Manual",
          "Management",
          "Manual",
          "Professional",
          "Professional",
          "Clerical",
          "Manual",
          "Clerical",
          "Clerical",
          "Professional",
          "Clerical",
          "Skilled Manual",
          "Professional",
          "Clerical",
          "Skilled Manual",
          "Clerical",
          "Manual",
          "Manual",
          "Professional",
          "Manual",
          "Skilled Manual",
          "Professional",
          "Clerical",
          "Skilled Manual",
          "Skilled Manual",
          "Clerical",
          "Professional",
          "Manual",
          "Professional",
          "Clerical",
          "Management",
          "Clerical",
          "Manual",
          "Skilled Manual",
          "Manual",
          "Management",
          "Clerical",
          "Management",
          "Professional",
          "Professional",
          "Management",
          "Clerical",
          "Professional",
          "Clerical",
          "Clerical",
          "Manual",
          "Manual",
          "Professional",
          "Management",
          "Professional",
          "Management",
          "Clerical",
          "Manual",
          "Manual",
          "Manual",
          "Clerical",
          "Clerical",
          "Professional",
          "Manual",
          "Skilled Manual",
          "Professional",
          "Clerical",
          "Clerical",
          "Clerical",
          "Professional",
          "Skilled Manual",
          "Clerical",
          "Skilled Manual",
          "Management",
          "Manual",
          "Management",
          "Management",
          "Manual",
          "Professional",
          "Manual",
          "Manual",
          "Manual",
          "Professional",
          "Manual",
          "Professional",
          "Skilled Manual",
          "Manual",
          "Manual",
          "Professional",
          "Management",
          "Professional",
          "Clerical",
          "Professional",
          "Management",
          "Manual",
          "Manual",
          "Skilled Manual",
          "Skilled Manual",
          "Manual",
          "Professional",
          "Professional",
          "Manual",
          "Manual",
          "Clerical",
          "Manual",
          "Management",
          "Management",
          "Professional",
          "Skilled Manual",
          "Professional",
          "Professional",
          "Clerical",
          "Skilled Manual",
          "Manual",
          "Management",
          "Professional",
          "Manual",
          "Clerical",
          "Skilled Manual",
          "Management",
          "Management",
          "Professional",
          "Professional",
          "Manual",
          "Clerical",
          "Skilled Manual",
          "Professional",
          "Clerical",
          "Professional",
          "Manual",
          "Clerical",
          "Clerical",
          "Management",
          "Skilled Manual",
          "Clerical",
          "Professional",
          "Clerical",
          "Professional",
          "Clerical",
          "Manual",
          "Manual",
          "Manual",
          "Professional",
          "Manual",
          "Clerical",
          "Professional",
          "Clerical",
          "Manual",
          "Manual",
          "Manual",
          "Clerical",
          "Management",
          "Management",
          "Clerical",
          "Clerical",
          "Clerical",
          "Professional",
          "Clerical",
          "Clerical",
          "Manual",
          "Skilled Manual",
          "Manual",
          "Manual",
          "Clerical",
          "Clerical",
          "Manual",
          "Management",
          "Management",
          "Professional",
          "Management",
          "Skilled Manual",
          "Professional",
          "Management",
          "Professional",
          "Professional",
          "Professional",
          "Clerical",
          "Clerical",
          "Clerical",
          "Skilled Manual",
          "Management",
          "Management",
          "Clerical",
          "Skilled Manual",
          "Manual",
          "Professional",
          "Clerical",
          "Clerical",
          "Manual",
          "Professional",
          "Skilled Manual",
          "Skilled Manual",
          "Manual",
          "Manual",
          "Manual",
          "Manual",
          "Clerical",
          "Management",
          "Manual",
          "Manual",
          "Management",
          "Clerical",
          "Manual",
          "Manual",
          "Manual",
          "Skilled Manual",
          "Manual",
          "Skilled Manual",
          "Management",
          "Clerical",
          "Management",
          "Skilled Manual",
          "Skilled Manual",
          "Clerical",
          "Skilled Manual",
          "Manual",
          "Manual",
          "Management",
          "Professional",
          "Management",
          "Professional",
          "Clerical",
          "Skilled Manual",
          "Clerical",
          "Clerical",
          "Skilled Manual",
          "Management",
          "Clerical",
          "Professional",
          "Clerical",
          "Clerical",
          "Manual",
          "Management",
          "Skilled Manual",
          "Skilled Manual",
          "Clerical",
          "Professional",
          "Professional",
          "Management",
          "Clerical",
          "Professional",
          "Clerical",
          "Management",
          "Management",
          "Manual",
          "Clerical",
          "Professional",
          "Clerical",
          "Clerical",
          "Skilled Manual",
          "Clerical",
          "Skilled Manual",
          "Professional",
          "Manual",
          "Manual",
          "Professional",
          "Professional",
          "Management",
          "Manual",
          "Manual",
          "Professional",
          "Clerical",
          "Clerical",
          "Manual",
          "Manual",
          "Manual",
          "Clerical",
          "Clerical",
          "Skilled Manual",
          "Skilled Manual",
          "Manual",
          "Clerical",
          "Manual",
          "Manual",
          "Professional",
          "Clerical",
          "Clerical",
          "Professional",
          "Professional",
          "Manual",
          "Management",
          "Professional",
          "Management",
          "Clerical",
          "Skilled Manual",
          "Management",
          "Manual",
          "Clerical",
          "Skilled Manual",
          "Professional",
          "Clerical",
          "Manual",
          "Professional",
          "Management",
          "Skilled Manual",
          "Manual",
          "Professional",
          "Skilled Manual",
          "Clerical",
          "Professional",
          "Clerical",
          "Professional",
          "Professional",
          "Clerical",
          "Professional",
          "Clerical",
          "Manual",
          "Clerical",
          "Professional",
          "Manual",
          "Clerical",
          "Professional",
          "Professional",
          "Professional",
          "Clerical",
          "Manual",
          "Clerical",
          "Clerical",
          "Professional",
          "Clerical",
          "Clerical",
          "Management",
          "Management",
          "Clerical",
          "Manual",
          "Clerical",
          "Skilled Manual",
          "Clerical",
          "Skilled Manual",
          "Professional",
          "Clerical",
          "Professional",
          "Manual",
          "Skilled Manual",
          "Clerical",
          "Clerical",
          "Clerical",
          "Management",
          "Professional",
          "Clerical",
          "Skilled Manual",
          "Manual",
          "Management",
          "Manual",
          "Management",
          "Manual",
          "Manual",
          "Management",
          "Clerical",
          "Management",
          "Management",
          "Clerical",
          "Skilled Manual",
          "Manual",
          "Management",
          "Clerical",
          "Skilled Manual",
          "Clerical",
          "Skilled Manual",
          "Clerical",
          "Skilled Manual",
          "Skilled Manual",
          "Professional",
          "Skilled Manual",
          "Management",
          "Skilled Manual",
          "Manual",
          "Skilled Manual",
          "Management",
          "Skilled Manual",
          "Clerical",
          "Skilled Manual",
          "Manual",
          "Skilled Manual",
          "Clerical",
          "Skilled Manual",
          "Manual",
          "Professional",
          "Professional",
          "Manual",
          "Professional",
          "Professional",
          "Manual",
          "Management",
          "Clerical",
          "Manual",
          "Clerical",
          "Management",
          "Clerical",
          "Management",
          "Management",
          "Clerical",
          "Manual",
          "Professional",
          "Clerical",
          "Clerical",
          "Professional",
          "Skilled Manual",
          "Professional",
          "Skilled Manual",
          "Clerical",
          "Skilled Manual",
          "Professional",
          "Clerical",
          "Clerical",
          "Clerical",
          "Clerical",
          "Clerical",
          "Skilled Manual",
          "Clerical",
          "Manual",
          "Manual",
          "Professional",
          "Skilled Manual",
          "Clerical",
          "Management",
          "Professional",
          "Professional",
          "Skilled Manual",
          "Professional",
          "Skilled Manual",
          "Skilled Manual",
          "Professional",
          "Skilled Manual",
          "Skilled Manual",
          "Management",
          "Skilled Manual",
          "Professional",
          "Professional",
          "Clerical",
          "Skilled Manual",
          "Professional",
          "Professional",
          "Management",
          "Skilled Manual",
          "Management",
          "Professional",
          "Professional",
          "Professional",
          "Professional",
          "Management",
          "Management",
          "Professional",
          "Professional",
          "Professional",
          "Professional",
          "Management",
          "Management",
          "Management",
          "Skilled Manual",
          "Skilled Manual",
          "Professional",
          "Skilled Manual",
          "Clerical",
          "Professional",
          "Management",
          "Professional",
          "Skilled Manual",
          "Skilled Manual",
          "Clerical",
          "Management",
          "Professional",
          "Management",
          "Skilled Manual",
          "Skilled Manual",
          "Professional",
          "Management",
          "Skilled Manual",
          "Professional",
          "Professional",
          "Skilled Manual",
          "Management",
          "Professional",
          "Management",
          "Professional",
          "Professional",
          "Professional",
          "Skilled Manual",
          "Management",
          "Clerical",
          "Skilled Manual",
          "Management",
          "Professional",
          "Clerical",
          "Professional",
          "Skilled Manual",
          "Skilled Manual",
          "Professional",
          "Management",
          "Clerical",
          "Skilled Manual",
          "Management",
          "Skilled Manual",
          "Skilled Manual",
          "Skilled Manual",
          "Management",
          "Management",
          "Professional",
          "Skilled Manual",
          "Management",
          "Management",
          "Clerical",
          "Management",
          "Skilled Manual",
          "Skilled Manual",
          "Management",
          "Skilled Manual",
          "Management",
          "Professional",
          "Management",
          "Professional",
          "Management",
          "Professional",
          "Professional",
          "Professional",
          "Professional",
          "Management",
          "Skilled Manual",
          "Professional",
          "Professional",
          "Management",
          "Professional",
          "Skilled Manual",
          "Professional",
          "Skilled Manual",
          "Professional",
          "Skilled Manual",
          "Professional",
          "Skilled Manual",
          "Professional",
          "Skilled Manual",
          "Professional",
          "Skilled Manual",
          "Management",
          "Clerical",
          "Professional",
          "Professional",
          "Skilled Manual",
          "Skilled Manual",
          "Skilled Manual",
          "Clerical",
          "Skilled Manual",
          "Professional",
          "Management",
          "Professional",
          "Professional",
          "Skilled Manual",
          "Management",
          "Skilled Manual",
          "Management",
          "Professional",
          "Skilled Manual",
          "Skilled Manual",
          "Professional",
          "Skilled Manual",
          "Management",
          "Management",
          "Skilled Manual",
          "Professional",
          "Skilled Manual",
          "Management",
          "Management",
          "Professional",
          "Management",
          "Professional",
          "Professional",
          "Skilled Manual",
          "Skilled Manual",
          "Skilled Manual",
          "Skilled Manual",
          "Management",
          "Professional",
          "Management",
          "Professional",
          "Professional",
          "Skilled Manual",
          "Skilled Manual",
          "Clerical",
          "Professional",
          "Skilled Manual",
          "Skilled Manual",
          "Management",
          "Professional",
          "Skilled Manual",
          "Professional",
          "Professional",
          "Skilled Manual",
          "Management",
          "Skilled Manual",
          "Professional",
          "Professional",
          "Professional",
          "Professional",
          "Professional",
          "Skilled Manual",
          "Professional",
          "Skilled Manual",
          "Management",
          "Clerical",
          "Skilled Manual",
          "Management",
          "Management",
          "Skilled Manual",
          "Skilled Manual",
          "Clerical",
          "Professional",
          "Skilled Manual",
          "Management",
          "Clerical",
          "Skilled Manual",
          "Skilled Manual",
          "Skilled Manual",
          "Management",
          "Skilled Manual",
          "Professional",
          "Skilled Manual",
          "Professional",
          "Professional",
          "Professional",
          "Clerical",
          "Clerical",
          "Professional",
          "Management",
          "Skilled Manual",
          "Professional",
          "Skilled Manual",
          "Professional",
          "Management",
          "Skilled Manual",
          "Skilled Manual",
          "Management",
          "Management",
          "Professional",
          "Professional",
          "Professional",
          "Skilled Manual",
          "Skilled Manual",
          "Professional",
          "Skilled Manual",
          "Management",
          "Professional",
          "Professional",
          "Professional",
          "Management",
          "Management",
          "Skilled Manual",
          "Skilled Manual",
          "Management",
          "Manual",
          "Professional",
          "Skilled Manual",
          "Professional",
          "Skilled Manual",
          "Professional",
          "Professional",
          "Management",
          "Management",
          "Skilled Manual",
          "Skilled Manual",
          "Skilled Manual",
          "Clerical",
          "Professional",
          "Clerical",
          "Clerical",
          "Skilled Manual",
          "Management",
          "Professional",
          "Skilled Manual",
          "Management",
          "Professional",
          "Management",
          "Professional",
          "Skilled Manual",
          "Professional",
          "Professional",
          "Skilled Manual",
          "Professional",
          "Professional",
          "Skilled Manual",
          "Clerical",
          "Skilled Manual",
          "Professional",
          "Clerical",
          "Management",
          "Skilled Manual",
          "Skilled Manual",
          "Skilled Manual",
          "Skilled Manual",
          "Skilled Manual",
          "Professional",
          "Professional",
          "Management",
          "Skilled Manual",
          "Skilled Manual",
          "Skilled Manual",
          "Skilled Manual",
          "Professional",
          "Skilled Manual",
          "Management",
          "Skilled Manual",
          "Professional",
          "Professional",
          "Professional",
          "Management",
          "Professional",
          "Skilled Manual",
          "Manual",
          "Skilled Manual",
          "Skilled Manual",
          "Management",
          "Clerical",
          "Professional",
          "Skilled Manual",
          "Skilled Manual",
          "Clerical",
          "Clerical",
          "Management",
          "Professional",
          "Professional",
          "Skilled Manual",
          "Skilled Manual",
          "Skilled Manual",
          "Professional",
          "Management",
          "Skilled Manual",
          "Skilled Manual",
          "Skilled Manual",
          "Skilled Manual",
          "Manual",
          "Professional",
          "Skilled Manual",
          "Professional",
          "Management",
          "Skilled Manual",
          "Management",
          "Professional",
          "Management",
          "Skilled Manual",
          "Professional",
          "Professional",
          "Skilled Manual",
          "Skilled Manual",
          "Management",
          "Skilled Manual",
          "Skilled Manual",
          "Professional",
          "Management",
          "Professional",
          "Professional",
          "Skilled Manual",
          "Clerical",
          "Management",
          "Professional",
          "Professional",
          "Professional",
          "Professional",
          "Skilled Manual",
          "Skilled Manual",
          "Skilled Manual",
          "Skilled Manual",
          "Skilled Manual",
          "Professional",
          "Professional",
          "Management",
          "Skilled Manual",
          "Skilled Manual",
          "Professional",
          "Clerical",
          "Professional",
          "Clerical",
          "Management",
          "Professional",
          "Management",
          "Skilled Manual",
          "Skilled Manual",
          "Professional",
          "Professional",
          "Skilled Manual",
          "Skilled Manual",
          "Professional",
          "Professional",
          "Skilled Manual",
          "Skilled Manual",
          "Manual",
          "Skilled Manual",
          "Management",
          "Skilled Manual",
          "Management",
          "Professional",
          "Professional",
          "Skilled Manual",
          "Management",
          "Skilled Manual",
          "Professional",
          "Management",
          "Skilled Manual",
          "Skilled Manual",
          "Skilled Manual",
          "Clerical",
          "Management",
          "Management",
          "Professional",
          "Professional",
          "Management",
          "Skilled Manual",
          "Professional",
          "Management",
          "Clerical",
          "Professional",
          "Skilled Manual",
          "Skilled Manual",
          "Skilled Manual",
          "Clerical",
          "Management",
          "Skilled Manual",
          "Professional",
          "Professional",
          "Management",
          "Skilled Manual",
          "Clerical",
          "Management",
          "Professional",
          "Skilled Manual",
          "Skilled Manual",
          "Skilled Manual",
          "Management",
          "Skilled Manual",
          "Management",
          "Professional",
          "Management",
          "Skilled Manual",
          "Skilled Manual",
          "Skilled Manual",
          "Management",
          "Clerical",
          "Skilled Manual",
          "Skilled Manual",
          "Management",
          "Professional",
          "Management",
          "Skilled Manual",
          "Professional",
          "Skilled Manual",
          "Professional",
          "Professional",
          "Management",
          "Professional",
          "Skilled Manual",
          "Professional",
          "Professional",
          "Professional",
          "Professional",
          "Professional",
          "Clerical",
          "Skilled Manual",
          "Skilled Manual",
          "Management",
          "Skilled Manual",
          "Management",
          "Professional",
          "Skilled Manual",
          "Skilled Manual",
          "Skilled Manual",
          "Skilled Manual",
          "Professional",
          "Skilled Manual",
          "Skilled Manual",
          "Skilled Manual",
          "Management",
          "Professional",
          "Skilled Manual",
          "Skilled Manual",
          "Professional",
          "Professional",
          "Management",
          "Clerical",
          "Professional",
          "Skilled Manual",
          "Professional",
          "Professional",
          "Professional",
          "Skilled Manual",
          "Professional",
          "Management",
          "Professional",
          "Management",
          "Professional",
          "Skilled Manual",
          "Skilled Manual",
          "Management",
          "Clerical",
          "Professional",
          "Skilled Manual",
          "Skilled Manual",
          "Clerical",
          "Skilled Manual",
          "Management",
          "Professional",
          "Management",
          "Management",
          "Professional",
          "Skilled Manual",
          "Skilled Manual",
          "Professional",
          "Clerical",
          "Management",
          "Professional",
          "Skilled Manual",
          "Professional",
          "Management",
          "Management",
          "Skilled Manual",
          "Skilled Manual",
          "Professional",
          "Professional",
          "Professional",
          "Professional",
          "Professional",
          "Professional",
          "Skilled Manual",
          "Management",
          "Professional",
          "Clerical",
          "Clerical",
          "Clerical",
          "Manual",
          "Manual"
         ],
         "xaxis": "x",
         "y": {
          "bdata": "AQEBAQEBAQEBAQEBAQEBAQEBAQEBAQEBAQEBAQEBAQEBAQEBAQEBAQEBAQEBAQEBAQEBAQEBAQEBAQEBAQEBAQEBAQEBAQEBAQEBAQEBAQEBAQEBAQEBAQEBAQEBAQEBAQEBAQEBAQEBAQEBAQEBAQEBAQEBAQEBAQEBAQEBAQEBAQEBAQEBAQEBAQEBAQEBAQEBAQEBAQEBAQEBAQEBAQEBAQEBAQEBAQEBAQEBAQEBAQEBAQEBAQEBAQEBAQEBAQEBAQEBAQEBAQEBAQEBAQEBAQEBAQEBAQEBAQEBAQEBAQEBAQEBAQEBAQEBAQEBAQEBAQEBAQEBAQEBAQEBAQEBAQEBAQEBAQEBAQEBAQEBAQEBAQEBAQEBAQEBAQEBAQEBAQEBAQEBAQEBAQEBAQEBAQEBAQEBAQEBAQEBAQEBAQEBAQEBAQEBAQEBAQEBAQEBAQEBAQEBAQEBAQEBAQEBAQEBAQEBAQEBAQEBAQEBAQEBAQEBAQEBAQEBAQEBAQEBAQEBAQEBAQEBAQEBAQEBAQEBAQEBAQEBAQEBAQEBAQEBAQEBAQEBAQEBAQEBAQEBAQEBAQEBAQEBAQEBAQEBAQEBAQEBAQEBAQEBAQEBAQEBAQEBAQEBAQEBAQEBAQEBAQEBAQEBAQEBAQEBAQEBAQEBAQEBAQEBAQEBAQEBAQEBAQEBAQEBAQEBAQEBAQEBAQEBAQEBAQEBAQEBAQEBAQEBAQEBAQEBAQEBAQEBAQEBAQEBAQEBAQEBAQEBAQEBAQEBAQEBAQEBAQEBAQEBAQEBAQEBAQEBAQEBAQEBAQEBAQEBAQEBAQEBAQEBAQEBAQEBAQEBAQEBAQEBAQEBAQEBAQEBAQEBAQEBAQEBAQEBAQEBAQEBAQEBAQEBAQEBAQEBAQEBAQEBAQEBAQEBAQEBAQEBAQEBAQEBAQEBAQEBAQEBAQEBAQEBAQEBAQEBAQEBAQEBAQEBAQEBAQEBAQEBAQEBAQEBAQEBAQEBAQEBAQEBAQEBAQEBAQEBAQEBAQEBAQEBAQEBAQEBAQEBAQEBAQEBAQEBAQEBAQEBAQEBAQEBAQEBAQEBAQEBAQEBAQEBAQEBAQEBAQEBAQEBAQEBAQEBAQEBAQEBAQEBAQEBAQEBAQEBAQEBAQEBAQEBAQEBAQEBAQEBAQEBAQEBAQEBAQEBAQEBAQEBAQEBAQEBAQEBAQEBAQEBAQEBAQEBAQEBAQEBAQEBAQEBAQEBAQEBAQEBAQEBAQEBAQEBAQEBAQEBAQEBAQEBAQEBAQEBAQEBAQEBAQEBAQEBAQEBAQEBAQEBAQEBAQEBAQEBAQEBAQEBAQEBAQEB",
          "dtype": "i1"
         },
         "yaxis": "y"
        }
       ],
       "layout": {
        "barmode": "relative",
        "legend": {
         "tracegroupgap": 0
        },
        "template": {
         "data": {
          "bar": [
           {
            "error_x": {
             "color": "#2a3f5f"
            },
            "error_y": {
             "color": "#2a3f5f"
            },
            "marker": {
             "line": {
              "color": "#E5ECF6",
              "width": 0.5
             },
             "pattern": {
              "fillmode": "overlay",
              "size": 10,
              "solidity": 0.2
             }
            },
            "type": "bar"
           }
          ],
          "barpolar": [
           {
            "marker": {
             "line": {
              "color": "#E5ECF6",
              "width": 0.5
             },
             "pattern": {
              "fillmode": "overlay",
              "size": 10,
              "solidity": 0.2
             }
            },
            "type": "barpolar"
           }
          ],
          "carpet": [
           {
            "aaxis": {
             "endlinecolor": "#2a3f5f",
             "gridcolor": "white",
             "linecolor": "white",
             "minorgridcolor": "white",
             "startlinecolor": "#2a3f5f"
            },
            "baxis": {
             "endlinecolor": "#2a3f5f",
             "gridcolor": "white",
             "linecolor": "white",
             "minorgridcolor": "white",
             "startlinecolor": "#2a3f5f"
            },
            "type": "carpet"
           }
          ],
          "choropleth": [
           {
            "colorbar": {
             "outlinewidth": 0,
             "ticks": ""
            },
            "type": "choropleth"
           }
          ],
          "contour": [
           {
            "colorbar": {
             "outlinewidth": 0,
             "ticks": ""
            },
            "colorscale": [
             [
              0,
              "#0d0887"
             ],
             [
              0.1111111111111111,
              "#46039f"
             ],
             [
              0.2222222222222222,
              "#7201a8"
             ],
             [
              0.3333333333333333,
              "#9c179e"
             ],
             [
              0.4444444444444444,
              "#bd3786"
             ],
             [
              0.5555555555555556,
              "#d8576b"
             ],
             [
              0.6666666666666666,
              "#ed7953"
             ],
             [
              0.7777777777777778,
              "#fb9f3a"
             ],
             [
              0.8888888888888888,
              "#fdca26"
             ],
             [
              1,
              "#f0f921"
             ]
            ],
            "type": "contour"
           }
          ],
          "contourcarpet": [
           {
            "colorbar": {
             "outlinewidth": 0,
             "ticks": ""
            },
            "type": "contourcarpet"
           }
          ],
          "heatmap": [
           {
            "colorbar": {
             "outlinewidth": 0,
             "ticks": ""
            },
            "colorscale": [
             [
              0,
              "#0d0887"
             ],
             [
              0.1111111111111111,
              "#46039f"
             ],
             [
              0.2222222222222222,
              "#7201a8"
             ],
             [
              0.3333333333333333,
              "#9c179e"
             ],
             [
              0.4444444444444444,
              "#bd3786"
             ],
             [
              0.5555555555555556,
              "#d8576b"
             ],
             [
              0.6666666666666666,
              "#ed7953"
             ],
             [
              0.7777777777777778,
              "#fb9f3a"
             ],
             [
              0.8888888888888888,
              "#fdca26"
             ],
             [
              1,
              "#f0f921"
             ]
            ],
            "type": "heatmap"
           }
          ],
          "histogram": [
           {
            "marker": {
             "pattern": {
              "fillmode": "overlay",
              "size": 10,
              "solidity": 0.2
             }
            },
            "type": "histogram"
           }
          ],
          "histogram2d": [
           {
            "colorbar": {
             "outlinewidth": 0,
             "ticks": ""
            },
            "colorscale": [
             [
              0,
              "#0d0887"
             ],
             [
              0.1111111111111111,
              "#46039f"
             ],
             [
              0.2222222222222222,
              "#7201a8"
             ],
             [
              0.3333333333333333,
              "#9c179e"
             ],
             [
              0.4444444444444444,
              "#bd3786"
             ],
             [
              0.5555555555555556,
              "#d8576b"
             ],
             [
              0.6666666666666666,
              "#ed7953"
             ],
             [
              0.7777777777777778,
              "#fb9f3a"
             ],
             [
              0.8888888888888888,
              "#fdca26"
             ],
             [
              1,
              "#f0f921"
             ]
            ],
            "type": "histogram2d"
           }
          ],
          "histogram2dcontour": [
           {
            "colorbar": {
             "outlinewidth": 0,
             "ticks": ""
            },
            "colorscale": [
             [
              0,
              "#0d0887"
             ],
             [
              0.1111111111111111,
              "#46039f"
             ],
             [
              0.2222222222222222,
              "#7201a8"
             ],
             [
              0.3333333333333333,
              "#9c179e"
             ],
             [
              0.4444444444444444,
              "#bd3786"
             ],
             [
              0.5555555555555556,
              "#d8576b"
             ],
             [
              0.6666666666666666,
              "#ed7953"
             ],
             [
              0.7777777777777778,
              "#fb9f3a"
             ],
             [
              0.8888888888888888,
              "#fdca26"
             ],
             [
              1,
              "#f0f921"
             ]
            ],
            "type": "histogram2dcontour"
           }
          ],
          "mesh3d": [
           {
            "colorbar": {
             "outlinewidth": 0,
             "ticks": ""
            },
            "type": "mesh3d"
           }
          ],
          "parcoords": [
           {
            "line": {
             "colorbar": {
              "outlinewidth": 0,
              "ticks": ""
             }
            },
            "type": "parcoords"
           }
          ],
          "pie": [
           {
            "automargin": true,
            "type": "pie"
           }
          ],
          "scatter": [
           {
            "fillpattern": {
             "fillmode": "overlay",
             "size": 10,
             "solidity": 0.2
            },
            "type": "scatter"
           }
          ],
          "scatter3d": [
           {
            "line": {
             "colorbar": {
              "outlinewidth": 0,
              "ticks": ""
             }
            },
            "marker": {
             "colorbar": {
              "outlinewidth": 0,
              "ticks": ""
             }
            },
            "type": "scatter3d"
           }
          ],
          "scattercarpet": [
           {
            "marker": {
             "colorbar": {
              "outlinewidth": 0,
              "ticks": ""
             }
            },
            "type": "scattercarpet"
           }
          ],
          "scattergeo": [
           {
            "marker": {
             "colorbar": {
              "outlinewidth": 0,
              "ticks": ""
             }
            },
            "type": "scattergeo"
           }
          ],
          "scattergl": [
           {
            "marker": {
             "colorbar": {
              "outlinewidth": 0,
              "ticks": ""
             }
            },
            "type": "scattergl"
           }
          ],
          "scattermap": [
           {
            "marker": {
             "colorbar": {
              "outlinewidth": 0,
              "ticks": ""
             }
            },
            "type": "scattermap"
           }
          ],
          "scattermapbox": [
           {
            "marker": {
             "colorbar": {
              "outlinewidth": 0,
              "ticks": ""
             }
            },
            "type": "scattermapbox"
           }
          ],
          "scatterpolar": [
           {
            "marker": {
             "colorbar": {
              "outlinewidth": 0,
              "ticks": ""
             }
            },
            "type": "scatterpolar"
           }
          ],
          "scatterpolargl": [
           {
            "marker": {
             "colorbar": {
              "outlinewidth": 0,
              "ticks": ""
             }
            },
            "type": "scatterpolargl"
           }
          ],
          "scatterternary": [
           {
            "marker": {
             "colorbar": {
              "outlinewidth": 0,
              "ticks": ""
             }
            },
            "type": "scatterternary"
           }
          ],
          "surface": [
           {
            "colorbar": {
             "outlinewidth": 0,
             "ticks": ""
            },
            "colorscale": [
             [
              0,
              "#0d0887"
             ],
             [
              0.1111111111111111,
              "#46039f"
             ],
             [
              0.2222222222222222,
              "#7201a8"
             ],
             [
              0.3333333333333333,
              "#9c179e"
             ],
             [
              0.4444444444444444,
              "#bd3786"
             ],
             [
              0.5555555555555556,
              "#d8576b"
             ],
             [
              0.6666666666666666,
              "#ed7953"
             ],
             [
              0.7777777777777778,
              "#fb9f3a"
             ],
             [
              0.8888888888888888,
              "#fdca26"
             ],
             [
              1,
              "#f0f921"
             ]
            ],
            "type": "surface"
           }
          ],
          "table": [
           {
            "cells": {
             "fill": {
              "color": "#EBF0F8"
             },
             "line": {
              "color": "white"
             }
            },
            "header": {
             "fill": {
              "color": "#C8D4E3"
             },
             "line": {
              "color": "white"
             }
            },
            "type": "table"
           }
          ]
         },
         "layout": {
          "annotationdefaults": {
           "arrowcolor": "#2a3f5f",
           "arrowhead": 0,
           "arrowwidth": 1
          },
          "autotypenumbers": "strict",
          "coloraxis": {
           "colorbar": {
            "outlinewidth": 0,
            "ticks": ""
           }
          },
          "colorscale": {
           "diverging": [
            [
             0,
             "#8e0152"
            ],
            [
             0.1,
             "#c51b7d"
            ],
            [
             0.2,
             "#de77ae"
            ],
            [
             0.3,
             "#f1b6da"
            ],
            [
             0.4,
             "#fde0ef"
            ],
            [
             0.5,
             "#f7f7f7"
            ],
            [
             0.6,
             "#e6f5d0"
            ],
            [
             0.7,
             "#b8e186"
            ],
            [
             0.8,
             "#7fbc41"
            ],
            [
             0.9,
             "#4d9221"
            ],
            [
             1,
             "#276419"
            ]
           ],
           "sequential": [
            [
             0,
             "#0d0887"
            ],
            [
             0.1111111111111111,
             "#46039f"
            ],
            [
             0.2222222222222222,
             "#7201a8"
            ],
            [
             0.3333333333333333,
             "#9c179e"
            ],
            [
             0.4444444444444444,
             "#bd3786"
            ],
            [
             0.5555555555555556,
             "#d8576b"
            ],
            [
             0.6666666666666666,
             "#ed7953"
            ],
            [
             0.7777777777777778,
             "#fb9f3a"
            ],
            [
             0.8888888888888888,
             "#fdca26"
            ],
            [
             1,
             "#f0f921"
            ]
           ],
           "sequentialminus": [
            [
             0,
             "#0d0887"
            ],
            [
             0.1111111111111111,
             "#46039f"
            ],
            [
             0.2222222222222222,
             "#7201a8"
            ],
            [
             0.3333333333333333,
             "#9c179e"
            ],
            [
             0.4444444444444444,
             "#bd3786"
            ],
            [
             0.5555555555555556,
             "#d8576b"
            ],
            [
             0.6666666666666666,
             "#ed7953"
            ],
            [
             0.7777777777777778,
             "#fb9f3a"
            ],
            [
             0.8888888888888888,
             "#fdca26"
            ],
            [
             1,
             "#f0f921"
            ]
           ]
          },
          "colorway": [
           "#636efa",
           "#EF553B",
           "#00cc96",
           "#ab63fa",
           "#FFA15A",
           "#19d3f3",
           "#FF6692",
           "#B6E880",
           "#FF97FF",
           "#FECB52"
          ],
          "font": {
           "color": "#2a3f5f"
          },
          "geo": {
           "bgcolor": "white",
           "lakecolor": "white",
           "landcolor": "#E5ECF6",
           "showlakes": true,
           "showland": true,
           "subunitcolor": "white"
          },
          "hoverlabel": {
           "align": "left"
          },
          "hovermode": "closest",
          "mapbox": {
           "style": "light"
          },
          "paper_bgcolor": "white",
          "plot_bgcolor": "#E5ECF6",
          "polar": {
           "angularaxis": {
            "gridcolor": "white",
            "linecolor": "white",
            "ticks": ""
           },
           "bgcolor": "#E5ECF6",
           "radialaxis": {
            "gridcolor": "white",
            "linecolor": "white",
            "ticks": ""
           }
          },
          "scene": {
           "xaxis": {
            "backgroundcolor": "#E5ECF6",
            "gridcolor": "white",
            "gridwidth": 2,
            "linecolor": "white",
            "showbackground": true,
            "ticks": "",
            "zerolinecolor": "white"
           },
           "yaxis": {
            "backgroundcolor": "#E5ECF6",
            "gridcolor": "white",
            "gridwidth": 2,
            "linecolor": "white",
            "showbackground": true,
            "ticks": "",
            "zerolinecolor": "white"
           },
           "zaxis": {
            "backgroundcolor": "#E5ECF6",
            "gridcolor": "white",
            "gridwidth": 2,
            "linecolor": "white",
            "showbackground": true,
            "ticks": "",
            "zerolinecolor": "white"
           }
          },
          "shapedefaults": {
           "line": {
            "color": "#2a3f5f"
           }
          },
          "ternary": {
           "aaxis": {
            "gridcolor": "white",
            "linecolor": "white",
            "ticks": ""
           },
           "baxis": {
            "gridcolor": "white",
            "linecolor": "white",
            "ticks": ""
           },
           "bgcolor": "#E5ECF6",
           "caxis": {
            "gridcolor": "white",
            "linecolor": "white",
            "ticks": ""
           }
          },
          "title": {
           "x": 0.05
          },
          "xaxis": {
           "automargin": true,
           "gridcolor": "white",
           "linecolor": "white",
           "ticks": "",
           "title": {
            "standoff": 15
           },
           "zerolinecolor": "white",
           "zerolinewidth": 2
          },
          "yaxis": {
           "automargin": true,
           "gridcolor": "white",
           "linecolor": "white",
           "ticks": "",
           "title": {
            "standoff": 15
           },
           "zerolinecolor": "white",
           "zerolinewidth": 2
          }
         }
        },
        "title": {
         "text": "Count of Each Occupation"
        },
        "xaxis": {
         "anchor": "y",
         "domain": [
          0,
          1
         ],
         "title": {
          "text": "Occupation"
         }
        },
        "yaxis": {
         "anchor": "x",
         "domain": [
          0,
          1
         ],
         "title": {
          "text": "Count"
         }
        }
       }
      }
     },
     "metadata": {},
     "output_type": "display_data"
    }
   ],
   "source": [
    "# Plotting the count of each occupation\n",
    "fig = px.bar(data, x=\"Occupation\", title=\"Count of Each Occupation\", color_discrete_sequence=[\"purple\"])\n",
    "fig.update_layout(xaxis_title=\"Occupation\", yaxis_title=\"Count\")\n",
    "fig.show()\n",
    "\n"
   ]
  },
  {
   "cell_type": "code",
   "execution_count": 33,
   "metadata": {},
   "outputs": [
    {
     "data": {
      "application/vnd.plotly.v1+json": {
       "config": {
        "plotlyServerURL": "https://plot.ly"
       },
       "data": [
        {
         "coloraxis": "coloraxis",
         "hovertemplate": "x: %{x}<br>y: %{y}<br>color: %{z}<extra></extra>",
         "name": "0",
         "texttemplate": "%{z}",
         "type": "heatmap",
         "x": [
          "ID",
          " Income ",
          "Children",
          "Home Owner",
          "Cars",
          "Age",
          "Purchased Bike"
         ],
         "xaxis": "x",
         "y": [
          "ID",
          " Income ",
          "Children",
          "Home Owner",
          "Cars",
          "Age",
          "Purchased Bike"
         ],
         "yaxis": "y",
         "z": {
          "bdata": "AAAAAAAA8D+hKtuKhpKyv3GRRntZwp+/lHOyfdj6wb9KCdgLRWihP3B6rp4sNaq/2CcU2n6Xrj+hKtuKhpKyvwAAAAAAAPA/m8C0Xu1x0D9Rxj5nEEmaP4g5mWLtT9s/87Ob+ywmxj+UrmEXMNaoP3GRRntZwp+/m8C0Xu1x0D8AAAAAAADwP2P+gNC9VsQ/7rsxsZXi0D9DIHRMFe7gP7ILDApxkb6/lHOyfdj6wb9Rxj5nEEmaP2P+gNC9VsQ/AAAAAAAA8D8EafYYG6Gyv5KvOPg6w7w/nsIXuK4Hkb9KCdgLRWihP4g5mWLtT9s/7rsxsZXi0D8EafYYG6GyvwAAAAAAAPA/N902dmQvyD+oQAVKau/Iv3B6rp4sNaq/87Ob+ywmxj9DIHRMFe7gP5KvOPg6w7w/N902dmQvyD8AAAAAAADwP/eZQE8QLbu/2CcU2n6Xrj+UrmEXMNaoP7ILDApxkb6/nsIXuK4Hkb+oQAVKau/Iv/eZQE8QLbu/AAAAAAAA8D8=",
          "dtype": "f8",
          "shape": "7, 7"
         }
        }
       ],
       "layout": {
        "coloraxis": {
         "colorscale": [
          [
           0,
           "#440154"
          ],
          [
           0.1111111111111111,
           "#482878"
          ],
          [
           0.2222222222222222,
           "#3e4989"
          ],
          [
           0.3333333333333333,
           "#31688e"
          ],
          [
           0.4444444444444444,
           "#26828e"
          ],
          [
           0.5555555555555556,
           "#1f9e89"
          ],
          [
           0.6666666666666666,
           "#35b779"
          ],
          [
           0.7777777777777778,
           "#6ece58"
          ],
          [
           0.8888888888888888,
           "#b5de2b"
          ],
          [
           1,
           "#fde725"
          ]
         ]
        },
        "template": {
         "data": {
          "bar": [
           {
            "error_x": {
             "color": "#2a3f5f"
            },
            "error_y": {
             "color": "#2a3f5f"
            },
            "marker": {
             "line": {
              "color": "#E5ECF6",
              "width": 0.5
             },
             "pattern": {
              "fillmode": "overlay",
              "size": 10,
              "solidity": 0.2
             }
            },
            "type": "bar"
           }
          ],
          "barpolar": [
           {
            "marker": {
             "line": {
              "color": "#E5ECF6",
              "width": 0.5
             },
             "pattern": {
              "fillmode": "overlay",
              "size": 10,
              "solidity": 0.2
             }
            },
            "type": "barpolar"
           }
          ],
          "carpet": [
           {
            "aaxis": {
             "endlinecolor": "#2a3f5f",
             "gridcolor": "white",
             "linecolor": "white",
             "minorgridcolor": "white",
             "startlinecolor": "#2a3f5f"
            },
            "baxis": {
             "endlinecolor": "#2a3f5f",
             "gridcolor": "white",
             "linecolor": "white",
             "minorgridcolor": "white",
             "startlinecolor": "#2a3f5f"
            },
            "type": "carpet"
           }
          ],
          "choropleth": [
           {
            "colorbar": {
             "outlinewidth": 0,
             "ticks": ""
            },
            "type": "choropleth"
           }
          ],
          "contour": [
           {
            "colorbar": {
             "outlinewidth": 0,
             "ticks": ""
            },
            "colorscale": [
             [
              0,
              "#0d0887"
             ],
             [
              0.1111111111111111,
              "#46039f"
             ],
             [
              0.2222222222222222,
              "#7201a8"
             ],
             [
              0.3333333333333333,
              "#9c179e"
             ],
             [
              0.4444444444444444,
              "#bd3786"
             ],
             [
              0.5555555555555556,
              "#d8576b"
             ],
             [
              0.6666666666666666,
              "#ed7953"
             ],
             [
              0.7777777777777778,
              "#fb9f3a"
             ],
             [
              0.8888888888888888,
              "#fdca26"
             ],
             [
              1,
              "#f0f921"
             ]
            ],
            "type": "contour"
           }
          ],
          "contourcarpet": [
           {
            "colorbar": {
             "outlinewidth": 0,
             "ticks": ""
            },
            "type": "contourcarpet"
           }
          ],
          "heatmap": [
           {
            "colorbar": {
             "outlinewidth": 0,
             "ticks": ""
            },
            "colorscale": [
             [
              0,
              "#0d0887"
             ],
             [
              0.1111111111111111,
              "#46039f"
             ],
             [
              0.2222222222222222,
              "#7201a8"
             ],
             [
              0.3333333333333333,
              "#9c179e"
             ],
             [
              0.4444444444444444,
              "#bd3786"
             ],
             [
              0.5555555555555556,
              "#d8576b"
             ],
             [
              0.6666666666666666,
              "#ed7953"
             ],
             [
              0.7777777777777778,
              "#fb9f3a"
             ],
             [
              0.8888888888888888,
              "#fdca26"
             ],
             [
              1,
              "#f0f921"
             ]
            ],
            "type": "heatmap"
           }
          ],
          "histogram": [
           {
            "marker": {
             "pattern": {
              "fillmode": "overlay",
              "size": 10,
              "solidity": 0.2
             }
            },
            "type": "histogram"
           }
          ],
          "histogram2d": [
           {
            "colorbar": {
             "outlinewidth": 0,
             "ticks": ""
            },
            "colorscale": [
             [
              0,
              "#0d0887"
             ],
             [
              0.1111111111111111,
              "#46039f"
             ],
             [
              0.2222222222222222,
              "#7201a8"
             ],
             [
              0.3333333333333333,
              "#9c179e"
             ],
             [
              0.4444444444444444,
              "#bd3786"
             ],
             [
              0.5555555555555556,
              "#d8576b"
             ],
             [
              0.6666666666666666,
              "#ed7953"
             ],
             [
              0.7777777777777778,
              "#fb9f3a"
             ],
             [
              0.8888888888888888,
              "#fdca26"
             ],
             [
              1,
              "#f0f921"
             ]
            ],
            "type": "histogram2d"
           }
          ],
          "histogram2dcontour": [
           {
            "colorbar": {
             "outlinewidth": 0,
             "ticks": ""
            },
            "colorscale": [
             [
              0,
              "#0d0887"
             ],
             [
              0.1111111111111111,
              "#46039f"
             ],
             [
              0.2222222222222222,
              "#7201a8"
             ],
             [
              0.3333333333333333,
              "#9c179e"
             ],
             [
              0.4444444444444444,
              "#bd3786"
             ],
             [
              0.5555555555555556,
              "#d8576b"
             ],
             [
              0.6666666666666666,
              "#ed7953"
             ],
             [
              0.7777777777777778,
              "#fb9f3a"
             ],
             [
              0.8888888888888888,
              "#fdca26"
             ],
             [
              1,
              "#f0f921"
             ]
            ],
            "type": "histogram2dcontour"
           }
          ],
          "mesh3d": [
           {
            "colorbar": {
             "outlinewidth": 0,
             "ticks": ""
            },
            "type": "mesh3d"
           }
          ],
          "parcoords": [
           {
            "line": {
             "colorbar": {
              "outlinewidth": 0,
              "ticks": ""
             }
            },
            "type": "parcoords"
           }
          ],
          "pie": [
           {
            "automargin": true,
            "type": "pie"
           }
          ],
          "scatter": [
           {
            "fillpattern": {
             "fillmode": "overlay",
             "size": 10,
             "solidity": 0.2
            },
            "type": "scatter"
           }
          ],
          "scatter3d": [
           {
            "line": {
             "colorbar": {
              "outlinewidth": 0,
              "ticks": ""
             }
            },
            "marker": {
             "colorbar": {
              "outlinewidth": 0,
              "ticks": ""
             }
            },
            "type": "scatter3d"
           }
          ],
          "scattercarpet": [
           {
            "marker": {
             "colorbar": {
              "outlinewidth": 0,
              "ticks": ""
             }
            },
            "type": "scattercarpet"
           }
          ],
          "scattergeo": [
           {
            "marker": {
             "colorbar": {
              "outlinewidth": 0,
              "ticks": ""
             }
            },
            "type": "scattergeo"
           }
          ],
          "scattergl": [
           {
            "marker": {
             "colorbar": {
              "outlinewidth": 0,
              "ticks": ""
             }
            },
            "type": "scattergl"
           }
          ],
          "scattermap": [
           {
            "marker": {
             "colorbar": {
              "outlinewidth": 0,
              "ticks": ""
             }
            },
            "type": "scattermap"
           }
          ],
          "scattermapbox": [
           {
            "marker": {
             "colorbar": {
              "outlinewidth": 0,
              "ticks": ""
             }
            },
            "type": "scattermapbox"
           }
          ],
          "scatterpolar": [
           {
            "marker": {
             "colorbar": {
              "outlinewidth": 0,
              "ticks": ""
             }
            },
            "type": "scatterpolar"
           }
          ],
          "scatterpolargl": [
           {
            "marker": {
             "colorbar": {
              "outlinewidth": 0,
              "ticks": ""
             }
            },
            "type": "scatterpolargl"
           }
          ],
          "scatterternary": [
           {
            "marker": {
             "colorbar": {
              "outlinewidth": 0,
              "ticks": ""
             }
            },
            "type": "scatterternary"
           }
          ],
          "surface": [
           {
            "colorbar": {
             "outlinewidth": 0,
             "ticks": ""
            },
            "colorscale": [
             [
              0,
              "#0d0887"
             ],
             [
              0.1111111111111111,
              "#46039f"
             ],
             [
              0.2222222222222222,
              "#7201a8"
             ],
             [
              0.3333333333333333,
              "#9c179e"
             ],
             [
              0.4444444444444444,
              "#bd3786"
             ],
             [
              0.5555555555555556,
              "#d8576b"
             ],
             [
              0.6666666666666666,
              "#ed7953"
             ],
             [
              0.7777777777777778,
              "#fb9f3a"
             ],
             [
              0.8888888888888888,
              "#fdca26"
             ],
             [
              1,
              "#f0f921"
             ]
            ],
            "type": "surface"
           }
          ],
          "table": [
           {
            "cells": {
             "fill": {
              "color": "#EBF0F8"
             },
             "line": {
              "color": "white"
             }
            },
            "header": {
             "fill": {
              "color": "#C8D4E3"
             },
             "line": {
              "color": "white"
             }
            },
            "type": "table"
           }
          ]
         },
         "layout": {
          "annotationdefaults": {
           "arrowcolor": "#2a3f5f",
           "arrowhead": 0,
           "arrowwidth": 1
          },
          "autotypenumbers": "strict",
          "coloraxis": {
           "colorbar": {
            "outlinewidth": 0,
            "ticks": ""
           }
          },
          "colorscale": {
           "diverging": [
            [
             0,
             "#8e0152"
            ],
            [
             0.1,
             "#c51b7d"
            ],
            [
             0.2,
             "#de77ae"
            ],
            [
             0.3,
             "#f1b6da"
            ],
            [
             0.4,
             "#fde0ef"
            ],
            [
             0.5,
             "#f7f7f7"
            ],
            [
             0.6,
             "#e6f5d0"
            ],
            [
             0.7,
             "#b8e186"
            ],
            [
             0.8,
             "#7fbc41"
            ],
            [
             0.9,
             "#4d9221"
            ],
            [
             1,
             "#276419"
            ]
           ],
           "sequential": [
            [
             0,
             "#0d0887"
            ],
            [
             0.1111111111111111,
             "#46039f"
            ],
            [
             0.2222222222222222,
             "#7201a8"
            ],
            [
             0.3333333333333333,
             "#9c179e"
            ],
            [
             0.4444444444444444,
             "#bd3786"
            ],
            [
             0.5555555555555556,
             "#d8576b"
            ],
            [
             0.6666666666666666,
             "#ed7953"
            ],
            [
             0.7777777777777778,
             "#fb9f3a"
            ],
            [
             0.8888888888888888,
             "#fdca26"
            ],
            [
             1,
             "#f0f921"
            ]
           ],
           "sequentialminus": [
            [
             0,
             "#0d0887"
            ],
            [
             0.1111111111111111,
             "#46039f"
            ],
            [
             0.2222222222222222,
             "#7201a8"
            ],
            [
             0.3333333333333333,
             "#9c179e"
            ],
            [
             0.4444444444444444,
             "#bd3786"
            ],
            [
             0.5555555555555556,
             "#d8576b"
            ],
            [
             0.6666666666666666,
             "#ed7953"
            ],
            [
             0.7777777777777778,
             "#fb9f3a"
            ],
            [
             0.8888888888888888,
             "#fdca26"
            ],
            [
             1,
             "#f0f921"
            ]
           ]
          },
          "colorway": [
           "#636efa",
           "#EF553B",
           "#00cc96",
           "#ab63fa",
           "#FFA15A",
           "#19d3f3",
           "#FF6692",
           "#B6E880",
           "#FF97FF",
           "#FECB52"
          ],
          "font": {
           "color": "#2a3f5f"
          },
          "geo": {
           "bgcolor": "white",
           "lakecolor": "white",
           "landcolor": "#E5ECF6",
           "showlakes": true,
           "showland": true,
           "subunitcolor": "white"
          },
          "hoverlabel": {
           "align": "left"
          },
          "hovermode": "closest",
          "mapbox": {
           "style": "light"
          },
          "paper_bgcolor": "white",
          "plot_bgcolor": "#E5ECF6",
          "polar": {
           "angularaxis": {
            "gridcolor": "white",
            "linecolor": "white",
            "ticks": ""
           },
           "bgcolor": "#E5ECF6",
           "radialaxis": {
            "gridcolor": "white",
            "linecolor": "white",
            "ticks": ""
           }
          },
          "scene": {
           "xaxis": {
            "backgroundcolor": "#E5ECF6",
            "gridcolor": "white",
            "gridwidth": 2,
            "linecolor": "white",
            "showbackground": true,
            "ticks": "",
            "zerolinecolor": "white"
           },
           "yaxis": {
            "backgroundcolor": "#E5ECF6",
            "gridcolor": "white",
            "gridwidth": 2,
            "linecolor": "white",
            "showbackground": true,
            "ticks": "",
            "zerolinecolor": "white"
           },
           "zaxis": {
            "backgroundcolor": "#E5ECF6",
            "gridcolor": "white",
            "gridwidth": 2,
            "linecolor": "white",
            "showbackground": true,
            "ticks": "",
            "zerolinecolor": "white"
           }
          },
          "shapedefaults": {
           "line": {
            "color": "#2a3f5f"
           }
          },
          "ternary": {
           "aaxis": {
            "gridcolor": "white",
            "linecolor": "white",
            "ticks": ""
           },
           "baxis": {
            "gridcolor": "white",
            "linecolor": "white",
            "ticks": ""
           },
           "bgcolor": "#E5ECF6",
           "caxis": {
            "gridcolor": "white",
            "linecolor": "white",
            "ticks": ""
           }
          },
          "title": {
           "x": 0.05
          },
          "xaxis": {
           "automargin": true,
           "gridcolor": "white",
           "linecolor": "white",
           "ticks": "",
           "title": {
            "standoff": 15
           },
           "zerolinecolor": "white",
           "zerolinewidth": 2
          },
          "yaxis": {
           "automargin": true,
           "gridcolor": "white",
           "linecolor": "white",
           "ticks": "",
           "title": {
            "standoff": 15
           },
           "zerolinecolor": "white",
           "zerolinewidth": 2
          }
         }
        },
        "title": {
         "text": "Correlation Heatmap"
        },
        "xaxis": {
         "anchor": "y",
         "constrain": "domain",
         "domain": [
          0,
          1
         ],
         "scaleanchor": "y",
         "title": {
          "text": "Features"
         }
        },
        "yaxis": {
         "anchor": "x",
         "autorange": "reversed",
         "constrain": "domain",
         "domain": [
          0,
          1
         ],
         "title": {
          "text": "Features"
         }
        }
       }
      }
     },
     "metadata": {},
     "output_type": "display_data"
    }
   ],
   "source": [
    "# Create a heatmap for correlation using plotly express    #### imshow = heatmap\n",
    "corr = data.corr(numeric_only=True)\n",
    "\n",
    "fig = px.imshow(corr, text_auto=True, color_continuous_scale='Viridis', title=\"Correlation Heatmap\")\n",
    "fig.update_layout(xaxis_title=\"Features\", yaxis_title=\"Features\")\n",
    "fig.show()\n"
   ]
  },
  {
   "cell_type": "code",
   "execution_count": 34,
   "metadata": {},
   "outputs": [
    {
     "data": {
      "application/vnd.plotly.v1+json": {
       "config": {
        "plotlyServerURL": "https://plot.ly"
       },
       "data": [
        {
         "hovertemplate": "Age=%{x}<br>Income=%{y}<extra></extra>",
         "legendgroup": "",
         "marker": {
          "color": "green",
          "symbol": "circle"
         },
         "mode": "markers",
         "name": "",
         "showlegend": false,
         "type": "scattergl",
         "x": {
          "bdata": "Kis8KSQyISs6KDYkNyMtJjsvIzckIyM4Ij8dKCwgPxofMj4pMh4cKCtBKDApQi40KiccI0E4KjYmPSsmLSM0KSVEJSErHiQjNCQ+HxodMj8tKC8dNBozKB0oHR4lITc+KywZKyMrMS0xHjQ1JicuJiMkGh4qKD4dQjAfOCYoICc0JyU4KEEqNCMqNzwoGiogJSIlKDwbKzAgLygpOzI2MCwoJjQZGS8jKS89PSEbJTQdMDclLDcmQjovODsgLDckPikgGSRDJyEfGyEuMy4+GiUqJCQeH0E2NhkwGisjKidDIyorLTk4Ji0bI0YsGi4iJRsnHTQwMyI+JU43Hzs5LyskOCUrITMnJSobLy0lMxwoHiQlMSUjJislIi4xLTAuMDYuJiouJCAnJDZFPhw+KCQ6KEIjLy8uOjQvKUAjNi0oLyklJiQaKCQ7IB4jMy8nIiAyQh4gIyAfMistKh0cJTUmJyAzIToeMBshQiYmLTI8NS4yKx4mWUAzOCseRTUlHCsiIkApJikzICYmJjonNTVQLCw2JSkkITQuKyJDIyglQykzOzMgIitDHCQwHzccIho1RDIcKCwiNCQrICAwIC4qJClFLSI1MkEgIR8uJyguQS8uKEEcKyYvJDwqMiMgLiEkRh8qOiciIC4wHzwzOCgiMB8vIh0sJigqMx0wJUItPS0vMS8iQCw+LzFDOywkHDkbHCxCQCkpMSolNCIdNSgdKzcwLSo/NkkoJyofKTooMCIcGzZGMCxFNDcePyI4HyY7IEUcL0IlJzMoMzkjPSwxRk4tOik5MSs0Ixs0JC40KywiGy0tLy8sMR4pOi83G0MdQzMjHiwwLUIxKx5KQThAMiMpJy8fOiZDIC0fHx8yLCY/JBwsLygoLj0oMjskHiMwKS8vPjwhLzQoKjUzHh4aLSIsKSQsHhwxKzsaLiEqOyEsPDsgOjsmHCUoJiQlPCo1MTEqNS4bMCkxJiwtGh8xLzceMB4tOC84LEU7MiQgGzs1JDMvKzI7JSEbIio5LSg3Ly8iJDY7GykyNysrKjUcIzsxMDIcNDRFMzkbGSErSRscGx81IDJFNB89NT4eKyoeHishIDIlNCQpGkIzKyclNigcISklNUAtNDwyOB0mPEMgJyMgHxsvKjEgNSAmHyY3MTwqLjc1KDUmGj1HLSVIIDBEMSIgKiMwSSsjI0AiHDwuLCooSSQmIj8pJy5AICQvQCMoIj0zMTY1MCE5JzAyLzEbHTstPCQbMiMiNioiJj8tKDUiJjseMCsjHi8tLT43QjgoITgbJx8zNC81I0JBLR8oLi8pMCo8Qj8qGiQxLC42IyYmNTsvIxof",
          "dtype": "i1"
         },
         "xaxis": "x",
         "y": {
          "bdata": "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",
          "dtype": "f8"
         },
         "yaxis": "y"
        }
       ],
       "layout": {
        "legend": {
         "tracegroupgap": 0
        },
        "template": {
         "data": {
          "bar": [
           {
            "error_x": {
             "color": "#2a3f5f"
            },
            "error_y": {
             "color": "#2a3f5f"
            },
            "marker": {
             "line": {
              "color": "#E5ECF6",
              "width": 0.5
             },
             "pattern": {
              "fillmode": "overlay",
              "size": 10,
              "solidity": 0.2
             }
            },
            "type": "bar"
           }
          ],
          "barpolar": [
           {
            "marker": {
             "line": {
              "color": "#E5ECF6",
              "width": 0.5
             },
             "pattern": {
              "fillmode": "overlay",
              "size": 10,
              "solidity": 0.2
             }
            },
            "type": "barpolar"
           }
          ],
          "carpet": [
           {
            "aaxis": {
             "endlinecolor": "#2a3f5f",
             "gridcolor": "white",
             "linecolor": "white",
             "minorgridcolor": "white",
             "startlinecolor": "#2a3f5f"
            },
            "baxis": {
             "endlinecolor": "#2a3f5f",
             "gridcolor": "white",
             "linecolor": "white",
             "minorgridcolor": "white",
             "startlinecolor": "#2a3f5f"
            },
            "type": "carpet"
           }
          ],
          "choropleth": [
           {
            "colorbar": {
             "outlinewidth": 0,
             "ticks": ""
            },
            "type": "choropleth"
           }
          ],
          "contour": [
           {
            "colorbar": {
             "outlinewidth": 0,
             "ticks": ""
            },
            "colorscale": [
             [
              0,
              "#0d0887"
             ],
             [
              0.1111111111111111,
              "#46039f"
             ],
             [
              0.2222222222222222,
              "#7201a8"
             ],
             [
              0.3333333333333333,
              "#9c179e"
             ],
             [
              0.4444444444444444,
              "#bd3786"
             ],
             [
              0.5555555555555556,
              "#d8576b"
             ],
             [
              0.6666666666666666,
              "#ed7953"
             ],
             [
              0.7777777777777778,
              "#fb9f3a"
             ],
             [
              0.8888888888888888,
              "#fdca26"
             ],
             [
              1,
              "#f0f921"
             ]
            ],
            "type": "contour"
           }
          ],
          "contourcarpet": [
           {
            "colorbar": {
             "outlinewidth": 0,
             "ticks": ""
            },
            "type": "contourcarpet"
           }
          ],
          "heatmap": [
           {
            "colorbar": {
             "outlinewidth": 0,
             "ticks": ""
            },
            "colorscale": [
             [
              0,
              "#0d0887"
             ],
             [
              0.1111111111111111,
              "#46039f"
             ],
             [
              0.2222222222222222,
              "#7201a8"
             ],
             [
              0.3333333333333333,
              "#9c179e"
             ],
             [
              0.4444444444444444,
              "#bd3786"
             ],
             [
              0.5555555555555556,
              "#d8576b"
             ],
             [
              0.6666666666666666,
              "#ed7953"
             ],
             [
              0.7777777777777778,
              "#fb9f3a"
             ],
             [
              0.8888888888888888,
              "#fdca26"
             ],
             [
              1,
              "#f0f921"
             ]
            ],
            "type": "heatmap"
           }
          ],
          "histogram": [
           {
            "marker": {
             "pattern": {
              "fillmode": "overlay",
              "size": 10,
              "solidity": 0.2
             }
            },
            "type": "histogram"
           }
          ],
          "histogram2d": [
           {
            "colorbar": {
             "outlinewidth": 0,
             "ticks": ""
            },
            "colorscale": [
             [
              0,
              "#0d0887"
             ],
             [
              0.1111111111111111,
              "#46039f"
             ],
             [
              0.2222222222222222,
              "#7201a8"
             ],
             [
              0.3333333333333333,
              "#9c179e"
             ],
             [
              0.4444444444444444,
              "#bd3786"
             ],
             [
              0.5555555555555556,
              "#d8576b"
             ],
             [
              0.6666666666666666,
              "#ed7953"
             ],
             [
              0.7777777777777778,
              "#fb9f3a"
             ],
             [
              0.8888888888888888,
              "#fdca26"
             ],
             [
              1,
              "#f0f921"
             ]
            ],
            "type": "histogram2d"
           }
          ],
          "histogram2dcontour": [
           {
            "colorbar": {
             "outlinewidth": 0,
             "ticks": ""
            },
            "colorscale": [
             [
              0,
              "#0d0887"
             ],
             [
              0.1111111111111111,
              "#46039f"
             ],
             [
              0.2222222222222222,
              "#7201a8"
             ],
             [
              0.3333333333333333,
              "#9c179e"
             ],
             [
              0.4444444444444444,
              "#bd3786"
             ],
             [
              0.5555555555555556,
              "#d8576b"
             ],
             [
              0.6666666666666666,
              "#ed7953"
             ],
             [
              0.7777777777777778,
              "#fb9f3a"
             ],
             [
              0.8888888888888888,
              "#fdca26"
             ],
             [
              1,
              "#f0f921"
             ]
            ],
            "type": "histogram2dcontour"
           }
          ],
          "mesh3d": [
           {
            "colorbar": {
             "outlinewidth": 0,
             "ticks": ""
            },
            "type": "mesh3d"
           }
          ],
          "parcoords": [
           {
            "line": {
             "colorbar": {
              "outlinewidth": 0,
              "ticks": ""
             }
            },
            "type": "parcoords"
           }
          ],
          "pie": [
           {
            "automargin": true,
            "type": "pie"
           }
          ],
          "scatter": [
           {
            "fillpattern": {
             "fillmode": "overlay",
             "size": 10,
             "solidity": 0.2
            },
            "type": "scatter"
           }
          ],
          "scatter3d": [
           {
            "line": {
             "colorbar": {
              "outlinewidth": 0,
              "ticks": ""
             }
            },
            "marker": {
             "colorbar": {
              "outlinewidth": 0,
              "ticks": ""
             }
            },
            "type": "scatter3d"
           }
          ],
          "scattercarpet": [
           {
            "marker": {
             "colorbar": {
              "outlinewidth": 0,
              "ticks": ""
             }
            },
            "type": "scattercarpet"
           }
          ],
          "scattergeo": [
           {
            "marker": {
             "colorbar": {
              "outlinewidth": 0,
              "ticks": ""
             }
            },
            "type": "scattergeo"
           }
          ],
          "scattergl": [
           {
            "marker": {
             "colorbar": {
              "outlinewidth": 0,
              "ticks": ""
             }
            },
            "type": "scattergl"
           }
          ],
          "scattermap": [
           {
            "marker": {
             "colorbar": {
              "outlinewidth": 0,
              "ticks": ""
             }
            },
            "type": "scattermap"
           }
          ],
          "scattermapbox": [
           {
            "marker": {
             "colorbar": {
              "outlinewidth": 0,
              "ticks": ""
             }
            },
            "type": "scattermapbox"
           }
          ],
          "scatterpolar": [
           {
            "marker": {
             "colorbar": {
              "outlinewidth": 0,
              "ticks": ""
             }
            },
            "type": "scatterpolar"
           }
          ],
          "scatterpolargl": [
           {
            "marker": {
             "colorbar": {
              "outlinewidth": 0,
              "ticks": ""
             }
            },
            "type": "scatterpolargl"
           }
          ],
          "scatterternary": [
           {
            "marker": {
             "colorbar": {
              "outlinewidth": 0,
              "ticks": ""
             }
            },
            "type": "scatterternary"
           }
          ],
          "surface": [
           {
            "colorbar": {
             "outlinewidth": 0,
             "ticks": ""
            },
            "colorscale": [
             [
              0,
              "#0d0887"
             ],
             [
              0.1111111111111111,
              "#46039f"
             ],
             [
              0.2222222222222222,
              "#7201a8"
             ],
             [
              0.3333333333333333,
              "#9c179e"
             ],
             [
              0.4444444444444444,
              "#bd3786"
             ],
             [
              0.5555555555555556,
              "#d8576b"
             ],
             [
              0.6666666666666666,
              "#ed7953"
             ],
             [
              0.7777777777777778,
              "#fb9f3a"
             ],
             [
              0.8888888888888888,
              "#fdca26"
             ],
             [
              1,
              "#f0f921"
             ]
            ],
            "type": "surface"
           }
          ],
          "table": [
           {
            "cells": {
             "fill": {
              "color": "#EBF0F8"
             },
             "line": {
              "color": "white"
             }
            },
            "header": {
             "fill": {
              "color": "#C8D4E3"
             },
             "line": {
              "color": "white"
             }
            },
            "type": "table"
           }
          ]
         },
         "layout": {
          "annotationdefaults": {
           "arrowcolor": "#2a3f5f",
           "arrowhead": 0,
           "arrowwidth": 1
          },
          "autotypenumbers": "strict",
          "coloraxis": {
           "colorbar": {
            "outlinewidth": 0,
            "ticks": ""
           }
          },
          "colorscale": {
           "diverging": [
            [
             0,
             "#8e0152"
            ],
            [
             0.1,
             "#c51b7d"
            ],
            [
             0.2,
             "#de77ae"
            ],
            [
             0.3,
             "#f1b6da"
            ],
            [
             0.4,
             "#fde0ef"
            ],
            [
             0.5,
             "#f7f7f7"
            ],
            [
             0.6,
             "#e6f5d0"
            ],
            [
             0.7,
             "#b8e186"
            ],
            [
             0.8,
             "#7fbc41"
            ],
            [
             0.9,
             "#4d9221"
            ],
            [
             1,
             "#276419"
            ]
           ],
           "sequential": [
            [
             0,
             "#0d0887"
            ],
            [
             0.1111111111111111,
             "#46039f"
            ],
            [
             0.2222222222222222,
             "#7201a8"
            ],
            [
             0.3333333333333333,
             "#9c179e"
            ],
            [
             0.4444444444444444,
             "#bd3786"
            ],
            [
             0.5555555555555556,
             "#d8576b"
            ],
            [
             0.6666666666666666,
             "#ed7953"
            ],
            [
             0.7777777777777778,
             "#fb9f3a"
            ],
            [
             0.8888888888888888,
             "#fdca26"
            ],
            [
             1,
             "#f0f921"
            ]
           ],
           "sequentialminus": [
            [
             0,
             "#0d0887"
            ],
            [
             0.1111111111111111,
             "#46039f"
            ],
            [
             0.2222222222222222,
             "#7201a8"
            ],
            [
             0.3333333333333333,
             "#9c179e"
            ],
            [
             0.4444444444444444,
             "#bd3786"
            ],
            [
             0.5555555555555556,
             "#d8576b"
            ],
            [
             0.6666666666666666,
             "#ed7953"
            ],
            [
             0.7777777777777778,
             "#fb9f3a"
            ],
            [
             0.8888888888888888,
             "#fdca26"
            ],
            [
             1,
             "#f0f921"
            ]
           ]
          },
          "colorway": [
           "#636efa",
           "#EF553B",
           "#00cc96",
           "#ab63fa",
           "#FFA15A",
           "#19d3f3",
           "#FF6692",
           "#B6E880",
           "#FF97FF",
           "#FECB52"
          ],
          "font": {
           "color": "#2a3f5f"
          },
          "geo": {
           "bgcolor": "white",
           "lakecolor": "white",
           "landcolor": "#E5ECF6",
           "showlakes": true,
           "showland": true,
           "subunitcolor": "white"
          },
          "hoverlabel": {
           "align": "left"
          },
          "hovermode": "closest",
          "mapbox": {
           "style": "light"
          },
          "paper_bgcolor": "white",
          "plot_bgcolor": "#E5ECF6",
          "polar": {
           "angularaxis": {
            "gridcolor": "white",
            "linecolor": "white",
            "ticks": ""
           },
           "bgcolor": "#E5ECF6",
           "radialaxis": {
            "gridcolor": "white",
            "linecolor": "white",
            "ticks": ""
           }
          },
          "scene": {
           "xaxis": {
            "backgroundcolor": "#E5ECF6",
            "gridcolor": "white",
            "gridwidth": 2,
            "linecolor": "white",
            "showbackground": true,
            "ticks": "",
            "zerolinecolor": "white"
           },
           "yaxis": {
            "backgroundcolor": "#E5ECF6",
            "gridcolor": "white",
            "gridwidth": 2,
            "linecolor": "white",
            "showbackground": true,
            "ticks": "",
            "zerolinecolor": "white"
           },
           "zaxis": {
            "backgroundcolor": "#E5ECF6",
            "gridcolor": "white",
            "gridwidth": 2,
            "linecolor": "white",
            "showbackground": true,
            "ticks": "",
            "zerolinecolor": "white"
           }
          },
          "shapedefaults": {
           "line": {
            "color": "#2a3f5f"
           }
          },
          "ternary": {
           "aaxis": {
            "gridcolor": "white",
            "linecolor": "white",
            "ticks": ""
           },
           "baxis": {
            "gridcolor": "white",
            "linecolor": "white",
            "ticks": ""
           },
           "bgcolor": "#E5ECF6",
           "caxis": {
            "gridcolor": "white",
            "linecolor": "white",
            "ticks": ""
           }
          },
          "title": {
           "x": 0.05
          },
          "xaxis": {
           "automargin": true,
           "gridcolor": "white",
           "linecolor": "white",
           "ticks": "",
           "title": {
            "standoff": 15
           },
           "zerolinecolor": "white",
           "zerolinewidth": 2
          },
          "yaxis": {
           "automargin": true,
           "gridcolor": "white",
           "linecolor": "white",
           "ticks": "",
           "title": {
            "standoff": 15
           },
           "zerolinecolor": "white",
           "zerolinewidth": 2
          }
         }
        },
        "title": {
         "text": "Scatter Plot of Age vs. Income"
        },
        "xaxis": {
         "anchor": "y",
         "domain": [
          0,
          1
         ],
         "title": {
          "text": "Age"
         }
        },
        "yaxis": {
         "anchor": "x",
         "domain": [
          0,
          1
         ],
         "title": {
          "text": "Income"
         }
        }
       }
      }
     },
     "metadata": {},
     "output_type": "display_data"
    }
   ],
   "source": [
    "fig = px.scatter(data, x=\"Age\", y=\" Income \", title=\"Scatter Plot of Age vs. Income\", labels={\"Age\": \"Age\", \" Income \": \"Income\"} , color_discrete_sequence=[\"green\"])\n",
    "fig.show()\n"
   ]
  },
  {
   "cell_type": "markdown",
   "metadata": {},
   "source": [
    "Demographic Distribution"
   ]
  },
  {
   "cell_type": "markdown",
   "metadata": {},
   "source": [
    "🔹 توزيع العمر، النوع، الحالة الاجتماعية"
   ]
  },
  {
   "cell_type": "code",
   "execution_count": 35,
   "metadata": {},
   "outputs": [
    {
     "name": "stdout",
     "output_type": "stream",
     "text": [
      "Age Distribution:\n",
      " count    1005.000000\n",
      "mean       44.140299\n",
      "std        11.371892\n",
      "min        25.000000\n",
      "25%        35.000000\n",
      "50%        43.000000\n",
      "75%        52.000000\n",
      "max        89.000000\n",
      "Name: Age, dtype: float64\n",
      "\n",
      "Gender Distribution:\n",
      " Gender\n",
      "male      51.144279\n",
      "female    48.855721\n",
      "Name: proportion, dtype: float64\n",
      "\n",
      "Marital Status Distribution:\n",
      " Marital Status\n",
      "married    53.631841\n",
      "single     46.368159\n",
      "Name: proportion, dtype: float64\n"
     ]
    }
   ],
   "source": [
    "print(\"Age Distribution:\\n\", data['Age'].describe())\n",
    "print(\"\\nGender Distribution:\\n\", data['Gender'].value_counts(normalize=True) * 100)\n",
    "print(\"\\nMarital Status Distribution:\\n\", data['Marital Status'].value_counts(normalize=True) * 100)\n",
    "\n"
   ]
  },
  {
   "cell_type": "markdown",
   "metadata": {},
   "source": [
    "🔹  number of Homeowners vs Non-homeowners:\n",
    "\n"
   ]
  },
  {
   "cell_type": "code",
   "execution_count": 36,
   "metadata": {},
   "outputs": [
    {
     "name": "stdout",
     "output_type": "stream",
     "text": [
      "\n",
      "Home Owner Count:\n",
      " Home Owner\n",
      "1    685\n",
      "0    320\n",
      "Name: count, dtype: int64\n",
      "\n",
      "Home Owner Percentage:\n",
      " Home Owner\n",
      "1    68.159204\n",
      "0    31.840796\n",
      "Name: proportion, dtype: float64\n"
     ]
    }
   ],
   "source": [
    "print(\"\\nHome Owner Count:\\n\", data['Home Owner'].value_counts())\n",
    "print(\"\\nHome Owner Percentage:\\n\", data['Home Owner'].value_counts(normalize=True) * 100)\n"
   ]
  },
  {
   "cell_type": "markdown",
   "metadata": {},
   "source": [
    "🔹 Average income by region:\n"
   ]
  },
  {
   "cell_type": "code",
   "execution_count": 37,
   "metadata": {},
   "outputs": [
    {
     "name": "stdout",
     "output_type": "stream",
     "text": [
      "\n",
      "Average Income by Region:\n",
      " Region\n",
      "Europe           40728.476821\n",
      "North America    62607.843137\n",
      "Pacific          63575.129534\n",
      "Name:  Income , dtype: float64\n"
     ]
    }
   ],
   "source": [
    "print(\"\\nAverage Income by Region:\\n\", data.groupby('Region')[' Income '].mean())"
   ]
  },
  {
   "cell_type": "code",
   "execution_count": 38,
   "metadata": {},
   "outputs": [
    {
     "name": "stdout",
     "output_type": "stream",
     "text": [
      "\n",
      "Most Common Education Level:\n",
      " Education\n",
      "Bachelors    314\n",
      "Name: count, dtype: int64\n",
      "\n",
      "Most Common Occupation:\n",
      " Occupation\n",
      "Professional    278\n",
      "Name: count, dtype: int64\n",
      "\n",
      "Average Number of Cars Owned by Income Level:\n",
      "  Income \n",
      "10000.0     1.041096\n",
      "20000.0     1.133333\n",
      "30000.0     1.156716\n",
      "40000.0     1.129032\n",
      "50000.0     0.875000\n",
      "60000.0     1.263158\n",
      "70000.0     1.483871\n",
      "80000.0     1.666667\n",
      "90000.0     1.589744\n",
      "100000.0    2.724138\n",
      "110000.0    3.250000\n",
      "120000.0    3.166667\n",
      "130000.0    2.937500\n",
      "150000.0    3.500000\n",
      "160000.0    3.000000\n",
      "170000.0    2.000000\n",
      "Name: Cars, dtype: float64\n"
     ]
    }
   ],
   "source": [
    "print(\"\\nMost Common Education Level:\\n\", data['Education'].value_counts().head(1))\n",
    "print(\"\\nMost Common Occupation:\\n\", data['Occupation'].value_counts().head(1))\n",
    "print(\"\\nAverage Number of Cars Owned by Income Level:\\n\", data.groupby(' Income ')['Cars'].mean())\n",
    "\n"
   ]
  },
  {
   "cell_type": "markdown",
   "metadata": {},
   "source": [
    "🔹 Commute Distance and its variability by region\n"
   ]
  },
  {
   "cell_type": "code",
   "execution_count": 39,
   "metadata": {},
   "outputs": [
    {
     "name": "stdout",
     "output_type": "stream",
     "text": [
      "\n",
      "Most Common Commute Distance:\n",
      " Commute Distance\n",
      "0-1 Miles    368\n",
      "Name: count, dtype: int64\n",
      "\n",
      "Commute Distance Distribution by Region:\n",
      " Region\n",
      "Europe            0-1 Miles\n",
      "North America     0-1 Miles\n",
      "Pacific          5-10 Miles\n",
      "Name: Commute Distance, dtype: object\n"
     ]
    }
   ],
   "source": [
    "print(\"\\nMost Common Commute Distance:\\n\", data['Commute Distance'].value_counts().head(1))\n",
    "print(\"\\nCommute Distance Distribution by Region:\\n\", data.groupby('Region')['Commute Distance'].agg(lambda x: x.value_counts().index[0]))\n",
    "#.agg means to apply a function to each group in region , lambda means to apply a function to each group in region , x.value_counts().index[0] means to get the most common value in each group"
   ]
  },
  {
   "cell_type": "code",
   "execution_count": 40,
   "metadata": {},
   "outputs": [
    {
     "name": "stdout",
     "output_type": "stream",
     "text": [
      "\n",
      "Income Stats:\n",
      " mean      56218.905473\n",
      "median    60000.000000\n",
      "std       30806.422999\n",
      "Name:  Income , dtype: float64\n",
      "\n",
      "Age Stats:\n",
      " mean      44.140299\n",
      "median    43.000000\n",
      "std       11.371892\n",
      "Name: Age, dtype: float64\n",
      "\n",
      "Children Stats:\n",
      " mean      1.893532\n",
      "median    2.000000\n",
      "std       1.626354\n",
      "Name: Children, dtype: float64\n"
     ]
    }
   ],
   "source": [
    "print(\"\\nIncome Stats:\\n\", data[' Income '].agg(['mean', 'median', 'std']))\n",
    "print(\"\\nAge Stats:\\n\", data['Age'].agg(['mean', 'median', 'std']))\n",
    "print(\"\\nChildren Stats:\\n\", data['Children'].agg(['mean', 'median', 'std']))\n"
   ]
  },
  {
   "cell_type": "markdown",
   "metadata": {},
   "source": [
    "🔹 How many have more than three children? And what is their average age?\n"
   ]
  },
  {
   "cell_type": "code",
   "execution_count": 41,
   "metadata": {},
   "outputs": [
    {
     "name": "stdout",
     "output_type": "stream",
     "text": [
      "\n",
      "Employees with more than 3 children:\n",
      " 207\n",
      "Average age of people with more than 3 children: 50.47826086956522\n"
     ]
    }
   ],
   "source": [
    "more_than_three = data[data['Children'] > 3] \n",
    "print(\"\\nEmployees with more than 3 children:\\n\",len(more_than_three))\n",
    "print(\"Average age of people with more than 3 children:\", more_than_three['Age'].mean())\n"
   ]
  }
 ],
 "metadata": {
  "kernelspec": {
   "display_name": "Python 3",
   "language": "python",
   "name": "python3"
  },
  "language_info": {
   "codemirror_mode": {
    "name": "ipython",
    "version": 3
   },
   "file_extension": ".py",
   "mimetype": "text/x-python",
   "name": "python",
   "nbconvert_exporter": "python",
   "pygments_lexer": "ipython3",
   "version": "3.11.9"
  }
 },
 "nbformat": 4,
 "nbformat_minor": 2
}
